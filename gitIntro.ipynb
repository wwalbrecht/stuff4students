{
 "cells": [
  {
   "cell_type": "markdown",
   "id": "580b5dab",
   "metadata": {},
   "source": [
    "<a href=\"https://colab.research.google.com/github/wwalbrecht/stuff4students/blob/main/gitIntro.ipynb\" target=\"_parent\"><img src=\"https://colab.research.google.com/assets/colab-badge.svg\" alt=\"Open In Colab\"/></a>"
   ]
  },
  {
   "cell_type": "markdown",
   "id": "6fd932e6",
   "metadata": {},
   "source": [
    "# Nur für die Autoren: Infos zum Stand des Dokuments\n",
    "\n",
    "Todo: Remote synch. hinzufügen\n",
    "Todo: colab testen"
   ]
  },
  {
   "cell_type": "markdown",
   "id": "c8eb7684-f8d6-442d-816b-58e113151bcb",
   "metadata": {},
   "source": [
    "# Git Intro  \n",
    "\n",
    "Zweck diese Jupyter Notebooks: \n",
    "\n",
    "Sie sollen die wichtigsten Kommandos und das Arbeiten mit **git** und **gitlab** kennen lernen.\n",
    "\n",
    "Warum im Jupyter Notebook?\n",
    "\n",
    "Sie können sie Befehle für git auch direkt in einer Konsole (Terminal/Shell/Powershell) eingeben. Im Jupyter Notebook geht das aber einfacher und mit Anleitung. Damit das Kommando vom Jupyter Notebook an die Konsole weitergeleitet wird, muss ein Ausrufezeichen \"!\" davor gestellt werden. Also so: `!git befehltXYZ...` \n",
    "\n",
    "Wir können hier auch direkt unsere Beispiel-Dateien anlegen und ändern. Hintergrund: Das machen wir hier aber nicht mit Kommandos von Windows oder Linux, sondern mit Python -- denn das ist dann Plattform-unabhängig. Nebenbei lernen sie noch, wie einfach das mit Python geht."
   ]
  },
  {
   "cell_type": "markdown",
   "id": "19e47f12",
   "metadata": {},
   "source": [
    "Hier eine Sammlung von Links:\n",
    "\n",
    "[visual-git-guide](https://marklodato.github.io/visual-git-guide/index-de.html)"
   ]
  },
  {
   "cell_type": "markdown",
   "id": "878635c3",
   "metadata": {},
   "source": [
    "## Installation von iplantUML \n",
    "...um Diagramme in diesem Notebook nutzen zu können."
   ]
  },
  {
   "cell_type": "code",
   "execution_count": null,
   "id": "ee798be8",
   "metadata": {},
   "outputs": [],
   "source": [
    "%pip install iplantuml\n",
    "import iplantuml"
   ]
  },
  {
   "cell_type": "code",
   "execution_count": null,
   "id": "d422801c",
   "metadata": {},
   "outputs": [],
   "source": [
    "%%plantuml\n",
    "@startuml\n",
    "title States of a File\n",
    "\n",
    "[*] --> Unmodified\n",
    "\n",
    "Unmodified --> Modified : save_file\n",
    "Modified --> Staged : git add\n",
    "Staged --> Unmodified : git commit\n",
    "\n",
    "Unmodified :\n",
    "Modified : \n",
    "Staged :\n",
    "\n",
    "@enduml"
   ]
  },
  {
   "cell_type": "markdown",
   "id": "3cf62ac6-fc77-432a-91ad-f4dda42be9e4",
   "metadata": {},
   "source": [
    "# Installation von git auf ihrem PC\n",
    "\n",
    "...die ist leider Plattform-abhängig; wählen sie Ihre!\n",
    "\n",
    "### Auf Windows\n",
    "- Laden Sie den Git-Installer für Windows herunter https://gitforwindows.org/\n",
    "- Führen Sie den heruntergeladenen Installer aus und folge den Anweisungen im Installationsassistenten.\n",
    "- Öffnen Sie das Git Bash-Terminal (oder die Eingabeaufforderung/PowerShell) und überprüfen Sie die Installation:"
   ]
  },
  {
   "cell_type": "code",
   "execution_count": null,
   "id": "6cb667ba-a05b-4cb5-970e-6cf7cc860033",
   "metadata": {},
   "outputs": [],
   "source": [
    "!git --version"
   ]
  },
  {
   "cell_type": "markdown",
   "id": "79cc1db3-5ab5-42dc-bac1-9f14674bdf3c",
   "metadata": {},
   "source": [
    "### Auf Linux  \n",
    "- Öffnen Sie das Terminal.\n",
    "- Aktualisieren Sie die Paketliste Ihres Systems:"
   ]
  },
  {
   "cell_type": "code",
   "execution_count": null,
   "id": "30aec525-a5f5-4c86-9dbf-621c0c4c1c08",
   "metadata": {
    "scrolled": true
   },
   "outputs": [],
   "source": [
    "!sudo apt-get update"
   ]
  },
  {
   "cell_type": "markdown",
   "id": "62576642-734e-43c4-acc0-50e2a78b7afa",
   "metadata": {},
   "source": [
    "- Installieren Sie Git:"
   ]
  },
  {
   "cell_type": "code",
   "execution_count": null,
   "id": "581f4f87-fdd1-4af1-9502-1afcd5b8975b",
   "metadata": {
    "scrolled": true
   },
   "outputs": [],
   "source": [
    "!sudo apt-get install git -y"
   ]
  },
  {
   "cell_type": "markdown",
   "id": "1aac0b26-4313-42eb-8285-91e2dfe42c46",
   "metadata": {},
   "source": [
    "- Überprüfen Sie die Installation:"
   ]
  },
  {
   "cell_type": "code",
   "execution_count": null,
   "id": "914b5aa0-6ca8-43eb-9243-07fb5a814e01",
   "metadata": {},
   "outputs": [],
   "source": [
    "!git --version"
   ]
  },
  {
   "cell_type": "markdown",
   "id": "f6da796a-f39b-463f-8a55-c677d4c3d004",
   "metadata": {},
   "source": [
    "### Auf macOS:\n",
    "- Öffnen Sie das Terminal.\n",
    "- Installieren Sie Xcode Command Line Tools "
   ]
  },
  {
   "cell_type": "code",
   "execution_count": null,
   "id": "bca8adca-8aac-4849-b120-551275265e6d",
   "metadata": {},
   "outputs": [],
   "source": [
    "!xcode-select --install"
   ]
  },
  {
   "cell_type": "markdown",
   "id": "3aaed702-d6bc-4871-bc1d-e634e93a88a6",
   "metadata": {},
   "source": [
    "- Installieren Sie Git mit Homebrew (falls Homebrew installiert ist):"
   ]
  },
  {
   "cell_type": "code",
   "execution_count": null,
   "id": "a2b42295-d70f-4457-98a8-64912f526972",
   "metadata": {},
   "outputs": [],
   "source": [
    "!brew install git"
   ]
  },
  {
   "cell_type": "markdown",
   "id": "0619eb76-ae21-4f26-b18c-3e658998ff18",
   "metadata": {},
   "source": [
    "- Überprüfen Sie die Installation:"
   ]
  },
  {
   "cell_type": "code",
   "execution_count": null,
   "id": "2b1ac981-3406-4dc8-9515-29dc94650a79",
   "metadata": {},
   "outputs": [],
   "source": [
    "!git --version"
   ]
  },
  {
   "cell_type": "markdown",
   "id": "6215dc69-ea79-4a8a-98bc-20b1bb37a5ae",
   "metadata": {},
   "source": [
    "#### Falls Homebrew nicht installiert ist, dann folgen Sie folgende Schritte, um es zu installieren.  \n",
    "- Öffnen Sie das Terminal\n",
    "- Installieren Sie Homebrew mit folgendem Befehl:"
   ]
  },
  {
   "cell_type": "code",
   "execution_count": null,
   "id": "c38b4857-bfd7-4f49-8311-e0d34e97dbca",
   "metadata": {},
   "outputs": [],
   "source": [
    "!/bin/bash -c \"$(curl -fsSL https://raw.githubusercontent.com/Homebrew/install/HEAD/install.sh)\""
   ]
  },
  {
   "cell_type": "markdown",
   "id": "9292effb-269b-468e-8e64-c60198cbf387",
   "metadata": {},
   "source": [
    "- Folgen Sie den Anweisungen im Installationsassistenten."
   ]
  },
  {
   "cell_type": "markdown",
   "id": "f16aa9e8-75d6-43c2-85f0-2892bc5630ad",
   "metadata": {},
   "source": [
    "# Erste Schritte mit Git  \n",
    "\n",
    "Vorarbeiten: Ordner erstellen und in das Verzeichnis wechseln:"
   ]
  },
  {
   "cell_type": "code",
   "execution_count": null,
   "id": "7dc23240-ed43-4ce2-8ff0-459df2ad0eab",
   "metadata": {
    "scrolled": true
   },
   "outputs": [],
   "source": [
    "import os\n",
    "# for info only: get the current working directory and its content:\n",
    "print( os.getcwd())\n",
    "print( os.listdir())\n",
    "\n",
    "my_proj_folder= \"mein_projekt\"\n",
    "if not os.path.exists(my_proj_folder):\n",
    "    os.mkdir(my_proj_folder)\n",
    "\n",
    "os.chdir(my_proj_folder)\n",
    "print( os.getcwd())\n",
    "print( os.listdir())\n",
    "\n"
   ]
  },
  {
   "cell_type": "markdown",
   "id": "d0f14db4",
   "metadata": {},
   "source": [
    "### git init: Git-Repository initialisieren:"
   ]
  },
  {
   "cell_type": "code",
   "execution_count": null,
   "id": "91420b55-55b5-48aa-bb3d-56e5e8baa1df",
   "metadata": {},
   "outputs": [],
   "source": [
    "!git init"
   ]
  },
  {
   "cell_type": "code",
   "execution_count": null,
   "id": "20a7fca9",
   "metadata": {},
   "outputs": [],
   "source": [
    "# The repository is inside an (hidden) folder called '.git' of the current working directory. Let's see it:\n",
    "print( os.getcwd())\n",
    "print( os.listdir())"
   ]
  },
  {
   "cell_type": "markdown",
   "id": "f6b95fa4",
   "metadata": {},
   "source": [
    "Sie können das '.git' Verzeichnis auch gerne mit ihrem Datei-Explorer einmal genauer ansehen; auch z.B. die Datei namens \"HEAD\" darin. ABER ändern sie nichts \"hinten herum\" an den Verwaltungsdaten von git !!!"
   ]
  },
  {
   "cell_type": "markdown",
   "id": "97954a3e-4ff5-4c1f-bdb4-9de6c3ea2135",
   "metadata": {},
   "source": [
    "### Datei erstellen und hinzufügen:\n",
    "...noch eine Vorarbeit..."
   ]
  },
  {
   "cell_type": "code",
   "execution_count": null,
   "id": "231bc87f-c3f5-4248-b3f4-a2233255425e",
   "metadata": {},
   "outputs": [],
   "source": [
    "file1 = open(\"meine_datei.txt\", \"w\") # \"w\" for overwrite, \"a\" for appending -- if already existend\n",
    "file1.write(\"Hello\")\n",
    "file1.close()\n"
   ]
  },
  {
   "cell_type": "code",
   "execution_count": null,
   "id": "3d6235e5",
   "metadata": {},
   "outputs": [],
   "source": [
    "# Check file content:\n",
    "file1 = open(\"meine_datei.txt\",\"r\") \n",
    "print( file1.read())\n",
    "file1.close()"
   ]
  },
  {
   "cell_type": "markdown",
   "id": "42c4bee7-1b54-4fbe-b6c2-497e9bbd6f02",
   "metadata": {},
   "source": [
    "AUFGABE: Fügen Sie einige Inhalte zur Datei hinzu und speichern Sie. Öffnen Sie die Datei dazu auch gerne in einem Texteditor."
   ]
  },
  {
   "cell_type": "markdown",
   "id": "3bd1d927",
   "metadata": {},
   "source": [
    "### git status\n",
    "\n",
    "Immer wieder nach dem aktuellen Zustand sehen (und dabei ggf. sogar Tipps von git bekommen...):"
   ]
  },
  {
   "cell_type": "code",
   "execution_count": null,
   "id": "da809863",
   "metadata": {},
   "outputs": [],
   "source": [
    "!git status"
   ]
  },
  {
   "cell_type": "markdown",
   "id": "21cf72de",
   "metadata": {},
   "source": [
    "### git add"
   ]
  },
  {
   "cell_type": "code",
   "execution_count": null,
   "id": "e832638f",
   "metadata": {},
   "outputs": [],
   "source": [
    "!git add meine_datei.txt"
   ]
  },
  {
   "cell_type": "markdown",
   "id": "b3dda3f4-0e2e-4a0c-bae7-4ec39bb10bc7",
   "metadata": {},
   "source": [
    "### git commit  \n",
    "- Commit erstellen, also erste Version (aktueller Stand) der Datei(en) im Repo. sichern."
   ]
  },
  {
   "cell_type": "code",
   "execution_count": null,
   "metadata": {},
   "outputs": [],
   "source": [
    "!git commit -m \"Ihre Commit-Message (ihre Änderungen) zur Info für das Team.\""
   ]
  },
  {
   "cell_type": "markdown",
   "id": "2e33dc75",
   "metadata": {},
   "source": [
    "Eine Datei hat aus der Sicht von git unterschiedliche Zustände. Mit den Befehlen, welchseln sie den Zustand. \n",
    "\n",
    "*(Falls das Diagramm nicht angezeigt wird, müssen sie noch die Intialisierung für plantUML oben im Dokument nachholen.)*"
   ]
  },
  {
   "cell_type": "code",
   "execution_count": null,
   "id": "56141ee0",
   "metadata": {},
   "outputs": [],
   "source": [
    "%%plantuml\n",
    "@startuml\n",
    "title States of a File\n",
    "\n",
    "[*] --> Unmodified\n",
    "\n",
    "Unmodified --> Modified : save_file_with_changes\n",
    "Modified --> Staged : git add\n",
    "Staged --> Unmodified : git commit\n",
    "\n",
    "Unmodified : (synchronized local repository)\n",
    "Modified : \n",
    "Staged :\n",
    "\n",
    "@enduml"
   ]
  },
  {
   "cell_type": "markdown",
   "id": "ff795108",
   "metadata": {},
   "source": [
    "Dieser Zyklus wird für jede (kleinere oder größere) Änderung immer wieder durchlaufen. \n",
    "\n",
    "Jeder commit wird dabei mit einer (sehr langen) eindeutigen ID gekennzeichnet (dem sogenannten SHA-1 Hash).\n",
    "\n",
    "Wie in folgenden Diagramm wird oft nur der Anfang der ID benötigt, um die verschiedenen Commits auseinander zu halten.\n",
    "(Für jedes Wort das in einer Datei geändert wird, nutzt man natürlich nicht immer ein commit.)"
   ]
  },
  {
   "cell_type": "code",
   "execution_count": null,
   "id": "15bb05f9",
   "metadata": {},
   "outputs": [],
   "source": [
    "%%plantuml\n",
    "@startuml\n",
    "left to right direction\n",
    "\n",
    "[*] --> empty_file\n",
    "empty_file --> commit_16b3c : append \"Hello\", commit\n",
    "commit_16b3c --> commit_28r98 : append \" World\", commit\n",
    "commit_28r98 --> commit_79e4r : append \" !\", commit\n",
    "\n",
    "empty_file : \n",
    "commit_16b3c : Hello\n",
    "commit_28r98 : Hello World\n",
    "commit_79e4r : Hello World !\n",
    "\n",
    "note bottom of commit_79e4r: HEAD of 'main' branch\n",
    "\n",
    "@enduml"
   ]
  },
  {
   "cell_type": "code",
   "execution_count": null,
   "id": "6b1894f2",
   "metadata": {},
   "outputs": [],
   "source": [
    "file1 = open(\"meine_datei.txt\", \"a\") # \"w\" for overwrite, \"a\" for appending -- if already existend\n",
    "file1.write(\" World !\") # avoid extra commit for '!'\n",
    "file1.close()"
   ]
  },
  {
   "cell_type": "code",
   "execution_count": null,
   "id": "48dc797a",
   "metadata": {},
   "outputs": [],
   "source": [
    "!git add .\n",
    "!git commit -m \"Completed the frist line\""
   ]
  },
  {
   "cell_type": "markdown",
   "id": "75e4ed7b-577d-4e83-8744-6b2867da7514",
   "metadata": {},
   "source": [
    "### git log\n",
    "- Infos zum Commit anzeigen; vgl. auch git status von oben "
   ]
  },
  {
   "cell_type": "code",
   "execution_count": null,
   "id": "4413a2cd",
   "metadata": {},
   "outputs": [],
   "source": [
    "!git log\n",
    "#!git log --oneline  #kompakter"
   ]
  },
  {
   "cell_type": "markdown",
   "id": "f0acf26b",
   "metadata": {},
   "source": [
    "## git diff\n",
    "\n",
    "Wie können sie im Nachhinein den Unterschied zwischen zwei Commits nachsehen?\n",
    "\n",
    "Eine gute Aufgabe für die Commit IDs (bzw. ihre Anfangszeichen): ....\n",
    "\n",
    "Geben sie die ersten Zeichen eines bei *git log* eben angezeigten commits an. (Wenn sie es mit dem HEAD vergleichen wollen.)"
   ]
  },
  {
   "cell_type": "code",
   "execution_count": null,
   "id": "a095f2d0",
   "metadata": {},
   "outputs": [],
   "source": [
    "!git diff e4beb8 "
   ]
  },
  {
   "cell_type": "markdown",
   "id": "34c7fa12",
   "metadata": {},
   "source": [
    "...zugegeben: Auf den ersten Blick ist das nicht sehr übersichtlich. Sie können sich daran gewöhnen oder später bessere Darstellungen nutzen."
   ]
  },
  {
   "cell_type": "markdown",
   "id": "36ac4671",
   "metadata": {},
   "source": [
    "## TODO \n",
    "\n",
    "Checkout auch schon für alten Commit nutzbar. Vorsicht Gefahr, falls dann darauf geändert wird. Optionen: (a) force oder (b) branch erstellen (später)  Wichtig: Das wird später auch beim HandsOn-Training im Kurs benutzt! "
   ]
  },
  {
   "cell_type": "markdown",
   "id": "f37c1a60",
   "metadata": {},
   "source": [
    "## AUFGABE\n",
    "\n",
    "AUFGABE: Ändern sie den Date-Inhalt (in ihrem Editor) und machen ein neues Commit. Den Code dazu können sie hier unterbringen. (Oder sie arbeiten auf einem Terminal -- dann achten sie aber darauf, dass sie sich im richtigen Verzeichnis befinden.)  "
   ]
  },
  {
   "cell_type": "code",
   "execution_count": null,
   "id": "f440f905",
   "metadata": {},
   "outputs": [],
   "source": [
    "!git ..."
   ]
  },
  {
   "cell_type": "markdown",
   "id": "946342cf",
   "metadata": {},
   "source": [
    "AUFGABE: Legen sie eine weitere Datei an und fügen sie zum Repo. hinzu. "
   ]
  },
  {
   "cell_type": "code",
   "execution_count": null,
   "id": "b93f5574",
   "metadata": {},
   "outputs": [],
   "source": [
    "!git ..."
   ]
  },
  {
   "cell_type": "markdown",
   "id": "a68a3717",
   "metadata": {},
   "source": [
    "\n"
   ]
  },
  {
   "cell_type": "markdown",
   "id": "214189ed",
   "metadata": {},
   "source": [
    "Erstellen sie auch wieder commits und sehen sich den log und diff an. \n",
    "\n",
    "Zusatzfrage: Erkennen sie, dass ein commit immer für alle Dateien gilt, auch wenn nur eine gerade geändert wurde?"
   ]
  },
  {
   "cell_type": "markdown",
   "id": "75e4ed7b-577d-4e83-8744-6b2867da7514",
   "metadata": {},
   "source": [
    "### GitLab-Projekt erstellen:\n",
    "- Gehen Sie zu GitLab (https://gitlab.com/) und loggen Sie sich ein.\n",
    "- Erstellen Sie ein neues Projekt.\n",
    "\n",
    "### Repository mit GitLab verknüpfen:  \n",
    "- Fügen Sie den GitLab-Remote hinzu:\n",
    "- Hinweis: Ersetzen Sie IHRE_GITLAB_REPO_URL durch die URL Ihres GitLab-Projekts."
   ]
  },
  {
   "cell_type": "code",
   "execution_count": null,
   "id": "9105d9d7-176c-4f80-b778-49a8e8dd719d",
   "metadata": {},
   "outputs": [],
   "source": [
    "!git remote add origin IHRE_GITLAB_REPO_URL"
   ]
  },
  {
   "cell_type": "markdown",
   "id": "9105d9d7-176c-4f80-b778-49a8e8dd719d",
   "metadata": {},
   "source": [
    "- PusheN Sie das Repository zu GitLab:\n",
    "- Hinweis: Hierbei könnte es sein, dass Sie sich mit Ihrem GitLab-Anmeldeinformationen authentifizieren mussen."
   ]
  },
  {
   "cell_type": "code",
   "execution_count": null,
   "id": "47b251b3-c528-4927-971a-462ad0797ecf",
   "metadata": {},
   "outputs": [],
   "source": [
    "!git push -u origin master"
   ]
  },
  {
   "cell_type": "markdown",
   "id": "cfa1b824",
   "metadata": {},
   "source": [
    "# Weiteres"
   ]
  },
  {
   "cell_type": "markdown",
   "id": "93bbe0e2",
   "metadata": {},
   "source": [
    "## git branch\n",
    "\n",
    "Benötigen Sie (vorübergehend) zwei Entwicklungspfade? \n",
    "\n",
    "...für zwei unterschiedliche Features, die sie in ihre Software einbauen möchten? \n",
    "\n",
    "...womöglich von zwei unterschiedlichen Team-Mitgliedern?\n",
    "\n",
    "Dann ist es Zeit für Branches!"
   ]
  },
  {
   "cell_type": "code",
   "execution_count": null,
   "id": "465691f8",
   "metadata": {},
   "outputs": [],
   "source": [
    "%%plantuml\n",
    "@startuml\n",
    "left to right direction\n",
    "\n",
    "[*] --> empty_file\n",
    "empty_file --> commit_16b3c \n",
    "commit_16b3c --> commit_28r98 \n",
    "commit_28r98 --> commit_79e4r \n",
    "commit_16b3c --> commit_2b345 \n",
    "commit_2b345 --> commit_3r5a2\n",
    "\n",
    "\n",
    "empty_file : \n",
    "commit_16b3c : Hello\n",
    "commit_28r98 : Hello World\n",
    "commit_79e4r : Hello World !\n",
    "\n",
    "commit_2b345 : Hello Git\n",
    "commit_3r5a2 : Hello Git and \n",
    "\n",
    "\n",
    "note bottom of commit_79e4r: HEAD of 'main' branch\n",
    "note bottom of commit_3r5a2: HEAD of 'mybranch1' branch\n",
    "\n",
    "\n",
    "@enduml"
   ]
  },
  {
   "cell_type": "markdown",
   "id": "069deebe",
   "metadata": {},
   "source": [
    "TODO:  branch erstellen! "
   ]
  },
  {
   "cell_type": "code",
   "execution_count": null,
   "id": "13d3addb",
   "metadata": {},
   "outputs": [],
   "source": [
    "# List all branches\n",
    "!git branch"
   ]
  },
  {
   "cell_type": "code",
   "execution_count": null,
   "id": "a52b4022",
   "metadata": {},
   "outputs": [],
   "source": [
    "# Switch to the branch we want to merge changes into\n",
    "!git checkout main"
   ]
  },
  {
   "cell_type": "code",
   "execution_count": null,
   "id": "0a4579f9",
   "metadata": {},
   "outputs": [],
   "source": [
    "# Merge the 'feature' branch into the 'main' branch\n",
    "!git merge feature"
   ]
  },
  {
   "cell_type": "code",
   "execution_count": null,
   "id": "b78b0309",
   "metadata": {},
   "outputs": [],
   "source": [
    "# After resolving conflicts, commit the merge\n",
    "!git log"
   ]
  },
  {
   "cell_type": "code",
   "execution_count": null,
   "id": "f372b01d",
   "metadata": {},
   "outputs": [],
   "source": [
    "# Delete the 'feature' branch\n",
    "!git branch -d feature"
   ]
  },
  {
   "cell_type": "markdown",
   "id": "22fc2363-e730-457f-8400-8a676f8eb830",
   "metadata": {},
   "source": [
    "## Überprüfen:\n",
    "- Gehen Sie zu Ihrem GitLab-Projekt und überprüfen Sie, ob die Datei erfolgreich hochgeladen wurde.\n",
    "\n",
    "TODO: Bitte in kleineren Schritten und mit möglichst vielen vorgegeben Befehlen ....danach erst Wiederholung mit weiterem Beispiel in einer Aufgabe."
   ]
  },
  {
   "cell_type": "markdown",
   "id": "22fc2363-e730-457f-8400-8a676f8eb830",
   "metadata": {},
   "source": [
    "### Überprüfen der Unterschiede:  \n",
    "- Sie können nun den Befehl `git diff` verwenden, um die Unterschiede zwischen der lokalen Version und der Remote-Version anzuzeigen."
   ]
  },
  {
   "cell_type": "code",
   "execution_count": null,
   "id": "b994913e-fef4-4acd-ac44-5fa4e41065ee",
   "metadata": {},
   "outputs": [],
   "source": [
    "!git diff origin/master meine_datei.txt"
   ]
  },
  {
   "cell_type": "markdown",
   "id": "8262996b-0232-4acc-a708-ecd66fa5f0aa",
   "metadata": {},
   "source": [
    "Wenn keine Ausgabe angezeigt ==> die lokale Version mit der Remote-Version übereinstimmt.  \n",
    "Wenn Änderungen vorhanden ==> git diff zeigt die Unterschiede zwischen den beiden Versionen an."
   ]
  },
  {
   "cell_type": "markdown",
   "id": "8262996b-0232-4acc-a708-ecd66fa5f0aa",
   "metadata": {},
   "source": [
    "- Alternativ können Sie auch den Befehl `git status` verwenden, um den Status Ihres Arbeitsverzeichnisses anzuzeigen, und feststellen, ob Änderungen vorliegen."
   ]
  },
  {
   "cell_type": "code",
   "execution_count": null,
   "id": "0284bb5b-0d64-4581-964f-f62c737fb0c8",
   "metadata": {},
   "outputs": [],
   "source": [
    "!git status"
   ]
  },
  {
   "cell_type": "markdown",
   "id": "0284bb5b-0d64-4581-964f-f62c737fb0c8",
   "metadata": {},
   "source": [
    "### Zwischen verschiedenen Versionen (Commits) in einem Git-Repository zu wechseln  \n",
    "#### Zu einem bestimmten Commit wechseln:"
   ]
  },
  {
   "cell_type": "code",
   "execution_count": null,
   "id": "c98a6378-7aa2-4b97-ad3d-560d71627c27",
   "metadata": {},
   "outputs": [],
   "source": [
    "!git checkout COMMIT_HASH // Oder !git switch COMMIT_HASH"
   ]
  },
  {
   "cell_type": "markdown",
   "id": "babd083c-dcd2-4f13-8d92-a01b1d4323e0",
   "metadata": {},
   "source": [
    "Ersetzen Sie COMMIT_HASH durch die tatsächliche Commit-Hash-Zeichenfolge, die Sie wechseln möchten. Sie können den Commit-Hash aus dem git log-Befehl oder aus der Git-Web-Oberfläche extrahieren.  \n",
    "Hinweis:  \n",
    "`git log`, dieser Befehl zeigt eine Liste der jüngsten Commits an, wobei jeder Commit von einem Hash begleitet wird. Der neueste Commit steht oben. Sie können den Hash des gewünschten Commits kopieren und dann für den git checkout- oder git switch-Befehl verwenden."
   ]
  },
  {
   "cell_type": "markdown",
   "id": "babd083c-dcd2-4f13-8d92-a01b1d4323e0",
   "metadata": {},
   "source": [
    "#### Zu einem bestimmten Branch wechseln:"
   ]
  },
  {
   "cell_type": "code",
   "execution_count": null,
   "id": "2e180bd0-d237-4ca1-b2a3-433f7a272510",
   "metadata": {},
   "outputs": [],
   "source": [
    "!git checkout BRANCH_NAME //oder !git switch BRANCH_NAME"
   ]
  },
  {
   "cell_type": "markdown",
   "id": "e309d3f1-2940-43f1-8eed-cb9d25d9d313",
   "metadata": {},
   "source": [
    "Ersetzen Sie BRANCH_NAME durch den Namen des Zweigs, zu dem Sie wechseln möchten."
   ]
  },
  {
   "cell_type": "markdown",
   "id": "e309d3f1-2940-43f1-8eed-cb9d25d9d313",
   "metadata": {},
   "source": [
    "#### Zum vorherigen Commit zurückkehren:"
   ]
  },
  {
   "cell_type": "code",
   "execution_count": null,
   "id": "aed2ce75-6765-4176-8b93-0ad648d9dc72",
   "metadata": {},
   "outputs": [],
   "source": [
    "!git checkout - //oder !git switch -"
   ]
  },
  {
   "cell_type": "markdown",
   "id": "aed2ce75-6765-4176-8b93-0ad648d9dc72",
   "metadata": {},
   "source": [
    "#### Zum neuesten Commit auf dem aktuellen Branch zurückkehren:"
   ]
  },
  {
   "cell_type": "code",
   "execution_count": null,
   "id": "a1521c6a-2a26-4c6e-be21-4c0ae540f323",
   "metadata": {},
   "outputs": [],
   "source": [
    "!git checkout HEAD //oder git switch HEAD"
   ]
  },
  {
   "cell_type": "markdown",
   "id": "a1521c6a-2a26-4c6e-be21-4c0ae540f323",
   "metadata": {},
   "source": [
    "#### Eine Datei in einem bestimmten Commit wiederherstellen:"
   ]
  },
  {
   "cell_type": "code",
   "execution_count": null,
   "id": "2255f662-9d13-4f14-bf7b-67bb86159f42",
   "metadata": {},
   "outputs": [],
   "source": [
    "!git checkout COMMIT_HASH -- dateiname //oder git switch COMMIT_HASH -- dateiname"
   ]
  },
  {
   "cell_type": "markdown",
   "id": "8f4e293c-4893-4244-a8c1-2a1f677689e0",
   "metadata": {},
   "source": [
    "# Testaufgabe\n",
    "- Erstellen Sie durch das Terminal eine Repo bzw. ein Projekt namens Git_Projekt.\n",
    "- Wechseln Sie zum erstellten Ordner.\n",
    "- Erstellen Sie eine Datei mit dem Inhalt \"Hallo!\".\n",
    "- Erstellen Sie ein Projekt auf GitLab.\n",
    "- Verbinden Sie Ihre lokale Repo mit Ihrem Projekt auf GitLab.\n",
    "- Durch Git laden Sie die erstellte Datei auf GitLab hoch.\n",
    "- Ändern Sie den Inhalt der Datei zu \"Meine zweite commit\" .\n",
    "- Fragen Sie den Unterschied zwischen lokaler und remoter Repo.\n",
    "- Fragen Sie den status.\n",
    "- Laden Sie die neu geänderte Datei hoch.\n",
    "- Wechseln Sie zur ersten Version.\n",
    "- Wechseln Sie zurück zum neusten Version."
   ]
  }
 ],
 "metadata": {
  "kernelspec": {
   "display_name": "Python 3",
   "language": "python",
   "name": "python3"
  },
  "language_info": {
   "codemirror_mode": {
    "name": "ipython",
    "version": 3
   },
   "file_extension": ".py",
   "mimetype": "text/x-python",
   "name": "python",
   "nbconvert_exporter": "python",
   "pygments_lexer": "ipython3",
   "version": "3.11.7"
  }
 },
 "nbformat": 4,
 "nbformat_minor": 5
}
