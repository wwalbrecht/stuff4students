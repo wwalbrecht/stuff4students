{
 "cells": [
  {
   "cell_type": "markdown",
   "id": "580b5dab",
   "metadata": {},
   "source": [
    "<a href=\"https://colab.research.google.com/github/wwalbrecht/stuff4students/blob/main/gitIntro.ipynb\" target=\"_parent\"><img src=\"https://colab.research.google.com/assets/colab-badge.svg\" alt=\"Open In Colab\"/></a>"
   ]
  },
  {
   "cell_type": "markdown",
   "id": "c8eb7684-f8d6-442d-816b-58e113151bcb",
   "metadata": {},
   "source": [
    "# Intro  "
   ]
  },
  {
   "cell_type": "markdown",
   "id": "52d4c225",
   "metadata": {},
   "source": [
    "Zweck diese Jupyter Notebooks: \n",
    "\n",
    "Sie sollen die wichtigsten Kommandos und das Arbeiten mit **git** und **gitlab** kennen lernen. Es geht hier nicht darum, alle Möglichkeiten und die vielen Optionen und Parameter bei den Befehlen zu besprechen.\n",
    "\n",
    "Warum im Jupyter Notebook?\n",
    "\n",
    "Sie können sie Befehle für git auch direkt in einer Konsole (Terminal/Shell/Powershell) eingeben. Im Jupyter Notebook geht das aber einfacher und mit Anleitung. Damit das Kommando vom Jupyter Notebook an die Konsole weitergeleitet wird, muss ein Ausrufezeichen \"!\" davor gestellt werden. Also so: `!git befehltXYZ...` \n",
    "\n",
    "Wir können hier auch direkt unsere Beispiel-Dateien anlegen und ändern. Hintergrund: Das machen wir hier aber nicht mit Kommandos von Windows oder Linux, sondern mit Python -- denn das ist dann Plattform-unabhängig. Nebenbei lernen sie noch, wie einfach das mit Python geht."
   ]
  },
  {
   "cell_type": "markdown",
   "id": "19e47f12",
   "metadata": {},
   "source": [
    "Hier eine Sammlung von Links:\n",
    "\n",
    "[visual-git-guide](https://marklodato.github.io/visual-git-guide/index-de.html)"
   ]
  },
  {
   "cell_type": "markdown",
   "id": "0c1774a4",
   "metadata": {},
   "source": [
    "## Nur für die Autoren: Infos zum Stand des Dokuments\n",
    "\n",
    "Todo: merge  von Hand oder mit Tool\n"
   ]
  },
  {
   "cell_type": "markdown",
   "id": "3cf62ac6-fc77-432a-91ad-f4dda42be9e4",
   "metadata": {},
   "source": [
    "# Install"
   ]
  },
  {
   "cell_type": "markdown",
   "id": "d7b238d6",
   "metadata": {},
   "source": [
    "Die lokale Installation von git ist leider Plattform-abhängig.\n",
    "\n",
    "Sie können auch die nächste Zelle direkt ausprobieren, vielleicht ist bei ihnen git schon bereit...\n",
    "\n",
    "Bevor sie unten die Anleitungen für die verschiedenen Plattform finden, installieren sie am besten direkt auch das Tool iplantUML unten."
   ]
  },
  {
   "cell_type": "code",
   "execution_count": null,
   "id": "7558e124",
   "metadata": {},
   "outputs": [],
   "source": [
    "!git --version"
   ]
  },
  {
   "cell_type": "markdown",
   "id": "b04dae73",
   "metadata": {},
   "source": [
    "### Installation von iplantUML \n",
    "...um Diagramme in diesem Notebook nutzen zu können."
   ]
  },
  {
   "cell_type": "code",
   "execution_count": null,
   "id": "8d47a2cf",
   "metadata": {},
   "outputs": [],
   "source": [
    "%pip install iplantuml\n",
    "import iplantuml"
   ]
  },
  {
   "cell_type": "code",
   "execution_count": 2,
   "id": "90a217fa",
   "metadata": {},
   "outputs": [
    {
     "data": {
      "image/svg+xml": [
       "<svg xmlns=\"http://www.w3.org/2000/svg\" xmlns:xlink=\"http://www.w3.org/1999/xlink\" contentStyleType=\"text/css\" height=\"434px\" preserveAspectRatio=\"none\" style=\"width:224px;height:434px;background:#FFFFFF;\" version=\"1.1\" viewBox=\"0 0 224 434\" width=\"224px\" zoomAndPan=\"magnify\"><defs/><g><text fill=\"#000000\" font-family=\"sans-serif\" font-size=\"14\" font-weight=\"bold\" lengthAdjust=\"spacing\" textLength=\"124\" x=\"43\" y=\"22.9951\">States of a File</text><ellipse cx=\"117\" cy=\"53.2969\" fill=\"#222222\" rx=\"10\" ry=\"10\" style=\"stroke:#222222;stroke-width:1.0;\"/><g id=\"Unmodified\"><rect fill=\"#F1F1F1\" height=\"50.2656\" rx=\"12.5\" ry=\"12.5\" style=\"stroke:#181818;stroke-width:0.5;\" width=\"102\" x=\"66\" y=\"124.2969\"/><line style=\"stroke:#181818;stroke-width:0.5;\" x1=\"66\" x2=\"168\" y1=\"150.5938\" y2=\"150.5938\"/><text fill=\"#000000\" font-family=\"sans-serif\" font-size=\"14\" lengthAdjust=\"spacing\" textLength=\"82\" x=\"76\" y=\"142.292\">Unmodified</text><text fill=\"#000000\" font-family=\"sans-serif\" font-size=\"12\" lengthAdjust=\"spacing\" textLength=\"4\" x=\"71\" y=\"166.7324\"> </text></g><g id=\"Modified\"><rect fill=\"#F1F1F1\" height=\"50.2656\" rx=\"12.5\" ry=\"12.5\" style=\"stroke:#181818;stroke-width:0.5;\" width=\"82\" x=\"7\" y=\"251.2969\"/><line style=\"stroke:#181818;stroke-width:0.5;\" x1=\"7\" x2=\"89\" y1=\"277.5938\" y2=\"277.5938\"/><text fill=\"#000000\" font-family=\"sans-serif\" font-size=\"14\" lengthAdjust=\"spacing\" textLength=\"62\" x=\"17\" y=\"269.292\">Modified</text><text fill=\"#000000\" font-family=\"sans-serif\" font-size=\"12\" lengthAdjust=\"spacing\" textLength=\"4\" x=\"12\" y=\"293.7324\"> </text></g><g id=\"Staged\"><rect fill=\"#F1F1F1\" height=\"50.2656\" rx=\"12.5\" ry=\"12.5\" style=\"stroke:#181818;stroke-width:0.5;\" width=\"71\" x=\"78.5\" y=\"378.2969\"/><line style=\"stroke:#181818;stroke-width:0.5;\" x1=\"78.5\" x2=\"149.5\" y1=\"404.5938\" y2=\"404.5938\"/><text fill=\"#000000\" font-family=\"sans-serif\" font-size=\"14\" lengthAdjust=\"spacing\" textLength=\"51\" x=\"88.5\" y=\"396.292\">Staged</text><text fill=\"#000000\" font-family=\"sans-serif\" font-size=\"12\" lengthAdjust=\"spacing\" textLength=\"4\" x=\"83.5\" y=\"420.7324\"> </text></g><!--link *start* to Unmodified--><g id=\"link_*start*_Unmodified\"><path d=\"M117,63.3099 C117,77.1879 117,98.2619 117,118.1369 \" fill=\"none\" id=\"*start*-to-Unmodified\" style=\"stroke:#181818;stroke-width:1.0;\"/><polygon fill=\"#181818\" points=\"117,124.1369,121,115.1369,117,119.1369,113,115.1369,117,124.1369\" style=\"stroke:#181818;stroke-width:1.0;\"/></g><!--link Unmodified to Modified--><g id=\"link_Unmodified_Modified\"><path d=\"M95.0957,174.3749 C87.7138,183.3229 79.8688,193.8479 74,204.2969 C65.7074,219.0609 60.9697,231.2501 56.5244,245.3901 \" fill=\"none\" id=\"Unmodified-to-Modified\" style=\"stroke:#181818;stroke-width:1.0;\"/><polygon fill=\"#181818\" points=\"54.725,251.1139,61.24,243.7278,56.2245,246.344,53.6083,241.3285,54.725,251.1139\" style=\"stroke:#181818;stroke-width:1.0;\"/><text fill=\"#000000\" font-family=\"sans-serif\" font-size=\"13\" lengthAdjust=\"spacing\" textLength=\"57\" x=\"75\" y=\"217.3638\">save_file</text></g><!--link Modified to Staged--><g id=\"link_Modified_Staged\"><path d=\"M60.7255,301.3979 C72.4126,323.5329 86.8374,350.8526 98.5121,372.9638 \" fill=\"none\" id=\"Modified-to-Staged\" style=\"stroke:#181818;stroke-width:1.0;\"/><polygon fill=\"#181818\" points=\"101.3136,378.2696,100.6486,368.4432,98.979,373.8481,93.5742,372.1785,101.3136,378.2696\" style=\"stroke:#181818;stroke-width:1.0;\"/><text fill=\"#000000\" font-family=\"sans-serif\" font-size=\"13\" lengthAdjust=\"spacing\" textLength=\"44\" x=\"85\" y=\"344.3638\">git add</text></g><!--link Staged to Unmodified--><g id=\"link_Staged_Unmodified\"><path d=\"M126.699,378.2394 C130.848,369.1219 134.922,358.4807 137,348.2969 C149.798,285.5899 148.291,267.2929 137,204.2969 C135.201,194.2599 133.8643,189.2283 130.2563,180.0943 \" fill=\"none\" id=\"Staged-to-Unmodified\" style=\"stroke:#181818;stroke-width:1.0;\"/><polygon fill=\"#181818\" points=\"128.052,174.5139,127.6382,184.354,129.8889,179.1642,135.0787,181.415,128.052,174.5139\" style=\"stroke:#181818;stroke-width:1.0;\"/><text fill=\"#000000\" font-family=\"sans-serif\" font-size=\"13\" lengthAdjust=\"spacing\" textLength=\"69\" x=\"147\" y=\"280.8638\">git commit</text></g><!--SRC=[AyaioKbL22v9B4ajLiXFKqXKSClCIUNYYjQALT3LjLC8pSlDJybCoqnDuU92iC5IlZ2EbK9nObbgV1f8eo-o2g2nwM3vzCmIXSIK52we0Ah1KFda_DpSp18KMwouaEo0QRO20000]--></g></svg>"
      ],
      "text/plain": [
       "<IPython.core.display.SVG object>"
      ]
     },
     "execution_count": 2,
     "metadata": {},
     "output_type": "execute_result"
    }
   ],
   "source": [
    "%%plantuml\n",
    "@startuml\n",
    "title States of a File\n",
    "\n",
    "[*] --> Unmodified\n",
    "\n",
    "Unmodified --> Modified : save_file\n",
    "Modified --> Staged : git add\n",
    "Staged --> Unmodified : git commit\n",
    "\n",
    "Unmodified :\n",
    "Modified : \n",
    "Staged :\n",
    "\n",
    "@enduml"
   ]
  },
  {
   "cell_type": "markdown",
   "id": "d83d74d3",
   "metadata": {},
   "source": [
    "### Google Colab -- ohne lokale Installation\n",
    "\n",
    "Dazu brauchen sie ein google-Konto zum Ausführen. (Dabei müssen wir intern auch einen kleinen Umweg über github nehmen.)\n",
    "\n",
    "<a href=\"https://colab.research.google.com/github/wwalbrecht/stuff4students/blob/main/gitIntro.ipynb\" target=\"_parent\"><img src=\"https://colab.research.google.com/assets/colab-badge.svg\" alt=\"Open In Colab\"/></a>\n",
    "\n"
   ]
  },
  {
   "cell_type": "markdown",
   "id": "3bbcf071",
   "metadata": {},
   "source": [
    "### Windows\n",
    "\n"
   ]
  },
  {
   "cell_type": "markdown",
   "id": "e6bc4030",
   "metadata": {},
   "source": [
    "- Laden Sie den Git-Installer für Windows herunter https://gitforwindows.org/\n",
    "- Führen Sie den heruntergeladenen Installer aus und folge den Anweisungen im Installationsassistenten.\n",
    "- Öffnen Sie das Git Bash-Terminal (oder die Eingabeaufforderung/PowerShell) und überprüfen Sie die Installation:"
   ]
  },
  {
   "cell_type": "markdown",
   "id": "79cc1db3-5ab5-42dc-bac1-9f14674bdf3c",
   "metadata": {},
   "source": [
    "### Linux  \n"
   ]
  },
  {
   "cell_type": "markdown",
   "id": "c932ecf2",
   "metadata": {},
   "source": [
    "- Öffnen Sie das Terminal.\n",
    "- Aktualisieren Sie die Paketliste Ihres Systems:"
   ]
  },
  {
   "cell_type": "code",
   "execution_count": null,
   "id": "30aec525-a5f5-4c86-9dbf-621c0c4c1c08",
   "metadata": {
    "scrolled": true
   },
   "outputs": [],
   "source": [
    "!sudo apt-get update"
   ]
  },
  {
   "cell_type": "markdown",
   "id": "62576642-734e-43c4-acc0-50e2a78b7afa",
   "metadata": {},
   "source": [
    "- Installieren Sie Git:"
   ]
  },
  {
   "cell_type": "code",
   "execution_count": null,
   "id": "581f4f87-fdd1-4af1-9502-1afcd5b8975b",
   "metadata": {
    "scrolled": true
   },
   "outputs": [],
   "source": [
    "!sudo apt-get install git -y"
   ]
  },
  {
   "cell_type": "markdown",
   "id": "1aac0b26-4313-42eb-8285-91e2dfe42c46",
   "metadata": {},
   "source": [
    "- Überprüfen Sie die Installation:"
   ]
  },
  {
   "cell_type": "code",
   "execution_count": null,
   "id": "914b5aa0-6ca8-43eb-9243-07fb5a814e01",
   "metadata": {},
   "outputs": [],
   "source": [
    "!git --version"
   ]
  },
  {
   "cell_type": "markdown",
   "id": "f6da796a-f39b-463f-8a55-c677d4c3d004",
   "metadata": {},
   "source": [
    "### macOS:"
   ]
  },
  {
   "cell_type": "markdown",
   "id": "1bd921a6",
   "metadata": {},
   "source": [
    "- Öffnen Sie das Terminal.\n",
    "- Installieren Sie Xcode Command Line Tools "
   ]
  },
  {
   "cell_type": "code",
   "execution_count": null,
   "id": "bca8adca-8aac-4849-b120-551275265e6d",
   "metadata": {},
   "outputs": [],
   "source": [
    "!xcode-select --install"
   ]
  },
  {
   "cell_type": "markdown",
   "id": "3aaed702-d6bc-4871-bc1d-e634e93a88a6",
   "metadata": {},
   "source": [
    "- Installieren Sie Git mit Homebrew (falls Homebrew installiert ist):"
   ]
  },
  {
   "cell_type": "code",
   "execution_count": null,
   "id": "a2b42295-d70f-4457-98a8-64912f526972",
   "metadata": {},
   "outputs": [],
   "source": [
    "!brew install git"
   ]
  },
  {
   "cell_type": "markdown",
   "id": "0619eb76-ae21-4f26-b18c-3e658998ff18",
   "metadata": {},
   "source": [
    "- Überprüfen Sie die Installation:"
   ]
  },
  {
   "cell_type": "code",
   "execution_count": null,
   "id": "2b1ac981-3406-4dc8-9515-29dc94650a79",
   "metadata": {},
   "outputs": [],
   "source": [
    "!git --version"
   ]
  },
  {
   "cell_type": "markdown",
   "id": "6215dc69-ea79-4a8a-98bc-20b1bb37a5ae",
   "metadata": {},
   "source": [
    "#### Falls Homebrew nicht installiert ist, dann folgen Sie folgende Schritte, um es zu installieren.  \n",
    "- Öffnen Sie das Terminal\n",
    "- Installieren Sie Homebrew mit folgendem Befehl:"
   ]
  },
  {
   "cell_type": "code",
   "execution_count": null,
   "id": "c38b4857-bfd7-4f49-8311-e0d34e97dbca",
   "metadata": {},
   "outputs": [],
   "source": [
    "!/bin/bash -c \"$(curl -fsSL https://raw.githubusercontent.com/Homebrew/install/HEAD/install.sh)\""
   ]
  },
  {
   "cell_type": "markdown",
   "id": "9292effb-269b-468e-8e64-c60198cbf387",
   "metadata": {},
   "source": [
    "- Folgen Sie den Anweisungen im Installationsassistenten."
   ]
  },
  {
   "cell_type": "markdown",
   "id": "f16aa9e8-75d6-43c2-85f0-2892bc5630ad",
   "metadata": {},
   "source": [
    "# Start Local"
   ]
  },
  {
   "cell_type": "markdown",
   "id": "f2fd9aa4",
   "metadata": {},
   "source": [
    "Git lokal -- erste Schritte  \n",
    "\n",
    "Nach ein paar Vorarbeiten legen sie ein lokales git-Repository an und arbeiten damit."
   ]
  },
  {
   "cell_type": "markdown",
   "id": "178ca452",
   "metadata": {},
   "source": [
    "## Vorarbeiten: Ordner & Datei"
   ]
  },
  {
   "cell_type": "markdown",
   "id": "cc5388ab",
   "metadata": {},
   "source": [
    "### Vorarbeit 1: Unter-Ordner für ihre Projekte erstellen und hinein wechseln. \n",
    "\n",
    "*Vorsicht: Die nächsten Zellen bitte jeweils nur einmal ausführen, sonst erleben sie ihr geschachteltes Wunder.* \n",
    "\n",
    "Für die verschiedenen Übungseinheiten werden wir verschieden Unterverzeichnise anlegen, um jeweils wieder getrennt ein neues git-Repository für die jeweilige Übungseinheiten zu nutzen.\n",
    "\n",
    "Das Anlegen der Unterverzeichnisse und der Wechsel dort hinein machen wir in den nächsten Code-Zellen mit Hilfe von Python. Sie können aber gerne auch mit dem normalen Datei-Browser mit verfolgen was geschied. Auch die Beispiel Dateien werden direkt via Code-Zellen erstellt - sehen sie sie sich auch gerne zwischendurch mit ihrem Editor an.  "
   ]
  },
  {
   "cell_type": "markdown",
   "id": "c3df9b33",
   "metadata": {},
   "source": [
    "Als erstes sehen wir nach, in welchem aktuellen Arbeitsverzeichnis wir im Dateibaum sind. Sicherheitshalber speichern wir den Pfad."
   ]
  },
  {
   "cell_type": "code",
   "execution_count": null,
   "id": "1d912ace",
   "metadata": {},
   "outputs": [],
   "source": [
    "# save current working directory; may be used for later restart \n",
    "import os\n",
    "start_cwd= os.getcwd()"
   ]
  },
  {
   "cell_type": "code",
   "execution_count": null,
   "id": "66428006",
   "metadata": {},
   "outputs": [],
   "source": [
    "import os\n",
    "# for info only: get the current working directory and its content:\n",
    "print(\"start_cwd: \", os.getcwd())\n",
    "print(\"Content: \", os.listdir())"
   ]
  },
  {
   "cell_type": "markdown",
   "id": "a574d123",
   "metadata": {},
   "source": [
    "### ggf. für später!!!\n",
    "\n",
    "*Sie haben die übernächste Zelle mehrfach ausgeführt, oder sich sonstwie im Dateibaum verlaufen? Sie möchten (zu einem späteren Zeitpunkt) in Unterordner neu aufsetzen und alles alte darin löschen? Das Löschen erledigen sie besser in ihrem Datei-Browser. Hier setzten wir nur noch einmal den Start-Pfad auf den ursprünglichen Wert -- falls sie ihn oben gespeichert haben.*"
   ]
  },
  {
   "cell_type": "code",
   "execution_count": null,
   "id": "ae67716b",
   "metadata": {},
   "outputs": [],
   "source": [
    "os.chdir(start_cwd)\n",
    "print(\"act. working directory: \", os.getcwd())"
   ]
  },
  {
   "cell_type": "markdown",
   "id": "76347b5f",
   "metadata": {},
   "source": [
    "Wir legen einen Ordner an für alle lokalen Projekte, die wir im Laufe des Tutorials nutzen.\n",
    "\n",
    "Darunter dann noch direkt einen Ordner für das erste Projekt mit dem wir gleich starten.\n",
    " "
   ]
  },
  {
   "cell_type": "code",
   "execution_count": null,
   "id": "7dc23240-ed43-4ce2-8ff0-459df2ad0eab",
   "metadata": {
    "scrolled": true
   },
   "outputs": [],
   "source": [
    "import os\n",
    "\n",
    "my_proj_folder= \"local_projects\"\n",
    "if not os.path.exists(my_proj_folder):\n",
    "    os.mkdir(my_proj_folder)\n",
    "os.chdir(my_proj_folder)\n",
    "\n",
    "my_proj_sub_folder= \"project_1\"\n",
    "if not os.path.exists(my_proj_sub_folder):\n",
    "    os.mkdir(my_proj_sub_folder)\n",
    "os.chdir(my_proj_sub_folder)\n",
    "\n",
    "print(\"new. working directory: \", os.getcwd())\n",
    "print(\"Content: \", os.listdir())\n"
   ]
  },
  {
   "cell_type": "markdown",
   "id": "89d17a04",
   "metadata": {},
   "source": [
    "### Vorarbeit 2: Eine Datei anlegen:\n",
    "*...damit es gleich etwas zu archivieren gibt...*"
   ]
  },
  {
   "cell_type": "code",
   "execution_count": null,
   "id": "7617d481",
   "metadata": {},
   "outputs": [],
   "source": [
    "file1 = open(\"file_1.txt\", \"w\") # \"w\" for overwrite, \"a\" for appending -- if already existend\n",
    "file1.write(\"Hello\")\n",
    "file1.close()\n"
   ]
  },
  {
   "cell_type": "code",
   "execution_count": null,
   "id": "2f37f014",
   "metadata": {},
   "outputs": [],
   "source": [
    "# Check file content:\n",
    "file1 = open(\"file_1.txt\",\"r\") \n",
    "print( file1.read())\n",
    "file1.close()"
   ]
  },
  {
   "cell_type": "markdown",
   "id": "340a4359",
   "metadata": {},
   "source": [
    "AUFGABE: Fügen Sie einige Inhalte zur Datei hinzu und speichern Sie. Öffnen Sie die Datei dazu auch gerne in einem Texteditor."
   ]
  },
  {
   "cell_type": "markdown",
   "id": "6fae776b",
   "metadata": {},
   "source": [
    "## git config\n",
    "\n",
    "Sie müssen ein paar Angaben zu sich bereit stellen, damit diese (spätestens beim ersten commit) mit ihren Änderungen abgespeichert werden können. Die Daten können fiktiv sein. \n",
    "\n",
    "Oder sie testen erst einmal, ob für sie schon etwas hinterlegt ist:"
   ]
  },
  {
   "cell_type": "code",
   "execution_count": null,
   "id": "fa606911",
   "metadata": {},
   "outputs": [],
   "source": [
    "!git config user.email\n",
    "!git config user.name"
   ]
  },
  {
   "cell_type": "code",
   "execution_count": null,
   "id": "f33b0755",
   "metadata": {},
   "outputs": [],
   "source": [
    "# das könnte ggf. eine längere Liste bei ihnen sein:\n",
    "!git config --list"
   ]
  },
  {
   "cell_type": "markdown",
   "id": "a1f26e3d",
   "metadata": {},
   "source": [
    "...ansonsten setzen sie jetzt ihre Daten..\n",
    "\n",
    "*Langsam!* Oft steht zwischen 'config' und 'user' noch die Option **--global**, damit es als Default für alle ihre Projekte genutzt wird. Wählen sie...\n",
    "\n",
    "Falls sie nicht die globale Variante nutzen möchten, dann MUESSEN sie zuerst den nächsten Schritt `git init` unten ausführen. (Außerdem gab es bei der Variante ohne 'global' auch bei Colab ein Problem.)"
   ]
  },
  {
   "cell_type": "code",
   "execution_count": null,
   "id": "e2f1d21b",
   "metadata": {},
   "outputs": [],
   "source": [
    "!git config user.email \"you@example.com\"\n",
    "!git config user.name \"Your Name\""
   ]
  },
  {
   "cell_type": "markdown",
   "id": "48e7795e",
   "metadata": {},
   "source": [
    "**ODER**"
   ]
  },
  {
   "cell_type": "code",
   "execution_count": null,
   "id": "1031fb8b",
   "metadata": {},
   "outputs": [],
   "source": [
    "!git config --global user.email \"you@example.com\"\n",
    "!git config --global user.name \"Your Name\""
   ]
  },
  {
   "cell_type": "markdown",
   "id": "8f54d9ce",
   "metadata": {},
   "source": [
    "Es wird früher oder später Vorkommen, dass sie zwischen Windows und Linux hin und her wechseln oder die Dateien in ihrem Projekt gemischte Herkunft haben. Leider gibt es beim Zeilen-Ende-Zeichen einen kleinen Unterschied: \\r\\n (Win) vs. \\n (Linux). [Erklärung dazu aus medium.cum](https://medium.com/@adarshaniket28/how-to-deal-with-the-git-warning-lf-will-be-replaced-by-crlf-54b176c092f5)\n",
    "\n",
    "Wählen sie für IHRE Plattform:"
   ]
  },
  {
   "cell_type": "code",
   "execution_count": null,
   "id": "bbfdc522",
   "metadata": {},
   "outputs": [],
   "source": [
    "# Settings for Unix/Mac, e.g. Colab\n",
    "!git config --global core.autocrlf input\n",
    "!git config --global core.safecrlf true"
   ]
  },
  {
   "cell_type": "markdown",
   "id": "88a3c829",
   "metadata": {},
   "source": [
    "ODER:"
   ]
  },
  {
   "cell_type": "code",
   "execution_count": null,
   "id": "b29bb5c8",
   "metadata": {},
   "outputs": [],
   "source": [
    "# Settings for Windows\n",
    "!git config --global core.autocrlf true\n",
    "!git config --global core.safecrlf true"
   ]
  },
  {
   "cell_type": "markdown",
   "id": "3d8d8b1b",
   "metadata": {},
   "source": [
    "## git init\n",
    "\n",
    "Ein Git-Repository initialisieren/anlegen:"
   ]
  },
  {
   "cell_type": "code",
   "execution_count": null,
   "id": "91420b55-55b5-48aa-bb3d-56e5e8baa1df",
   "metadata": {},
   "outputs": [],
   "source": [
    "!git init --initial-branch=main"
   ]
  },
  {
   "cell_type": "markdown",
   "id": "e71d22a2",
   "metadata": {},
   "source": [
    "*...ohne Vorgabe zum 'initial-branch' wird der Haupt-Pfad evtl. nicht 'main', sondern 'master' genannt, das ist nicht mehr zeitgemäß. Mehr zu Branches später!* "
   ]
  },
  {
   "cell_type": "code",
   "execution_count": null,
   "id": "20a7fca9",
   "metadata": {},
   "outputs": [],
   "source": [
    "# The repository is inside an (hidden) folder called '.git' of the current working directory. Let's see it:\n",
    "print( os.getcwd())\n",
    "print( os.listdir())"
   ]
  },
  {
   "cell_type": "markdown",
   "id": "f6b95fa4",
   "metadata": {},
   "source": [
    "Sie können das '.git' Verzeichnis auch gerne mit ihrem Datei-Explorer einmal genauer ansehen; auch z.B. die Datei namens \"HEAD\" darin. ABER ändern sie nichts \"hinten herum\" an den internen Verwaltungsdaten von git !!!"
   ]
  },
  {
   "cell_type": "markdown",
   "id": "3bd1d927",
   "metadata": {},
   "source": [
    "## git status\n",
    "\n",
    "Immer wieder nach dem aktuellen Zustand sehen (und dabei ggf. sogar Tipps von git bekommen...):"
   ]
  },
  {
   "cell_type": "code",
   "execution_count": null,
   "id": "da809863",
   "metadata": {},
   "outputs": [],
   "source": [
    "!git status"
   ]
  },
  {
   "cell_type": "markdown",
   "id": "21cf72de",
   "metadata": {},
   "source": [
    "## git add"
   ]
  },
  {
   "cell_type": "code",
   "execution_count": null,
   "id": "e832638f",
   "metadata": {},
   "outputs": [],
   "source": [
    "!git add file_1.txt"
   ]
  },
  {
   "cell_type": "markdown",
   "id": "b3dda3f4-0e2e-4a0c-bae7-4ec39bb10bc7",
   "metadata": {},
   "source": [
    "## git commit  \n",
    "- Commit erstellen, also erste Version (aktueller Stand) der Datei(en) im Repo. sichern."
   ]
  },
  {
   "cell_type": "code",
   "execution_count": null,
   "id": "79a2f1bd",
   "metadata": {},
   "outputs": [],
   "source": [
    "!git commit -m \"Ihre Commit-Message (ihre Änderungen) zur Info für das Team.\""
   ]
  },
  {
   "cell_type": "markdown",
   "id": "4351d0a7",
   "metadata": {},
   "source": [
    "Wenn sie sich das 'add' vor dem 'commit' sparen möchten, dann können sie beim commit die Option **-a** mit angeben. [Doku. git-scm](https://git-scm.com/docs/git-commit#Documentation/git-commit.txt--a)\n",
    "\n",
    "*Anregung: Versuchen sie auch einmal ein commit nach Dateiänderung und vergessenem 'add' ...dann sollte sie git höflich auf das Versäumnis hinweisen.*"
   ]
  },
  {
   "cell_type": "markdown",
   "id": "2e33dc75",
   "metadata": {},
   "source": [
    "Eine Datei hat aus der Sicht von git unterschiedliche Zustände. Mit den Befehlen, welchseln sie den Zustand. \n",
    "\n",
    "*(Falls das Diagramm nicht angezeigt wird, müssen sie noch die Intialisierung für plantUML oben im Dokument nachholen.)*"
   ]
  },
  {
   "cell_type": "code",
   "execution_count": 3,
   "id": "56141ee0",
   "metadata": {},
   "outputs": [
    {
     "data": {
      "image/svg+xml": [
       "<svg xmlns=\"http://www.w3.org/2000/svg\" xmlns:xlink=\"http://www.w3.org/1999/xlink\" contentStyleType=\"text/css\" height=\"434px\" preserveAspectRatio=\"none\" style=\"width:268px;height:434px;background:#FFFFFF;\" version=\"1.1\" viewBox=\"0 0 268 434\" width=\"268px\" zoomAndPan=\"magnify\"><defs/><g><text fill=\"#000000\" font-family=\"sans-serif\" font-size=\"14\" font-weight=\"bold\" lengthAdjust=\"spacing\" textLength=\"124\" x=\"65\" y=\"22.9951\">States of a File</text><ellipse cx=\"112\" cy=\"53.2969\" fill=\"#222222\" rx=\"10\" ry=\"10\" style=\"stroke:#222222;stroke-width:1.0;\"/><g id=\"Unmodified\"><rect fill=\"#F1F1F1\" height=\"50.2656\" rx=\"12.5\" ry=\"12.5\" style=\"stroke:#181818;stroke-width:0.5;\" width=\"210\" x=\"7\" y=\"124.2969\"/><line style=\"stroke:#181818;stroke-width:0.5;\" x1=\"7\" x2=\"217\" y1=\"150.5938\" y2=\"150.5938\"/><text fill=\"#000000\" font-family=\"sans-serif\" font-size=\"14\" lengthAdjust=\"spacing\" textLength=\"82\" x=\"71\" y=\"142.292\">Unmodified</text><text fill=\"#000000\" font-family=\"sans-serif\" font-size=\"12\" lengthAdjust=\"spacing\" textLength=\"190\" x=\"12\" y=\"166.7324\">(synchronized local repository)</text></g><g id=\"Modified\"><rect fill=\"#F1F1F1\" height=\"50.2656\" rx=\"12.5\" ry=\"12.5\" style=\"stroke:#181818;stroke-width:0.5;\" width=\"82\" x=\"16\" y=\"251.2969\"/><line style=\"stroke:#181818;stroke-width:0.5;\" x1=\"16\" x2=\"98\" y1=\"277.5938\" y2=\"277.5938\"/><text fill=\"#000000\" font-family=\"sans-serif\" font-size=\"14\" lengthAdjust=\"spacing\" textLength=\"62\" x=\"26\" y=\"269.292\">Modified</text><text fill=\"#000000\" font-family=\"sans-serif\" font-size=\"12\" lengthAdjust=\"spacing\" textLength=\"4\" x=\"21\" y=\"293.7324\"> </text></g><g id=\"Staged\"><rect fill=\"#F1F1F1\" height=\"50.2656\" rx=\"12.5\" ry=\"12.5\" style=\"stroke:#181818;stroke-width:0.5;\" width=\"71\" x=\"112.5\" y=\"378.2969\"/><line style=\"stroke:#181818;stroke-width:0.5;\" x1=\"112.5\" x2=\"183.5\" y1=\"404.5938\" y2=\"404.5938\"/><text fill=\"#000000\" font-family=\"sans-serif\" font-size=\"14\" lengthAdjust=\"spacing\" textLength=\"51\" x=\"122.5\" y=\"396.292\">Staged</text><text fill=\"#000000\" font-family=\"sans-serif\" font-size=\"12\" lengthAdjust=\"spacing\" textLength=\"4\" x=\"117.5\" y=\"420.7324\"> </text></g><!--link *start* to Unmodified--><g id=\"link_*start*_Unmodified\"><path d=\"M112,63.3099 C112,77.1879 112,98.2619 112,118.1369 \" fill=\"none\" id=\"*start*-to-Unmodified\" style=\"stroke:#181818;stroke-width:1.0;\"/><polygon fill=\"#181818\" points=\"112,124.1369,116,115.1369,112,119.1369,108,115.1369,112,124.1369\" style=\"stroke:#181818;stroke-width:1.0;\"/></g><!--link Unmodified to Modified--><g id=\"link_Unmodified_Modified\"><path d=\"M51.0118,174.5499 C39.0209,182.2209 27.9994,192.0049 21,204.2969 C12.3151,219.5499 17.3632,232.4533 28.4292,246.3113 \" fill=\"none\" id=\"Unmodified-to-Modified\" style=\"stroke:#181818;stroke-width:1.0;\"/><polygon fill=\"#181818\" points=\"32.1732,250.9999,29.683,241.471,29.0532,247.0927,23.4315,246.463,32.1732,250.9999\" style=\"stroke:#181818;stroke-width:1.0;\"/><text fill=\"#000000\" font-family=\"sans-serif\" font-size=\"13\" lengthAdjust=\"spacing\" textLength=\"152\" x=\"22\" y=\"217.3638\">save_file_with_changes</text></g><!--link Modified to Staged--><g id=\"link_Modified_Staged\"><path d=\"M74.5457,301.3979 C90.6597,323.5329 110.8797,351.3076 126.9767,373.4188 \" fill=\"none\" id=\"Modified-to-Staged\" style=\"stroke:#181818;stroke-width:1.0;\"/><polygon fill=\"#181818\" points=\"130.508,378.2696,128.4448,368.6392,127.5652,374.2273,121.9772,373.3477,130.508,378.2696\" style=\"stroke:#181818;stroke-width:1.0;\"/><text fill=\"#000000\" font-family=\"sans-serif\" font-size=\"13\" lengthAdjust=\"spacing\" textLength=\"44\" x=\"108\" y=\"344.3638\">git add</text></g><!--link Staged to Unmodified--><g id=\"link_Staged_Unmodified\"><path d=\"M160.387,378.1405 C178.373,339.4883 206.703,262.2059 179,204.2969 C173.391,192.5719 168.5485,186.319 158.4045,178.236 \" fill=\"none\" id=\"Staged-to-Unmodified\" style=\"stroke:#181818;stroke-width:1.0;\"/><polygon fill=\"#181818\" points=\"153.712,174.4969,158.258,183.2338,157.6224,177.6128,163.2434,176.9772,153.712,174.4969\" style=\"stroke:#181818;stroke-width:1.0;\"/><text fill=\"#000000\" font-family=\"sans-serif\" font-size=\"13\" lengthAdjust=\"spacing\" textLength=\"69\" x=\"191\" y=\"280.8638\">git commit</text></g><!--SRC=[LOwn2iCm34HtVON6jf0VoD2nMwRIgHHZRDaHE5Q9HKhwzJKXeSccqvtqJbaJuLsjKa49QF76YG2UbnSspHKVUH3FWSa3_EV5wZRHOh4JcL0FpOUrDwwtELA1RX-lZBY48ojQxs5T72chxsGOM0_85azbpguV9VEtwYJE9XpfBOLLnlaCkqBRy_O7]--></g></svg>"
      ],
      "text/plain": [
       "<IPython.core.display.SVG object>"
      ]
     },
     "execution_count": 3,
     "metadata": {},
     "output_type": "execute_result"
    }
   ],
   "source": [
    "%%plantuml\n",
    "@startuml\n",
    "title States of a File\n",
    "\n",
    "[*] --> Unmodified\n",
    "\n",
    "Unmodified --> Modified : save_file_with_changes\n",
    "Modified --> Staged : git add\n",
    "Staged --> Unmodified : git commit\n",
    "\n",
    "Unmodified : (synchronized local repository)\n",
    "Modified : \n",
    "Staged :\n",
    "\n",
    "@enduml"
   ]
  },
  {
   "cell_type": "markdown",
   "id": "ff795108",
   "metadata": {},
   "source": [
    "Dieser Zyklus wird für jede (kleinere oder größere) Änderung immer wieder durchlaufen. \n",
    "\n",
    "Jeder commit wird dabei mit einer (sehr langen) eindeutigen ID gekennzeichnet (dem sogenannten SHA-1 Hash).\n",
    "\n",
    "Wie in folgenden Diagramm wird oft nur der Anfang der ID benötigt, um die verschiedenen Commits auseinander zu halten.\n",
    "(Für jedes Wort das in einer Datei geändert wird, nutzt man natürlich nicht immer ein commit.)"
   ]
  },
  {
   "cell_type": "code",
   "execution_count": 4,
   "id": "15bb05f9",
   "metadata": {},
   "outputs": [
    {
     "data": {
      "image/svg+xml": [
       "<svg xmlns=\"http://www.w3.org/2000/svg\" xmlns:xlink=\"http://www.w3.org/1999/xlink\" contentStyleType=\"text/css\" height=\"124px\" preserveAspectRatio=\"none\" style=\"width:1230px;height:124px;background:#FFFFFF;\" version=\"1.1\" viewBox=\"0 0 1230 124\" width=\"1230px\" zoomAndPan=\"magnify\"><defs/><g><ellipse cx=\"16\" cy=\"32\" fill=\"#222222\" rx=\"10\" ry=\"10\" style=\"stroke:#222222;stroke-width:1.0;\"/><g id=\"empty_file\"><rect fill=\"#F1F1F1\" height=\"50.2656\" rx=\"12.5\" ry=\"12.5\" style=\"stroke:#181818;stroke-width:0.5;\" width=\"98\" x=\"87\" y=\"7\"/><line style=\"stroke:#181818;stroke-width:0.5;\" x1=\"87\" x2=\"185\" y1=\"33.2969\" y2=\"33.2969\"/><text fill=\"#000000\" font-family=\"sans-serif\" font-size=\"14\" lengthAdjust=\"spacing\" textLength=\"78\" x=\"97\" y=\"24.9951\">empty_file</text><text fill=\"#000000\" font-family=\"sans-serif\" font-size=\"12\" lengthAdjust=\"spacing\" textLength=\"4\" x=\"92\" y=\"49.4355\"> </text></g><g id=\"commit_16b3c\"><rect fill=\"#F1F1F1\" height=\"50.2656\" rx=\"12.5\" ry=\"12.5\" style=\"stroke:#181818;stroke-width:0.5;\" width=\"128\" x=\"397\" y=\"7\"/><line style=\"stroke:#181818;stroke-width:0.5;\" x1=\"397\" x2=\"525\" y1=\"33.2969\" y2=\"33.2969\"/><text fill=\"#000000\" font-family=\"sans-serif\" font-size=\"14\" lengthAdjust=\"spacing\" textLength=\"108\" x=\"407\" y=\"24.9951\">commit_16b3c</text><text fill=\"#000000\" font-family=\"sans-serif\" font-size=\"12\" lengthAdjust=\"spacing\" textLength=\"31\" x=\"402\" y=\"49.4355\">Hello</text></g><g id=\"commit_28r98\"><rect fill=\"#F1F1F1\" height=\"50.2656\" rx=\"12.5\" ry=\"12.5\" style=\"stroke:#181818;stroke-width:0.5;\" width=\"122\" x=\"747\" y=\"7\"/><line style=\"stroke:#181818;stroke-width:0.5;\" x1=\"747\" x2=\"869\" y1=\"33.2969\" y2=\"33.2969\"/><text fill=\"#000000\" font-family=\"sans-serif\" font-size=\"14\" lengthAdjust=\"spacing\" textLength=\"102\" x=\"757\" y=\"24.9951\">commit_28r98</text><text fill=\"#000000\" font-family=\"sans-serif\" font-size=\"12\" lengthAdjust=\"spacing\" textLength=\"71\" x=\"752\" y=\"49.4355\">Hello World</text></g><g id=\"commit_79e4r\"><rect fill=\"#F1F1F1\" height=\"50.2656\" rx=\"12.5\" ry=\"12.5\" style=\"stroke:#181818;stroke-width:0.5;\" width=\"124\" x=\"1079\" y=\"7\"/><line style=\"stroke:#181818;stroke-width:0.5;\" x1=\"1079\" x2=\"1203\" y1=\"33.2969\" y2=\"33.2969\"/><text fill=\"#000000\" font-family=\"sans-serif\" font-size=\"14\" lengthAdjust=\"spacing\" textLength=\"104\" x=\"1089\" y=\"24.9951\">commit_79e4r</text><text fill=\"#000000\" font-family=\"sans-serif\" font-size=\"12\" lengthAdjust=\"spacing\" textLength=\"80\" x=\"1084\" y=\"49.4355\">Hello World !</text></g><g id=\"elem_GMN11\"><path d=\"M1059,92.5 L1059,117.6328 A0,0 0 0 0 1059,117.6328 L1223,117.6328 A0,0 0 0 0 1223,117.6328 L1223,102.5 L1213,92.5 L1145,92.5 L1141,57.0314 L1137,92.5 L1059,92.5 A0,0 0 0 0 1059,92.5 \" fill=\"#FEFFDD\" style=\"stroke:#181818;stroke-width:0.5;\"/><path d=\"M1213,92.5 L1213,102.5 L1223,102.5 L1213,92.5 \" fill=\"#FEFFDD\" style=\"stroke:#181818;stroke-width:0.5;\"/><text fill=\"#000000\" font-family=\"sans-serif\" font-size=\"13\" lengthAdjust=\"spacing\" textLength=\"143\" x=\"1065\" y=\"109.5669\">HEAD of 'main' branch</text></g><!--link *start* to empty_file--><g id=\"link_*start*_empty_file\"><path d=\"M26.2593,32 C39.353,32 58.213,32 80.8613,32 \" fill=\"none\" id=\"*start*-to-empty_file\" style=\"stroke:#181818;stroke-width:1.0;\"/><polygon fill=\"#181818\" points=\"86.8613,32,77.8613,28,81.8613,32,77.8613,36,86.8613,32\" style=\"stroke:#181818;stroke-width:1.0;\"/></g><!--link empty_file to commit_16b3c--><g id=\"link_empty_file_commit_16b3c\"><path d=\"M185.008,32 C241.244,32 328.604,32 390.715,32 \" fill=\"none\" id=\"empty_file-to-commit_16b3c\" style=\"stroke:#181818;stroke-width:1.0;\"/><polygon fill=\"#181818\" points=\"396.715,32,387.715,28,391.715,32,387.715,36,396.715,32\" style=\"stroke:#181818;stroke-width:1.0;\"/><text fill=\"#000000\" font-family=\"sans-serif\" font-size=\"13\" lengthAdjust=\"spacing\" textLength=\"150\" x=\"216\" y=\"28.0669\">append &quot;Hello&quot;, commit</text></g><!--link commit_16b3c to commit_28r98--><g id=\"link_commit_16b3c_commit_28r98\"><path d=\"M525.278,32 C588.403,32 678.676,32 740.724,32 \" fill=\"none\" id=\"commit_16b3c-to-commit_28r98\" style=\"stroke:#181818;stroke-width:1.0;\"/><polygon fill=\"#181818\" points=\"746.724,32,737.724,28,741.724,32,737.724,36,746.724,32\" style=\"stroke:#181818;stroke-width:1.0;\"/><text fill=\"#000000\" font-family=\"sans-serif\" font-size=\"13\" lengthAdjust=\"spacing\" textLength=\"160\" x=\"556\" y=\"28.0669\">append &quot; World&quot;, commit</text></g><!--link commit_28r98 to commit_79e4r--><g id=\"link_commit_28r98_commit_79e4r\"><path d=\"M869.326,32 C928.809,32 1013.24,32 1072.97,32 \" fill=\"none\" id=\"commit_28r98-to-commit_79e4r\" style=\"stroke:#181818;stroke-width:1.0;\"/><polygon fill=\"#181818\" points=\"1078.97,32,1069.97,28,1073.97,32,1069.97,36,1078.97,32\" style=\"stroke:#181818;stroke-width:1.0;\"/><text fill=\"#000000\" font-family=\"sans-serif\" font-size=\"13\" lengthAdjust=\"spacing\" textLength=\"128\" x=\"900\" y=\"28.0669\">append &quot; !&quot;, commit</text></g><!--SRC=[POvD2u9048Rlyoj6BqBaeGygFGH1GV-WGuJeEkR2xeuiS-dVLnguscsOztru7qEDe31w_Mm5Q-r9YMO7S5yyC4sFIBQJLz5eGp2UVQBOMYt5QbTj5EPOTXsv6kCh6SFnyXV3f1LWwuFF3W66D_Qc_kE6Mi3jCzhwa8j69ZJC4MQ2lHZCvlldi0spXI322C2n45OimXQvcUXykfVJ-VjDRAbTWfKldMhV]--></g></svg>"
      ],
      "text/plain": [
       "<IPython.core.display.SVG object>"
      ]
     },
     "execution_count": 4,
     "metadata": {},
     "output_type": "execute_result"
    }
   ],
   "source": [
    "%%plantuml\n",
    "@startuml\n",
    "left to right direction\n",
    "\n",
    "[*] --> empty_file\n",
    "empty_file --> commit_16b3c : append \"Hello\", commit\n",
    "commit_16b3c --> commit_28r98 : append \" World\", commit\n",
    "commit_28r98 --> commit_79e4r : append \" !\", commit\n",
    "\n",
    "empty_file : \n",
    "commit_16b3c : Hello\n",
    "commit_28r98 : Hello World\n",
    "commit_79e4r : Hello World !\n",
    "\n",
    "note bottom of commit_79e4r: HEAD of 'main' branch\n",
    "\n",
    "@enduml"
   ]
  },
  {
   "cell_type": "code",
   "execution_count": null,
   "id": "6b1894f2",
   "metadata": {},
   "outputs": [],
   "source": [
    "file1 = open(\"file_1.txt\", \"a\") # \"w\" for overwrite, \"a\" for appending -- if already existend\n",
    "file1.write(\" World !\\n\") # avoid extra commit for '!'\n",
    "file1.close()"
   ]
  },
  {
   "cell_type": "code",
   "execution_count": null,
   "id": "48dc797a",
   "metadata": {},
   "outputs": [],
   "source": [
    "!git add .\n",
    "!git commit -m \"Completed the frist line\""
   ]
  },
  {
   "cell_type": "markdown",
   "id": "75e4ed7b-577d-4e83-8744-6b2867da7514",
   "metadata": {},
   "source": [
    "## git log\n",
    "- Infos zum Commit anzeigen; vgl. auch git status von oben "
   ]
  },
  {
   "cell_type": "code",
   "execution_count": null,
   "id": "4413a2cd",
   "metadata": {},
   "outputs": [],
   "source": [
    "!git log\n",
    "#!git log --oneline  #kompakter"
   ]
  },
  {
   "cell_type": "markdown",
   "id": "f0acf26b",
   "metadata": {},
   "source": [
    "## git diff\n",
    "\n",
    "Den Unterschied anzeigen lassen."
   ]
  },
  {
   "cell_type": "markdown",
   "id": "f462a7a2",
   "metadata": {},
   "source": [
    "### git diff (((--staged)))\n",
    "\n",
    "Gibt es etwas, das noch auf einen neues add oder commit wartet? \n",
    "\n",
    "Gleich vorweg: Wenn das diff Kommando keine Ausgabe liefert, dann gibt es zwischen den betrachteten Dateien/Versionen/Zuständen kein Unterschied. \n",
    "\n",
    "Zunächst eine kleine Ergänzung in der Beispiel-Datei..."
   ]
  },
  {
   "cell_type": "code",
   "execution_count": null,
   "id": "a1cae221",
   "metadata": {},
   "outputs": [],
   "source": [
    "file1 = open(\"file_1.txt\", \"a\") # \n",
    "file1.write(\"\\nEine neue Zeile.\\n\")\n",
    "file1.close()"
   ]
  },
  {
   "cell_type": "code",
   "execution_count": null,
   "id": "0377be19",
   "metadata": {},
   "outputs": [],
   "source": [
    "# Check file content:\n",
    "file1 = open(\"file_1.txt\",\"r\") \n",
    "print( file1.read())\n",
    "file1.close()"
   ]
  },
  {
   "cell_type": "code",
   "execution_count": null,
   "id": "e790abdc",
   "metadata": {},
   "outputs": [],
   "source": [
    "!git diff"
   ]
  },
  {
   "cell_type": "markdown",
   "id": "3435df50",
   "metadata": {},
   "source": [
    "*...falls da ein Unterschied angezeigt wird, dann ist es vielleicht Zeit die Datei für den nächsten Commit **vorzubereiten**...*\n",
    "\n",
    "Wenn mehrere Dateien im Projekt sind, dann können sie den Vergleich auch einschränken: \n",
    "\n",
    "`git diff file_1.txt`"
   ]
  },
  {
   "cell_type": "code",
   "execution_count": null,
   "id": "0448ba2c",
   "metadata": {},
   "outputs": [],
   "source": [
    "!git add ."
   ]
  },
  {
   "cell_type": "markdown",
   "id": "e3dd7414",
   "metadata": {},
   "source": [
    "*...und dann wollen sie vielleicht vor dem nächsten Commit noch einmal anzeigen lassen, was sie geändert haben...*"
   ]
  },
  {
   "cell_type": "code",
   "execution_count": null,
   "id": "e93f5474",
   "metadata": {},
   "outputs": [],
   "source": [
    "!git diff --staged"
   ]
  },
  {
   "cell_type": "code",
   "execution_count": null,
   "id": "7da75b09",
   "metadata": {},
   "outputs": [],
   "source": [
    "!git commit -m \"Added another line\""
   ]
  },
  {
   "cell_type": "markdown",
   "id": "a3a0b518",
   "metadata": {},
   "source": [
    "AUFGABE: Führen sie die letzten Code-Blöcke gerne auch in unterschiedlicher Reihenfolge noch einmal aus, damit sie den Unterschied mit und ohne '--staged--' sehen."
   ]
  },
  {
   "cell_type": "markdown",
   "id": "e9d240f7",
   "metadata": {},
   "source": [
    "### git diff 43cfc\n",
    "\n",
    "Wie können sie im Nachhinein den Unterschied zwischen zwei Commits nachsehen?\n",
    "\n",
    "Eine gute Aufgabe für die Commit IDs (bzw. ihre Anfangszeichen): ....\n",
    "\n",
    "Geben sie die ersten Zeichen eines bei *git log* oben angezeigten commits an. (Wenn sie es mit dem HEAD vergleichen wollen.)"
   ]
  },
  {
   "cell_type": "code",
   "execution_count": null,
   "id": "74d6b81a",
   "metadata": {},
   "outputs": [],
   "source": [
    "# ...oder hier direkt noch einmal...\n",
    "!git log"
   ]
  },
  {
   "cell_type": "code",
   "execution_count": null,
   "id": "a095f2d0",
   "metadata": {},
   "outputs": [],
   "source": [
    "!git diff 43cfc"
   ]
  },
  {
   "cell_type": "markdown",
   "id": "34c7fa12",
   "metadata": {},
   "source": [
    "...zugegeben: Auf den ersten Blick ist das nicht sehr übersichtlich. Sie können sich daran gewöhnen oder später bessere Darstellungen nutzen."
   ]
  },
  {
   "cell_type": "markdown",
   "id": "36ac4671",
   "metadata": {},
   "source": [
    "## TODO \n",
    "\n",
    "Checkout auch schon für alten Commit nutzbar. Vorsicht Gefahr, falls dann darauf geändert wird. Optionen: (a) force oder (b) branch erstellen (später)  Wichtig: Das wird später auch beim HandsOn-Training im Kurs benutzt! "
   ]
  },
  {
   "cell_type": "markdown",
   "id": "f37c1a60",
   "metadata": {},
   "source": [
    "## AUFGABE\n",
    "\n",
    "AUFGABE: Ändern sie den Date-Inhalt (in ihrem Editor) und machen ein neues Commit. Den Code dazu können sie hier unterbringen. (Oder sie arbeiten auf einem Terminal -- dann achten sie aber darauf, dass sie sich im richtigen Verzeichnis befinden.)  "
   ]
  },
  {
   "cell_type": "code",
   "execution_count": null,
   "id": "f440f905",
   "metadata": {},
   "outputs": [],
   "source": [
    "!git ..."
   ]
  },
  {
   "cell_type": "markdown",
   "id": "946342cf",
   "metadata": {},
   "source": [
    "AUFGABE: Legen sie eine weitere Datei an und fügen sie zum Repo. hinzu. "
   ]
  },
  {
   "cell_type": "code",
   "execution_count": null,
   "id": "b93f5574",
   "metadata": {},
   "outputs": [],
   "source": [
    "!git ..."
   ]
  },
  {
   "cell_type": "markdown",
   "id": "a68a3717",
   "metadata": {},
   "source": [
    "\n"
   ]
  },
  {
   "cell_type": "markdown",
   "id": "214189ed",
   "metadata": {},
   "source": [
    "Erstellen sie auch wieder commits und sehen sich den log und diff an. \n",
    "\n",
    "Zusatzfrage: Erkennen sie, dass ein commit immer für alle Dateien gilt, auch wenn nur eine gerade geändert wurde?"
   ]
  },
  {
   "cell_type": "markdown",
   "id": "f404ff78",
   "metadata": {},
   "source": []
  },
  {
   "cell_type": "markdown",
   "id": "bd2f6605",
   "metadata": {},
   "source": [
    "# git branch & merge local"
   ]
  },
  {
   "cell_type": "markdown",
   "id": "cfcc6972",
   "metadata": {},
   "source": [
    "Motivation: Benötigen Sie (vorübergehend) zwei Entwicklungspfade? \n",
    "\n",
    "...für mehrere unterschiedliche Features, die sie in ihre Software einbauen möchten? \n",
    "\n",
    "...womöglich von zwei unterschiedlichen Team-Mitgliedern?\n",
    "\n",
    "*Dann ist es Zeit für Branches!*"
   ]
  },
  {
   "cell_type": "markdown",
   "id": "b1f25543",
   "metadata": {},
   "source": [
    "Es folge ein Beispiel dazu: Schritt für Schritt\n",
    "\n",
    "Szenario: Nachdem eine Grundversion in einer Datei vorliegt, entwickelt eine Person die 'baseline' weiter und (evtl.) eine andere Person fügt Zeilen bzgl. eines neuen Features (der SW oder hier eben nur einzelne Textzeilen) hinzu. \n",
    "\n",
    "Zunächst eine Skizze, wo wir hin wollen..."
   ]
  },
  {
   "cell_type": "code",
   "execution_count": 5,
   "id": "844d4001",
   "metadata": {},
   "outputs": [
    {
     "data": {
      "image/svg+xml": [
       "<svg xmlns=\"http://www.w3.org/2000/svg\" xmlns:xlink=\"http://www.w3.org/1999/xlink\" contentStyleType=\"text/css\" height=\"368px\" preserveAspectRatio=\"none\" style=\"width:810px;height:368px;background:#FFFFFF;\" version=\"1.1\" viewBox=\"0 0 810 368\" width=\"810px\" zoomAndPan=\"magnify\"><defs/><g><ellipse cx=\"16\" cy=\"169\" fill=\"#222222\" rx=\"10\" ry=\"10\" style=\"stroke:#222222;stroke-width:1.0;\"/><g id=\"empty_file\"><rect fill=\"#F1F1F1\" height=\"50.2656\" rx=\"12.5\" ry=\"12.5\" style=\"stroke:#181818;stroke-width:0.5;\" width=\"98\" x=\"86\" y=\"144\"/><line style=\"stroke:#181818;stroke-width:0.5;\" x1=\"86\" x2=\"184\" y1=\"170.2969\" y2=\"170.2969\"/><text fill=\"#000000\" font-family=\"sans-serif\" font-size=\"14\" lengthAdjust=\"spacing\" textLength=\"78\" x=\"96\" y=\"161.9951\">empty_file</text><text fill=\"#000000\" font-family=\"sans-serif\" font-size=\"12\" lengthAdjust=\"spacing\" textLength=\"4\" x=\"91\" y=\"186.4355\"> </text></g><g id=\"commit_16b3c\"><rect fill=\"#F1F1F1\" height=\"78.2031\" rx=\"12.5\" ry=\"12.5\" style=\"stroke:#181818;stroke-width:0.5;\" width=\"128\" x=\"244\" y=\"130\"/><line style=\"stroke:#181818;stroke-width:0.5;\" x1=\"244\" x2=\"372\" y1=\"156.2969\" y2=\"156.2969\"/><text fill=\"#000000\" font-family=\"sans-serif\" font-size=\"14\" lengthAdjust=\"spacing\" textLength=\"108\" x=\"254\" y=\"147.9951\">commit_16b3c</text><text fill=\"#000000\" font-family=\"sans-serif\" font-size=\"12\" lengthAdjust=\"spacing\" textLength=\"58\" x=\"249\" y=\"172.4355\">baseline1</text><text fill=\"#000000\" font-family=\"sans-serif\" font-size=\"12\" lengthAdjust=\"spacing\" textLength=\"4\" x=\"249\" y=\"186.4043\"> </text><text fill=\"#000000\" font-family=\"sans-serif\" font-size=\"12\" lengthAdjust=\"spacing\" textLength=\"83\" x=\"249\" y=\"200.373\">new features:</text></g><g id=\"commit_28r98\"><rect fill=\"#F1F1F1\" height=\"78.2031\" rx=\"12.5\" ry=\"12.5\" style=\"stroke:#181818;stroke-width:0.5;\" width=\"122\" x=\"434.5\" y=\"33\"/><line style=\"stroke:#181818;stroke-width:0.5;\" x1=\"434.5\" x2=\"556.5\" y1=\"59.2969\" y2=\"59.2969\"/><text fill=\"#000000\" font-family=\"sans-serif\" font-size=\"14\" lengthAdjust=\"spacing\" textLength=\"102\" x=\"444.5\" y=\"50.9951\">commit_28r98</text><text fill=\"#000000\" font-family=\"sans-serif\" font-size=\"12\" lengthAdjust=\"spacing\" textLength=\"58\" x=\"439.5\" y=\"75.4355\">baseline1</text><text fill=\"#000000\" font-family=\"sans-serif\" font-size=\"12\" lengthAdjust=\"spacing\" textLength=\"59\" x=\"439.5\" y=\"89.4043\">baseline2</text><text fill=\"#000000\" font-family=\"sans-serif\" font-size=\"12\" lengthAdjust=\"spacing\" textLength=\"83\" x=\"439.5\" y=\"103.373\">new features:</text></g><g id=\"commit_79e4r\"><rect fill=\"#F1F1F1\" height=\"92.1719\" rx=\"12.5\" ry=\"12.5\" style=\"stroke:#181818;stroke-width:0.5;\" width=\"124\" x=\"649\" y=\"7\"/><line style=\"stroke:#181818;stroke-width:0.5;\" x1=\"649\" x2=\"773\" y1=\"33.2969\" y2=\"33.2969\"/><text fill=\"#000000\" font-family=\"sans-serif\" font-size=\"14\" lengthAdjust=\"spacing\" textLength=\"104\" x=\"659\" y=\"24.9951\">commit_79e4r</text><text fill=\"#000000\" font-family=\"sans-serif\" font-size=\"12\" lengthAdjust=\"spacing\" textLength=\"58\" x=\"654\" y=\"49.4355\">baseline1</text><text fill=\"#000000\" font-family=\"sans-serif\" font-size=\"12\" lengthAdjust=\"spacing\" textLength=\"59\" x=\"654\" y=\"63.4043\">baseline2</text><text fill=\"#000000\" font-family=\"sans-serif\" font-size=\"12\" lengthAdjust=\"spacing\" textLength=\"59\" x=\"654\" y=\"77.373\">baseline3</text><text fill=\"#000000\" font-family=\"sans-serif\" font-size=\"12\" lengthAdjust=\"spacing\" textLength=\"83\" x=\"654\" y=\"91.3418\">new features:</text></g><g id=\"commit_2b345\"><rect fill=\"#F1F1F1\" height=\"92.1719\" rx=\"12.5\" ry=\"12.5\" style=\"stroke:#181818;stroke-width:0.5;\" width=\"127\" x=\"432\" y=\"183\"/><line style=\"stroke:#181818;stroke-width:0.5;\" x1=\"432\" x2=\"559\" y1=\"209.2969\" y2=\"209.2969\"/><text fill=\"#000000\" font-family=\"sans-serif\" font-size=\"14\" lengthAdjust=\"spacing\" textLength=\"107\" x=\"442\" y=\"200.9951\">commit_2b345</text><text fill=\"#000000\" font-family=\"sans-serif\" font-size=\"12\" lengthAdjust=\"spacing\" textLength=\"58\" x=\"437\" y=\"225.4355\">baseline1</text><text fill=\"#000000\" font-family=\"sans-serif\" font-size=\"12\" lengthAdjust=\"spacing\" textLength=\"4\" x=\"437\" y=\"239.4043\"> </text><text fill=\"#000000\" font-family=\"sans-serif\" font-size=\"12\" lengthAdjust=\"spacing\" textLength=\"83\" x=\"437\" y=\"253.373\">new features:</text><text fill=\"#000000\" font-family=\"sans-serif\" font-size=\"12\" lengthAdjust=\"spacing\" textLength=\"71\" x=\"437\" y=\"267.3418\">featureline1</text></g><g id=\"commit_3r5a2\"><rect fill=\"#F1F1F1\" height=\"106.1406\" rx=\"12.5\" ry=\"12.5\" style=\"stroke:#181818;stroke-width:0.5;\" width=\"123\" x=\"649.5\" y=\"195\"/><line style=\"stroke:#181818;stroke-width:0.5;\" x1=\"649.5\" x2=\"772.5\" y1=\"221.2969\" y2=\"221.2969\"/><text fill=\"#000000\" font-family=\"sans-serif\" font-size=\"14\" lengthAdjust=\"spacing\" textLength=\"103\" x=\"659.5\" y=\"212.9951\">commit_3r5a2</text><text fill=\"#000000\" font-family=\"sans-serif\" font-size=\"12\" lengthAdjust=\"spacing\" textLength=\"58\" x=\"654.5\" y=\"237.4355\">baseline1</text><text fill=\"#000000\" font-family=\"sans-serif\" font-size=\"12\" lengthAdjust=\"spacing\" textLength=\"4\" x=\"654.5\" y=\"251.4043\"> </text><text fill=\"#000000\" font-family=\"sans-serif\" font-size=\"12\" lengthAdjust=\"spacing\" textLength=\"83\" x=\"654.5\" y=\"265.373\">new features:</text><text fill=\"#000000\" font-family=\"sans-serif\" font-size=\"12\" lengthAdjust=\"spacing\" textLength=\"71\" x=\"654.5\" y=\"279.3418\">featureline1</text><text fill=\"#000000\" font-family=\"sans-serif\" font-size=\"12\" lengthAdjust=\"spacing\" textLength=\"72\" x=\"654.5\" y=\"293.3105\">featureline2</text></g><g id=\"elem_GMN15\"><path d=\"M629,134.5 L629,159.6328 A0,0 0 0 0 629,159.6328 L793,159.6328 A0,0 0 0 0 793,159.6328 L793,144.5 L783,134.5 L715,134.5 L711,99.28 L707,134.5 L629,134.5 A0,0 0 0 0 629,134.5 \" fill=\"#FEFFDD\" style=\"stroke:#181818;stroke-width:0.5;\"/><path d=\"M783,134.5 L783,144.5 L793,144.5 L783,134.5 \" fill=\"#FEFFDD\" style=\"stroke:#181818;stroke-width:0.5;\"/><text fill=\"#000000\" font-family=\"sans-serif\" font-size=\"13\" lengthAdjust=\"spacing\" textLength=\"143\" x=\"635\" y=\"151.5669\">HEAD of 'main' branch</text></g><g id=\"elem_GMN18\"><path d=\"M619,336.5 L619,361.6328 A0,0 0 0 0 619,361.6328 L803,361.6328 A0,0 0 0 0 803,361.6328 L803,346.5 L793,336.5 L715,336.5 L711,301.1631 L707,336.5 L619,336.5 A0,0 0 0 0 619,336.5 \" fill=\"#FEFFDD\" style=\"stroke:#181818;stroke-width:0.5;\"/><path d=\"M793,336.5 L793,346.5 L803,346.5 L793,336.5 \" fill=\"#FEFFDD\" style=\"stroke:#181818;stroke-width:0.5;\"/><text fill=\"#000000\" font-family=\"sans-serif\" font-size=\"13\" lengthAdjust=\"spacing\" textLength=\"163\" x=\"625\" y=\"353.5669\">HEAD of 'branch1' branch</text></g><!--link *start* to empty_file--><g id=\"link_*start*_empty_file\"><path d=\"M26.1808,169 C39.1097,169 57.6085,169 79.9896,169 \" fill=\"none\" id=\"*start*-to-empty_file\" style=\"stroke:#181818;stroke-width:1.0;\"/><polygon fill=\"#181818\" points=\"85.9896,169,76.9896,165,80.9896,169,76.9896,173,85.9896,169\" style=\"stroke:#181818;stroke-width:1.0;\"/></g><!--link empty_file to commit_16b3c--><g id=\"link_empty_file_commit_16b3c\"><path d=\"M184.088,169 C202.66,169 218.164,169 237.944,169 \" fill=\"none\" id=\"empty_file-to-commit_16b3c\" style=\"stroke:#181818;stroke-width:1.0;\"/><polygon fill=\"#181818\" points=\"243.944,169,234.944,165,238.944,169,234.944,173,243.944,169\" style=\"stroke:#181818;stroke-width:1.0;\"/></g><!--link commit_16b3c to commit_28r98--><g id=\"link_commit_16b3c_commit_28r98\"><path d=\"M372.061,136.025 C392.227,125.48 409.1701,116.6204 429.1171,106.1894 \" fill=\"none\" id=\"commit_16b3c-to-commit_28r98\" style=\"stroke:#181818;stroke-width:1.0;\"/><polygon fill=\"#181818\" points=\"434.434,103.409,424.6051,104.035,430.0033,105.726,428.3123,111.1242,434.434,103.409\" style=\"stroke:#181818;stroke-width:1.0;\"/></g><!--link commit_28r98 to commit_79e4r--><g id=\"link_commit_28r98_commit_79e4r\"><path d=\"M556.54,66.657 C585.4,64.088 613.9586,61.5468 642.9526,58.9668 \" fill=\"none\" id=\"commit_28r98-to-commit_79e4r\" style=\"stroke:#181818;stroke-width:1.0;\"/><polygon fill=\"#181818\" points=\"648.929,58.435,639.6099,55.2484,643.9487,58.8782,640.319,63.217,648.929,58.435\" style=\"stroke:#181818;stroke-width:1.0;\"/></g><!--link commit_16b3c to commit_2b345--><g id=\"link_commit_16b3c_commit_2b345\"><path d=\"M372.061,189.397 C391.387,195.648 406.9262,200.6746 426.2192,206.9146 \" fill=\"none\" id=\"commit_16b3c-to-commit_2b345\" style=\"stroke:#181818;stroke-width:1.0;\"/><polygon fill=\"#181818\" points=\"431.928,208.761,424.5957,202.1855,427.1706,207.2223,422.1338,209.7972,431.928,208.761\" style=\"stroke:#181818;stroke-width:1.0;\"/></g><!--link commit_2b345 to commit_3r5a2--><g id=\"link_commit_2b345_commit_3r5a2\"><path d=\"M559.114,234.572 C587.537,237.102 615.0506,239.5502 643.2486,242.0592 \" fill=\"none\" id=\"commit_2b345-to-commit_3r5a2\" style=\"stroke:#181818;stroke-width:1.0;\"/><polygon fill=\"#181818\" points=\"649.225,242.591,640.6149,237.8091,644.2447,242.1479,639.9059,245.7776,649.225,242.591\" style=\"stroke:#181818;stroke-width:1.0;\"/></g><!--SRC=[bP7D2i8m48JlUOgz2OA7jjQV7WH1mNUm8adTsa2paRWYlhsqjPe85RpDPFOBiqcD9GDRSFfSCPoqmuAr9I7sumDC9Yj0S-77iTGrYeziay8Qe_aOpLHIW0YS5ySBjroyuyvvyNo9K_U3Liaq_T2jy-B4fJ8Mmc-MVLsMWP9Nh3LXb5DEX7SeKVBDuJKBMmMJlOm7aAxt4DBBv9iED_dLBQUNR6FXB_m75xZcfSWoWhBCre0jWr_8OBTTRvhJaP6QHg2SfA8QGDec7j8DHptr1000]--></g></svg>"
      ],
      "text/plain": [
       "<IPython.core.display.SVG object>"
      ]
     },
     "execution_count": 5,
     "metadata": {},
     "output_type": "execute_result"
    }
   ],
   "source": [
    "%%plantuml\n",
    "@startuml\n",
    "left to right direction\n",
    "\n",
    "[*] --> empty_file\n",
    "empty_file --> commit_16b3c \n",
    "commit_16b3c --> commit_28r98 \n",
    "commit_28r98 --> commit_79e4r \n",
    "commit_16b3c --> commit_2b345 \n",
    "commit_2b345 --> commit_3r5a2\n",
    "\n",
    "\n",
    "empty_file : \n",
    "commit_16b3c : baseline1\\n\\nnew features:\n",
    "commit_28r98 : baseline1\\nbaseline2\\nnew features:\n",
    "commit_79e4r : baseline1\\nbaseline2\\nbaseline3\\nnew features:\n",
    "\n",
    "commit_2b345 : baseline1\\n\\nnew features:\\nfeatureline1\n",
    "commit_3r5a2 : baseline1\\n\\nnew features:\\nfeatureline1\\nfeatureline2\n",
    "\n",
    "\n",
    "note bottom of commit_79e4r: HEAD of 'main' branch\n",
    "note bottom of commit_3r5a2: HEAD of 'branch1' branch\n",
    "\n",
    "\n",
    "@enduml"
   ]
  },
  {
   "cell_type": "markdown",
   "id": "93d0a000",
   "metadata": {},
   "source": [
    "### Vorarbeiten im Dateibaum\n",
    "\n",
    "Aus dem Unterverzeichnis wieder hoch ins Start-Verzeichnis wechseln, denn dort wird gleich ein neuer Ordner mit einem neuen Projekt vorbereitet.\n",
    "\n",
    "Zunächst sehen sie sich an, wo sie gerade sind..."
   ]
  },
  {
   "cell_type": "code",
   "execution_count": null,
   "id": "237abda6",
   "metadata": {},
   "outputs": [],
   "source": [
    "import os\n",
    "print(\"act. working directory: \", os.getcwd())\n",
    "print(\"Content: \", os.listdir())\n",
    "\n",
    "print(\"start_cwd was: \", start_cwd)"
   ]
  },
  {
   "cell_type": "markdown",
   "id": "b44eb335",
   "metadata": {},
   "source": [
    "*...wenn das 'start_cwd' korrekt gespeichert ist, dann mit der nächsten Zelle dort hin wechseln.*\n",
    "\n",
    "(Alternative können Console-Fans auch das cd-Kommando in einer Zelle absetzten...auch wieder mit '!' davor.)"
   ]
  },
  {
   "cell_type": "code",
   "execution_count": null,
   "id": "341cdd94",
   "metadata": {},
   "outputs": [],
   "source": [
    "os.chdir(start_cwd)\n",
    "print(\"act. working directory: \", os.getcwd())"
   ]
  },
  {
   "cell_type": "markdown",
   "id": "31fa54bf",
   "metadata": {},
   "source": [
    "Wir legen einen Ordner \"merge_example\" unterhalb von \"local_projects\" an. "
   ]
  },
  {
   "cell_type": "code",
   "execution_count": null,
   "id": "8457c403",
   "metadata": {},
   "outputs": [],
   "source": [
    "import os\n",
    "\n",
    "my_proj_folder= \"local_projects\"\n",
    "if not os.path.exists(my_proj_folder):\n",
    "    os.mkdir(my_proj_folder)\n",
    "os.chdir(my_proj_folder)\n",
    "\n",
    "my_proj_sub_folder= \"merge_example\"\n",
    "if not os.path.exists(my_proj_sub_folder):\n",
    "    os.mkdir(my_proj_sub_folder)\n",
    "os.chdir(my_proj_sub_folder)\n",
    "\n",
    "print(\"new. working directory: \", os.getcwd())\n",
    "print(\"Content: \", os.listdir())\n",
    "\n"
   ]
  },
  {
   "cell_type": "markdown",
   "id": "f73d72ae",
   "metadata": {},
   "source": [
    "Eine Datei vorbereiten:\n",
    "\n",
    "Damit das automatische Zusammenführen später gut klappt, ist die Datei direkt in mehrer **Absätze** gegliedert. In einer Datei mit Programmcode sind z.B. später auch mehrere Funktionen und die Entwickler arbeiten gleichzeitig an (hoffentlichen) verschiedenen Funktionen. (Oder noch besser auf verschiedenen Dateien.)    "
   ]
  },
  {
   "cell_type": "markdown",
   "id": "551bd873",
   "metadata": {},
   "source": [
    "Sie müssen folgende Zelle laufen lassen, damit die Datei geschrieben wird. \n",
    "\n",
    "Hintergrund: Wir nutzen hier etwas die Magie der Jupyter Notebooks, sogenanne [cell-magics und line-magics](https://ipython.readthedocs.io/en/stable/interactive/magics.html)."
   ]
  },
  {
   "cell_type": "code",
   "execution_count": null,
   "id": "92f44047",
   "metadata": {},
   "outputs": [],
   "source": [
    "%%writefile file_1.txt \n",
    "baseline1\n",
    "\n",
    "\n",
    "new features:\n"
   ]
  },
  {
   "cell_type": "markdown",
   "id": "f92492f5",
   "metadata": {},
   "source": [
    "*(Falls sie nachsehen wollen, ob das geklappt hat, dann gerne via Datei-Explorer oder die nächste Zelle ausführen.)*"
   ]
  },
  {
   "cell_type": "code",
   "execution_count": null,
   "id": "8d5a3826",
   "metadata": {},
   "outputs": [],
   "source": [
    "%cat file_1.txt"
   ]
  },
  {
   "cell_type": "markdown",
   "id": "efb91d0b",
   "metadata": {},
   "source": [
    "### init, commit und branch "
   ]
  },
  {
   "cell_type": "code",
   "execution_count": null,
   "id": "b7a62a39",
   "metadata": {},
   "outputs": [],
   "source": [
    "!git init --initial-branch=main"
   ]
  },
  {
   "cell_type": "code",
   "execution_count": null,
   "id": "5edda526",
   "metadata": {},
   "outputs": [],
   "source": [
    "!git add file_1.txt\n",
    "!git commit -m \"Add file_1.txt with baseline and room for new features\""
   ]
  },
  {
   "cell_type": "markdown",
   "id": "5880266f",
   "metadata": {},
   "source": [
    "Einen Zweig anlegen und dort weiter entwicklen..."
   ]
  },
  {
   "cell_type": "code",
   "execution_count": null,
   "id": "3640d9e3",
   "metadata": {},
   "outputs": [],
   "source": [
    "# Neuen Entwicklungspfad anlegen:\n",
    "!git branch branch1"
   ]
  },
  {
   "cell_type": "code",
   "execution_count": null,
   "id": "bfa40fa6",
   "metadata": {},
   "outputs": [],
   "source": [
    "# In den Entwicklungspfad wechseln:\n",
    "!git switch branch1"
   ]
  },
  {
   "cell_type": "markdown",
   "id": "0c05d48b",
   "metadata": {},
   "source": [
    "Noch ist der Dateiinhalt unverändert -- wenn sie es nicht glauben, dann sehen sie nach..."
   ]
  },
  {
   "cell_type": "code",
   "execution_count": null,
   "id": "dfbda5f9",
   "metadata": {},
   "outputs": [],
   "source": [
    "%cat file_1.txt"
   ]
  },
  {
   "cell_type": "markdown",
   "id": "18728963",
   "metadata": {},
   "source": [
    "### Update in branch1"
   ]
  },
  {
   "cell_type": "markdown",
   "id": "fcc94400",
   "metadata": {},
   "source": [
    "Im Branch wird am neuen Feature gearbeitet...zwei Zeilen angehängt (vgl. Optin -a)"
   ]
  },
  {
   "cell_type": "code",
   "execution_count": null,
   "id": "72163d2e",
   "metadata": {},
   "outputs": [],
   "source": [
    "%%writefile -a file_1.txt \n",
    "featureline1\n",
    "featureline2\n"
   ]
  },
  {
   "cell_type": "markdown",
   "id": "4a900c8f",
   "metadata": {},
   "source": [
    "Jetzt gerne noch einmal nachsehen im branch1:"
   ]
  },
  {
   "cell_type": "code",
   "execution_count": null,
   "id": "d1c1a263",
   "metadata": {},
   "outputs": [],
   "source": [
    "%cat file_1.txt"
   ]
  },
  {
   "cell_type": "code",
   "execution_count": null,
   "id": "5ac0cfbf",
   "metadata": {},
   "outputs": [],
   "source": [
    "!git commit -a -m \"add featureline1 and 2\""
   ]
  },
  {
   "cell_type": "markdown",
   "id": "a03fc151",
   "metadata": {},
   "source": [
    "IHRE AUFGABE: Ergänzen sie noch das Richtige am Ende des Kommandos!\n",
    "\n",
    "Wir wollen zurück zum main-Pfad. "
   ]
  },
  {
   "cell_type": "markdown",
   "id": "19769475",
   "metadata": {},
   "source": [
    "### Update in main"
   ]
  },
  {
   "cell_type": "code",
   "execution_count": null,
   "id": "473b3e7d",
   "metadata": {},
   "outputs": [],
   "source": [
    "!git switch "
   ]
  },
  {
   "cell_type": "markdown",
   "id": "15475d00",
   "metadata": {},
   "source": [
    "Jetzt noch einmal nachsehen im main-Branch!\n",
    "...wundern sie sich?"
   ]
  },
  {
   "cell_type": "code",
   "execution_count": null,
   "id": "1fc10769",
   "metadata": {},
   "outputs": [],
   "source": [
    "%cat file_1.txt"
   ]
  },
  {
   "cell_type": "markdown",
   "id": "70f8dcb9",
   "metadata": {},
   "source": [
    "Der direkte Vergleich von main aus..."
   ]
  },
  {
   "cell_type": "code",
   "execution_count": null,
   "id": "0a39a399",
   "metadata": {},
   "outputs": [],
   "source": [
    "!git diff branch1"
   ]
  },
  {
   "cell_type": "markdown",
   "id": "7bc99a8b",
   "metadata": {},
   "source": [
    "Um etwas echte Projektarbeit nachzuahmen, ergänzen wird jetzt auch noch im main-Pfad eine weitere 'baseline2'..."
   ]
  },
  {
   "cell_type": "code",
   "execution_count": null,
   "id": "b152f823",
   "metadata": {},
   "outputs": [],
   "source": [
    "%%writefile file_1.txt \n",
    "baseline1\n",
    "baseline2\n",
    "\n",
    "new features:\n"
   ]
  },
  {
   "cell_type": "code",
   "execution_count": null,
   "id": "58ee4e29",
   "metadata": {},
   "outputs": [],
   "source": [
    "!git commit -a -m \"add baseline2 in main-branch\"\n"
   ]
  },
  {
   "cell_type": "code",
   "execution_count": null,
   "id": "49d6c0f7",
   "metadata": {},
   "outputs": [],
   "source": [
    "!git diff branch1"
   ]
  },
  {
   "cell_type": "markdown",
   "id": "0c2227ac",
   "metadata": {},
   "source": [
    "### merge (automatisch)"
   ]
  },
  {
   "cell_type": "markdown",
   "id": "1b1ddefe",
   "metadata": {},
   "source": [
    "Die Änderungen im branch1 sind gut (und getestet!?); wir wollen sie im main-Pfad (für den nächsten SW-Release) übernehmen:"
   ]
  },
  {
   "cell_type": "code",
   "execution_count": null,
   "id": "7dad527c",
   "metadata": {},
   "outputs": [],
   "source": [
    "!git merge branch1 -m \"my first (hopefully automatic) merge\""
   ]
  },
  {
   "cell_type": "code",
   "execution_count": null,
   "id": "33f78dc3",
   "metadata": {},
   "outputs": [],
   "source": [
    "%cat file_1.txt\n"
   ]
  },
  {
   "cell_type": "markdown",
   "id": "02f8bcef",
   "metadata": {},
   "source": [
    "### merge (von Hand) TODO"
   ]
  },
  {
   "cell_type": "markdown",
   "id": "d2f35a39",
   "metadata": {},
   "source": [
    "Wenn das automatische Merge nicht klappt, dann wird es etwas aufwendiger. \n",
    "\n",
    "- Sie können die mit Markierungen versehene Datei(en) von Hand editieren.\n",
    "- Oder sie nutzen ein graphisches Tool.\n",
    "\n",
    "- Todo: Anleitung oder Verweis einfügen."
   ]
  },
  {
   "cell_type": "markdown",
   "id": "2bf4e703",
   "metadata": {},
   "source": [
    "# Gitlab Global"
   ]
  },
  {
   "cell_type": "markdown",
   "id": "dfcad9b2",
   "metadata": {},
   "source": [
    "Ziel: Ein Repository in der Cloud synchronisieren.\n",
    "\n",
    "*Zuerst das Huhn oder das Ei?*\n",
    "\n",
    "local --> gitlab: Sie können entweder zuerst (wie eben) mit einem lokalen Repository starten und es dann in die Cloud (gitlab) 'pushen'.\n",
    "\n",
    "Oder\n",
    "\n",
    "gitlab --> local: Sie legen ihr lokales Repository als 'clone' eines Repositories aus der Cloud an. "
   ]
  },
  {
   "cell_type": "markdown",
   "id": "ae7dae22",
   "metadata": {},
   "source": [
    "## local --> gitlab\n",
    "\n",
    "Ziel: Ein lokales Repo zu gitlab pushen\n",
    "\n",
    "Damit das funktioniert, müssen in ihrer Installation auch die Keys/Credentials hinterlegt sein, damit git diese nutzen kann um \"Schreib-Berechtigung\" in gitlab zu besitzen. \n",
    "\n",
    "Todo: Das ist hier noch nicht für alle Fälle getestet. In Colab geht es besser (oder nur mit github statt gitlab).\n",
    "\n",
    "Wir sehen erst einmal nach, ob evtl. schon etwas bzgl. des Remote Repositries im lokalen Projekt hinterlegt ist:"
   ]
  },
  {
   "cell_type": "code",
   "execution_count": null,
   "id": "1253c78b",
   "metadata": {},
   "outputs": [],
   "source": [
    "!git remote -v"
   ]
  },
  {
   "cell_type": "markdown",
   "id": "7abc193f",
   "metadata": {},
   "source": [
    "*...keine Ausgabe? Dann ist noch nichts hinterlegt. Unter **'origin'** wird lokal gespeichert, wohin in die Cloud synchronisiert werden soll...das ist aber wahrscheinlich auch noch nicht gesetzt -- also wundern sie sich nicht über die (Fehler-)Ausgabe...* "
   ]
  },
  {
   "cell_type": "code",
   "execution_count": null,
   "id": "d192ef2d",
   "metadata": {},
   "outputs": [],
   "source": [
    "!git remote show origin"
   ]
  },
  {
   "cell_type": "markdown",
   "id": "99894e14",
   "metadata": {},
   "source": [
    "Das Repo. in die Cloud hoch-schieben:"
   ]
  },
  {
   "cell_type": "markdown",
   "id": "f5347280",
   "metadata": {},
   "source": [
    "Vorarbeit: Später gibt es oft mehrer Entwicklungspfade 'branches'. Welches ist der Hauptast/Stamm im Baum? Früher (und je nach Installation auch heute) wird der Stamm 'master' genannt. Besser ist es, ihn 'main' zu nennen. Sehen sie einmal nach und führen ggf. auch die übernächste Zelle zum Ändern aus! "
   ]
  },
  {
   "cell_type": "code",
   "execution_count": null,
   "id": "fb6a0293",
   "metadata": {},
   "outputs": [],
   "source": [
    "!git status"
   ]
  },
  {
   "cell_type": "code",
   "execution_count": null,
   "id": "af73913a",
   "metadata": {},
   "outputs": [],
   "source": [
    "!git branch -m master main"
   ]
  },
  {
   "cell_type": "markdown",
   "id": "d3c32400",
   "metadata": {},
   "source": [
    "Jetzt können sie den upstream vornehmen. Sie können dabei einen Namen für das Projekt festlegen.\n",
    "\n",
    "In gitlab ist für diese Test-Projekte ein Unterverzeichnis alab/cpp/tmp4test vorbereitet. In gitlab nennt man solche Unterverzeichnise 'subgroup' -- die können sie später auch selbst anlegen.\n",
    "\n",
    "*Da wahrscheinlich schon andere den Namen 'project_1' genutzt haben, verwenden/vergeben sie hier einfach einen anderen, z.B: 'myemail_proj1'*"
   ]
  },
  {
   "cell_type": "code",
   "execution_count": null,
   "id": "2e70122d",
   "metadata": {},
   "outputs": [],
   "source": [
    "!git push --set-upstream https://gitlab.uni-koblenz.de/alab/cpp/tmp4test/project_1.git main"
   ]
  },
  {
   "cell_type": "code",
   "execution_count": null,
   "id": "e6dfcae4",
   "metadata": {},
   "outputs": [],
   "source": [
    "!git remote add origin  https://gitlab.uni-koblenz.de/alab/cpp/tmp4test/project_1.git"
   ]
  },
  {
   "cell_type": "markdown",
   "id": "c58b81c5",
   "metadata": {},
   "source": [
    "*Sehen sie sich ihr Projekt im Browser an!* (ggf. Namen anpassen!)"
   ]
  },
  {
   "cell_type": "code",
   "execution_count": null,
   "id": "8ae06198",
   "metadata": {},
   "outputs": [],
   "source": [
    "import webbrowser\n",
    "url = 'https://gitlab.uni-koblenz.de/alab/cpp/tmp4test/project_1.git'\n",
    "webbrowser.open(url)"
   ]
  },
  {
   "cell_type": "markdown",
   "id": "ac9000b7",
   "metadata": {},
   "source": [
    "### diff  \n",
    "\n",
    "Mit git diff die Unterschiede zwischen der lokalen Version und der Remote-Version anzuzeigen.\n",
    "\n",
    "Änderne sie lokal oder global und versuchen es (noch einmal).\n",
    "\n",
    "Falls die Ausgabe zu lang wird, dann hängen sie z.B. folendes hinten an den Befehlt:  `file_1.txt`"
   ]
  },
  {
   "cell_type": "code",
   "execution_count": null,
   "id": "5a4bcac3",
   "metadata": {},
   "outputs": [],
   "source": [
    "!git diff origin/main"
   ]
  },
  {
   "cell_type": "markdown",
   "id": "55515376",
   "metadata": {},
   "source": [
    "## gitlab --> lokal\n",
    "\n",
    "GitLab-Projekt erstellen und dann clonen\n",
    "- Gehen Sie zu GitLab (https://gitlab.com/) und loggen Sie sich ein.\n",
    "- Erstellen Sie ein neues Projekt.\n",
    "\n",
    "Oder clonen sie erste einmal ein schon vorhandenes Projekt.\n",
    "\n",
    "Auf jeden Fall sollten sie jetzt ein neues lokales Verzeichnis anlegen und nutzen, denn im aktuellen Verzeichnis liegt ja (wahrscheinlich) schon ein Repository für die bisherigen Übungen. \n",
    "\n",
    "Sehen sie sich am besten erst noch einmal an, wo sie sich gerade befinden."
   ]
  },
  {
   "cell_type": "markdown",
   "id": "767c1f25",
   "metadata": {},
   "source": [
    "### Vorarbeiten im Dateibaum\n",
    "\n",
    "Aus dem Unterverzeichnis wieder hoch ins Start-Verzeichnis wechseln, denn dort wird gleich ein neuer Ordner mit einem neuen Projekt aus gitlab erstellt /ge-cloned."
   ]
  },
  {
   "cell_type": "code",
   "execution_count": null,
   "id": "3560889d",
   "metadata": {},
   "outputs": [],
   "source": [
    "import os\n",
    "print(\"act. working directory: \", os.getcwd())\n",
    "print(\"Content: \", os.listdir())\n",
    "\n",
    "print(\"start_cwd was: \", start_cwd)"
   ]
  },
  {
   "cell_type": "markdown",
   "id": "da80c7ee",
   "metadata": {},
   "source": [
    "*...wenn das 'start_cwd' korrekt gespeichert ist, dann mit der nächstn Zelle dort hin wechseln.*\n",
    "\n",
    "(Alternative können Console-Fans auch das cd-Kommando in einer Zelle absetzten...auch wieder mit '!' davor.)"
   ]
  },
  {
   "cell_type": "code",
   "execution_count": null,
   "id": "30f49e2b",
   "metadata": {},
   "outputs": [],
   "source": [
    "os.chdir(start_cwd)\n",
    "print(\"act. working directory: \", os.getcwd())"
   ]
  },
  {
   "cell_type": "markdown",
   "id": "174a3e02",
   "metadata": {},
   "source": [
    "### git clone\n",
    "\n",
    "Das wohl wichtigeste Kommando: Eine lokale Kopie von einem bestehenden git-Projekt erstellen."
   ]
  },
  {
   "cell_type": "code",
   "execution_count": null,
   "id": "eed96816",
   "metadata": {},
   "outputs": [],
   "source": [
    "!git clone https://gitlab.uni-koblenz.de/alab/cpp/cpphandson/handsonparameter"
   ]
  },
  {
   "cell_type": "code",
   "execution_count": null,
   "id": "c4b6588d",
   "metadata": {},
   "outputs": [],
   "source": [
    "print(\"Content: \", os.listdir())"
   ]
  },
  {
   "cell_type": "markdown",
   "id": "36f43fc0",
   "metadata": {},
   "source": [
    "## Todo zu Überarbeiten - bitte noch nicht nutzen!"
   ]
  },
  {
   "cell_type": "markdown",
   "id": "d2436943",
   "metadata": {},
   "source": [
    "### Repository mit GitLab verknüpfen:  \n",
    "- Fügen Sie den GitLab-Remote hinzu:\n",
    "- Hinweis: Ersetzen Sie IHRE_GITLAB_REPO_URL durch die URL Ihres GitLab-Projekts."
   ]
  },
  {
   "cell_type": "code",
   "execution_count": null,
   "id": "9105d9d7-176c-4f80-b778-49a8e8dd719d",
   "metadata": {},
   "outputs": [],
   "source": [
    "!git remote add origin IHRE_GITLAB_REPO_URL"
   ]
  },
  {
   "cell_type": "markdown",
   "id": "89291740",
   "metadata": {},
   "source": [
    "- PusheN Sie das Repository zu GitLab:\n",
    "- Hinweis: Hierbei könnte es sein, dass Sie sich mit Ihrem GitLab-Anmeldeinformationen authentifizieren mussen."
   ]
  },
  {
   "cell_type": "code",
   "execution_count": null,
   "id": "47b251b3-c528-4927-971a-462ad0797ecf",
   "metadata": {},
   "outputs": [],
   "source": [
    "!git push -u origin master"
   ]
  },
  {
   "cell_type": "markdown",
   "id": "cfa1b824",
   "metadata": {},
   "source": [
    "# Misc"
   ]
  },
  {
   "cell_type": "markdown",
   "id": "5ada3d65",
   "metadata": {},
   "source": [
    "## Alternativen bzgl. checkout & switch & Co.. "
   ]
  },
  {
   "cell_type": "markdown",
   "id": "6008d9e2",
   "metadata": {},
   "source": [
    "**ACHTUNG:** Die Zellen unten sind (noch nicht) zum Ausführen gedacht, weil der Zustand des Repos oft noch nicht passt."
   ]
  },
  {
   "cell_type": "code",
   "execution_count": null,
   "id": "834a4a49",
   "metadata": {},
   "outputs": [],
   "source": [
    "# Anlegen und Verzweigen auf einmal mit Option -b\n",
    "!git checkout -b branch-1"
   ]
  },
  {
   "cell_type": "code",
   "execution_count": null,
   "id": "b79abab4",
   "metadata": {},
   "outputs": [],
   "source": [
    "# Alternativ geht es neuerdings auch so:\n",
    "!git switch -c branch-1\n",
    "# diesmal mit -c für das direkte **C**reate des Pfades\n",
    "# switch hat ein paar Optionen (und damit auch Gefahren) weniger als checkout"
   ]
  },
  {
   "cell_type": "markdown",
   "id": "e4a3f4a1",
   "metadata": {},
   "source": [
    "#### Zum vorherigen Commit zurückkehren:"
   ]
  },
  {
   "cell_type": "code",
   "execution_count": null,
   "id": "0a1651fa",
   "metadata": {},
   "outputs": [],
   "source": [
    "!git checkout - //oder !git switch -"
   ]
  },
  {
   "cell_type": "markdown",
   "id": "d328828d",
   "metadata": {},
   "source": [
    "#### Zum neuesten Commit auf dem aktuellen Branch zurückkehren:"
   ]
  },
  {
   "cell_type": "code",
   "execution_count": null,
   "id": "d6303c29",
   "metadata": {},
   "outputs": [],
   "source": [
    "!git checkout HEAD //oder git switch HEAD"
   ]
  },
  {
   "cell_type": "markdown",
   "id": "627123d0",
   "metadata": {},
   "source": [
    "#### Eine Datei in einem bestimmten Commit wiederherstellen:"
   ]
  },
  {
   "cell_type": "code",
   "execution_count": null,
   "id": "5303834a",
   "metadata": {},
   "outputs": [],
   "source": [
    "!git checkout COMMIT_HASH -- dateiname //oder git switch COMMIT_HASH -- dateiname"
   ]
  },
  {
   "cell_type": "markdown",
   "id": "18c3a0f2",
   "metadata": {},
   "source": [
    "### Via Commit HASH wechseln  "
   ]
  },
  {
   "cell_type": "code",
   "execution_count": null,
   "id": "a4ab104b",
   "metadata": {},
   "outputs": [],
   "source": [
    "!git checkout COMMIT_HASH // Oder !git switch COMMIT_HASH"
   ]
  },
  {
   "cell_type": "markdown",
   "id": "b4e27d3f",
   "metadata": {},
   "source": [
    "Ersetzen Sie COMMIT_HASH durch die tatsächliche Commit-Hash-Zeichenfolge, die Sie wechseln möchten. Sie können den Commit-Hash aus dem git log-Befehl oder aus der Git-Web-Oberfläche extrahieren.  \n",
    "Hinweis:  \n",
    "`git log`, dieser Befehl zeigt eine Liste der jüngsten Commits an, wobei jeder Commit von einem Hash begleitet wird. Der neueste Commit steht oben. Sie können den Hash des gewünschten Commits kopieren und dann für den git checkout- oder git switch-Befehl verwenden."
   ]
  },
  {
   "cell_type": "markdown",
   "id": "2de06707",
   "metadata": {},
   "source": [
    "### Delete the 'feature' branch"
   ]
  },
  {
   "cell_type": "code",
   "execution_count": null,
   "id": "f372b01d",
   "metadata": {},
   "outputs": [],
   "source": [
    "\n",
    "!git branch -d feature"
   ]
  },
  {
   "cell_type": "markdown",
   "id": "8f4e293c-4893-4244-a8c1-2a1f677689e0",
   "metadata": {},
   "source": [
    "# Testaufgabe"
   ]
  },
  {
   "cell_type": "markdown",
   "id": "7a7690ad",
   "metadata": {},
   "source": [
    "Todo: selbst Testen durch Dozenten -- oder Mutige vor!\n",
    "\n",
    "- Erstellen Sie durch das Terminal eine Repo bzw. ein Projekt namens Git_Projekt.\n",
    "- Wechseln Sie zum erstellten Ordner.\n",
    "- Erstellen Sie eine Datei mit dem Inhalt \"Hallo!\".\n",
    "- Erstellen Sie ein Projekt auf GitLab.\n",
    "- Verbinden Sie Ihre lokale Repo mit Ihrem Projekt auf GitLab.\n",
    "- Durch Git laden Sie die erstellte Datei auf GitLab hoch.\n",
    "- Ändern Sie den Inhalt der Datei zu \"Meine zweite commit\" .\n",
    "- Fragen Sie den Unterschied zwischen lokaler und remoter Repo.\n",
    "- Fragen Sie den status.\n",
    "- Laden Sie die neu geänderte Datei hoch.\n",
    "- Wechseln Sie zur ersten Version.\n",
    "- Wechseln Sie zurück zum neusten Version."
   ]
  }
 ],
 "metadata": {
  "kernelspec": {
   "display_name": "Python 3 (ipykernel)",
   "language": "python",
   "name": "python3"
  },
  "language_info": {
   "codemirror_mode": {
    "name": "ipython",
    "version": 3
   },
   "file_extension": ".py",
   "mimetype": "text/x-python",
   "name": "python",
   "nbconvert_exporter": "python",
   "pygments_lexer": "ipython3",
   "version": "3.11.7"
  }
 },
 "nbformat": 4,
 "nbformat_minor": 5
}
