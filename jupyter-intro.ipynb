{
 "cells": [
  {
   "cell_type": "markdown",
   "id": "580b5dab",
   "metadata": {},
   "source": [
    "<a href=\"https://colab.research.google.com/github/wwalbrecht/stuff4students/blob/main/jupyter-intro.ipynb\" target=\"_parent\"><img src=\"https://colab.research.google.com/assets/colab-badge.svg\" alt=\"Open In Colab\"/></a>"
   ]
  },
  {
   "cell_type": "markdown",
   "id": "c8eb7684-f8d6-442d-816b-58e113151bcb",
   "metadata": {},
   "source": [
    "# Intro  \n",
    "\n",
    "Zweck diese Jupyter Notebooks: Sie sollen einen Einblick in die Möglichkeiten von Jupyter Notebooks bekommen. \n",
    "\n",
    "Mit Jupyter Notebooks können sie **formatierten Text** und **Programmcode** in aufeinander folgenden \"Zellen\" mischen. Der Text kann mittels der Syntax von \"markdown\" sehr einfach formatiert werden. Der Programmcode, z.B. in Python, kann im Notebook ausgeführt werden. Dazu läuft im Hintergrund ein Server, den starten sie lokal selbst, oder nutzen einen Anbieter in der Cloud. Die Anzeige des Jupyter Notebooks (kurz: Notebook) ist dann meist in einem Browser-Fenster. Sie können aber auch eine IDE, wie z.B. VS Code nutzen.\n",
    "\n",
    "'Jupyter Lab' ist die neuere, mächtigere Variante, bei der z.B. auch zusätzliche Dateien verwaltet werden können.\n",
    "\n",
    "Einige weitere Features, die sie in den Code-Zellen nutzen können:\n",
    "- Graphen (matplotlib) oder Diagramme (UML) generieren und angezeigen \n",
    "- Kommandos an das Betriebssystem (die Konsole) schicken. (Markierung mit `!`) \n",
    "- *magische* Befehle von Jupyter absetzten  (Markierung mit `%` und `%%`) \n"
   ]
  },
  {
   "cell_type": "markdown",
   "id": "19e47f12",
   "metadata": {},
   "source": [
    "Hier eine Sammlung von Links:\n",
    "\n",
    "+ Jupyter Notebooks\n",
    "\n",
    "    - [jupyter-tutorial from dataquest.io](https://www.dataquest.io/blog/jupyter-notebook-tutorial/)\n",
    "    - [jupyter.org](https://jupyter.org/)\n",
    "    - [jupyter-notebook.readthedocs.io](https://jupyter-notebook.readthedocs.io/en/stable/notebook.html)\n",
    "\n",
    "+ Markdown Syntax\n",
    "\n",
    "    - [www.markdownguide.org/basic-syntax/](https://www.markdownguide.org/basic-syntax/)\n"
   ]
  },
  {
   "cell_type": "markdown",
   "id": "d7b238d6",
   "metadata": {},
   "source": [
    "# Markdown Formatierung in Beispielen\n",
    "## Noch eine Überschrift\n",
    "### Eine kleine Auswahl\n",
    "\n",
    "Text in *kursiv* oder **fett**. \n",
    "> Ein Zitat eingerückt.\n",
    "\n",
    "Eine Liste:\n",
    "- ein Eintrag \n",
    "- noch ein Eintrag\n",
    "    - Geschachtelt dank 4 Leerzeichen\n",
    "\n",
    "1. ein Eintrag mit Nummer\n",
    "2. der nächste Eintrag\n",
    "\n",
    "Man kann auch vieles <br> von HTML <strong>verwenden</strong>.\n",
    "\n"
   ]
  },
  {
   "cell_type": "markdown",
   "id": "fc0aea04",
   "metadata": {},
   "source": [
    "# Bedienung des Notebooks - das Wichtigste\n",
    "\n",
    "- Zum Ausführen einer Zelle mit Programmcode entweder auf das Dreieck-Icon klicken, oder Shift+Enter.\n",
    "- In Jupyter Notebooks gibt es auch ein Menu (meist ganz oben), mit dem Sie z.B. die Ausführung neu starten können.\n",
    "- Ein Inhaltsverzeichnis/ eine Gliederung des Notebooks wird (meist links daneben) angezeigt.\n",
    "- Sie können sowohl die Zellen mit Text (in einfacher Markdown-Syntax), also aus die Zellen mit Code editieren; mit Doppelklick.\n",
    "- Wenn sie damit fertig sind: Rechts oben ein Haken d'ran, oder Ctrl+Enter\n"
   ]
  },
  {
   "cell_type": "markdown",
   "id": "e726d250",
   "metadata": {},
   "source": [
    "# Code Zellen\n",
    "In Code Zellen können sie z.B. Python-Code einfügen, den sie ausführen können. \n",
    "\n",
    "Evtl. werden sie beim ersten mal noch aufgefordert auszuwählen, welche ihrer ggf. mehreren Python-Installationen genutzt werden soll."
   ]
  },
  {
   "cell_type": "code",
   "execution_count": null,
   "id": "7558e124",
   "metadata": {},
   "outputs": [],
   "source": [
    "print(\"Hello Python\")"
   ]
  },
  {
   "cell_type": "code",
   "execution_count": null,
   "id": "63425f20",
   "metadata": {},
   "outputs": [],
   "source": [
    "x= 7\n",
    "print(\" 2 * x:\", 2*x)"
   ]
  },
  {
   "cell_type": "markdown",
   "id": "c99f4beb",
   "metadata": {},
   "source": [
    "# Befehle ans Betriebssystem\n",
    "\n",
    "Notieren sie einfach ein `!` vor dem Befehl. Er wird dann auf dem aktuellen Server des Notebooks ausgeführt. Auf ihrem Rechner ist das vielleicht Windows, bei Colab ist das z.B. ein Linux. "
   ]
  },
  {
   "cell_type": "code",
   "execution_count": null,
   "id": "d4d6bda0",
   "metadata": {},
   "outputs": [],
   "source": [
    "# Ein Test für Windows (gibt das aktuelle Arbeitsverzeichnis aus)\n",
    "!cd"
   ]
  },
  {
   "cell_type": "code",
   "execution_count": null,
   "id": "1ee83f7a",
   "metadata": {},
   "outputs": [],
   "source": [
    "# Ein Test für Linux (Gibt das aktuelle Arbeitsverzeichnis aus)\n",
    "!pwd"
   ]
  },
  {
   "cell_type": "code",
   "execution_count": null,
   "id": "e6522f2c",
   "metadata": {},
   "outputs": [],
   "source": [
    "# Testen sie, ob git installiert ist, egal wo\n",
    "!git --version"
   ]
  },
  {
   "cell_type": "markdown",
   "id": "61924f4e",
   "metadata": {},
   "source": [
    "Alternativ dazu ein kleines Python-Programm, das dasselbe erledigt, unabhängig vom Betriebssystem.  "
   ]
  },
  {
   "cell_type": "code",
   "execution_count": null,
   "id": "3ae2d601",
   "metadata": {},
   "outputs": [],
   "source": [
    "import os\n",
    "print(\"act. working directory: \", os.getcwd())"
   ]
  },
  {
   "cell_type": "markdown",
   "id": "b04dae73",
   "metadata": {},
   "source": [
    "# Diagramme\n",
    "Um die Diagramme unten nutzen zu können, müssen sie noch das Tool iplantUML installieren. Zum Testen ist hier auch direkt ein erstes Diagramm zu sehen."
   ]
  },
  {
   "cell_type": "code",
   "execution_count": null,
   "id": "8d47a2cf",
   "metadata": {},
   "outputs": [],
   "source": [
    "%pip install iplantuml\n",
    "import iplantuml"
   ]
  },
  {
   "cell_type": "code",
   "execution_count": null,
   "id": "90a217fa",
   "metadata": {},
   "outputs": [],
   "source": [
    "%%plantuml\n",
    "@startuml\n",
    "title States of a File\n",
    "\n",
    "[*] --> Unmodified\n",
    "\n",
    "Unmodified --> Modified : save_file\n",
    "Modified --> Staged : git add\n",
    "Staged --> Unmodified : git commit\n",
    "\n",
    "Unmodified :\n",
    "Modified : \n",
    "Staged :\n",
    "\n",
    "@enduml"
   ]
  },
  {
   "cell_type": "markdown",
   "id": "f73d72ae",
   "metadata": {},
   "source": [
    "# Magic\n",
    "\n",
    "Magics sind einfache spezielle Kommandos, die Jupyter Notebooks zusätzlich anbieten. [cell-magics und line-magics](https://ipython.readthedocs.io/en/stable/interactive/magics.html)."
   ]
  },
  {
   "cell_type": "markdown",
   "id": "551bd873",
   "metadata": {},
   "source": [
    "Sie müssen folgende Zelle ausführen, damit die Datei geschrieben wird. "
   ]
  },
  {
   "cell_type": "code",
   "execution_count": null,
   "id": "92f44047",
   "metadata": {},
   "outputs": [],
   "source": [
    "%%writefile file_1.txt \n",
    "My first line.\n",
    "My second line."
   ]
  },
  {
   "cell_type": "markdown",
   "id": "f92492f5",
   "metadata": {},
   "source": [
    "...nachsehen, ob es geklappt hat, mit Python Code..."
   ]
  },
  {
   "cell_type": "code",
   "execution_count": null,
   "id": "8d5a3826",
   "metadata": {},
   "outputs": [],
   "source": [
    "# Check file content:\n",
    "file1 = open(\"file_1.txt\",\"r\") \n",
    "print( file1.read())\n",
    "file1.close()"
   ]
  },
  {
   "cell_type": "code",
   "execution_count": null,
   "id": "06df54c0",
   "metadata": {},
   "outputs": [],
   "source": [
    "#Ein Magic um mehr über Magics zu erfahren:\n",
    "%quickref"
   ]
  },
  {
   "cell_type": "markdown",
   "id": "0549beee",
   "metadata": {},
   "source": [
    "# Matplotlib\n",
    "\n",
    "Das geht besonders schön mit Juypter Notebooks. Evtl. muss das Modul erst noch installiert werden."
   ]
  },
  {
   "cell_type": "code",
   "execution_count": null,
   "id": "46c598cc",
   "metadata": {},
   "outputs": [],
   "source": [
    "%pip install matplotlib"
   ]
  },
  {
   "cell_type": "code",
   "execution_count": null,
   "id": "91ef2811",
   "metadata": {},
   "outputs": [],
   "source": [
    "import numpy as np\n",
    "import matplotlib.pyplot as plt\n",
    "\n",
    "# Daten für die Sinus-Funktion erstellen\n",
    "x_values = np.linspace(0, 2 * np.pi, 100)\n",
    "y_values = np.sin(x_values)\n",
    "\n",
    "# Diagramm erstellen\n",
    "plt.plot(x_values, y_values)\n",
    "plt.title('Sinus-Funktion')\n",
    "plt.xlabel('x')\n",
    "plt.ylabel('sin(x)')\n",
    "plt.grid(True)\n",
    "plt.show()"
   ]
  }
 ],
 "metadata": {
  "kernelspec": {
   "display_name": "Python 3",
   "language": "python",
   "name": "python3"
  },
  "language_info": {
   "codemirror_mode": {
    "name": "ipython",
    "version": 3
   },
   "file_extension": ".py",
   "mimetype": "text/x-python",
   "name": "python",
   "nbconvert_exporter": "python",
   "pygments_lexer": "ipython3",
   "version": "3.11.7"
  }
 },
 "nbformat": 4,
 "nbformat_minor": 5
}
