{
  "cells": [
    {
      "cell_type": "markdown",
      "metadata": {
        "colab_type": "text",
        "id": "view-in-github"
      },
      "source": [
        "<a href=\"https://colab.research.google.com/github/wwalbrecht/stuff4students/blob/main/cpp2py.ipynb\" target=\"_parent\"><img src=\"https://colab.research.google.com/assets/colab-badge.svg\" alt=\"Open In Colab\"/></a>"
      ]
    },
    {
      "cell_type": "markdown",
      "metadata": {},
      "source": [
        "# Allgemeines \n",
        "\n",
        "Ziel dieses Jupyter Notebooks ist ein leichter Einstieg in **Python** anhand von Beispielen, falls sie bereits mit **C++** vertraut sind.\n",
        "\n",
        "Ein weiteres Ziel ist es, hierbei auch das Verständnis für die Konzepte von C++ durch Wiederholung und Vergleich zu vertiefen.\n",
        "\n",
        "Danke an Herrn Ashraf Yahya für die Mithife bei der Erstellung des Notebooks. \n",
        "\n",
        "Viele Ideen stammen aus https://python.pages.doc.ic.ac.uk/cpp/lessons/cpp/ für dasselbe Publikum."
      ]
    },
    {
      "cell_type": "markdown",
      "metadata": {
        "id": "aAsX4EvQw90t"
      },
      "source": [
        "## Allgemeines zu Jupyter Notebooks\n",
        "Bei Jupyter Notebooks https://jupyter.org/ kann Text mit Programm-Code gemischt werden.\n",
        "\n",
        "Damit sie zur Ausführung keine lokalen Installationen benötigen, benutzen wir die Cloud von Google Colab https://colab.research.google.com/?hl=de. Dafür brauchen sie leider ein **Konto bei google**. Eine lokale Installation ist auch möglich, aber wegen des C++ Compilers aufwendig. Falls sie nur den Python Code ausführen möchten, dann können sie auch eine lokale Installtion oder z.B. Visual Studio Code nutzen. Aktuelle Anleitungen finden sie im Web.\n",
        "\n",
        "### Das Wichtigste für die **Bedienung**: \n",
        "- Zum Ausführen einer Zelle mit Programmcode entweder auf das Dreieck-Icon klicken, oder *Shift+Enter*.\n",
        "- In Jupyter Notebooks gibt es auch ein Menu (meist ganz oben), mit dem Sie z.B. die Ausführung neu starten können.\n",
        "- Ein Inhaltsverzeichnis/ eine Gliederung des Notebooks wird (meist links daneben) auch angezeigt. \n",
        "- Sie können sowohl die Zellen mit Text (in einfacher Markdown-Syntax), also aus die Zellen mit Code editieren; mit Doppelklick.\n",
        "- Wenn sie damit fertig sind: Rechts oben ein Haken d'ran, oder *Ctrl+Enter*"
      ]
    },
    {
      "cell_type": "markdown",
      "metadata": {},
      "source": [
        "<img src=\"pics/python-logo-only.svg\" alt=\"Python\" width=\"30\" height=\"auto\"> \n",
        "Vorab ein kurzer Gruss von Python-Code, dem eingebauten 'Favoriten' bei Jupyter Notebooks:\n",
        "\n"
      ]
    },
    {
      "cell_type": "code",
      "execution_count": 3,
      "metadata": {
        "id": "NgJSWXEf1ZKf"
      },
      "outputs": [
        {
          "name": "stdout",
          "output_type": "stream",
          "text": [
            "Vorab ein kurzer Gruss von .\n"
          ]
        }
      ],
      "source": [
        "print(\"Vorab ein kurzer Gruss von Python-Code, dem eingebauten 'Favoriten' bei Jupyter Notebooks.\")"
      ]
    },
    {
      "cell_type": "markdown",
      "metadata": {},
      "source": [
        "### Sicherung bei Nutzung von Colab via Google Drive (((Experimentell und nicht benötigt!)))\n",
        "Falls sie ihre Ergebnisse/Ausgaben bei der Nutzung in Colab über eine Browser-Sitzung hinaus speichern möchten, dann nutzen sie folgende Zeilen, um ihr google-Drive zu verbinden."
      ]
    },
    {
      "cell_type": "code",
      "execution_count": null,
      "metadata": {},
      "outputs": [],
      "source": [
        "from google.colab import drive\n",
        "drive.mount('/content/drive')\n",
        "!echo \"Zur Überprüfung die Inhalt des 'Laufwerks' ausgeben:\"\n",
        "!ls -l \"/content/drive/My Drive\""
      ]
    },
    {
      "cell_type": "markdown",
      "metadata": {},
      "source": [
        "## Nötige Initialisierungen"
      ]
    },
    {
      "cell_type": "markdown",
      "metadata": {
        "id": "ra9j3V0XQJ_s"
      },
      "source": [
        "### Init für C++\n",
        "\n",
        "Für C++ müssen Installationen gemacht (und ausgeführt) werden, damit im Notebook das \"cell magic\" %%cuda für den Compiler verfügbar ist. (Quelle: https://www.geeksforgeeks.org/how-to-run-cuda-c-c-on-jupyter-notebook-in-google-colaboratory/)\n",
        "\n",
        "Falls sie dieses Notebook in Colab geöffnet haben, dann führen sie jetzt diesen Code-Block aus! Zum Ausführen des Programm-Code gehen sie mit der Maus über die nächste Zelle (Code Block) und klicken auf den Pfeil (Dreieck) daneben.\n",
        "\n",
        "(Für Interessierte: Mit '!' am Anfang der Zeil werden hier Befehle an die Konsole des Servers geschickt.)"
      ]
    },
    {
      "cell_type": "code",
      "execution_count": null,
      "metadata": {
        "id": "fyVDClX4P3WX"
      },
      "outputs": [],
      "source": [
        "!echo \"Installation according to https://github.com/andreinechaev/nvcc4jupyter\"\n",
        "!echo \"*** 1.)  Test if NVIDIA(R)-cuda-compiler-driver is availabe...\"\n",
        "!nvcc --version\n",
        "!echo \"*** 2.) Install extension to run nvcc ...\"\n",
        "%pip install nvcc4jupyter\n",
        "!echo \"*** 3.) Load extension using a 'line magic %' command....\"\n",
        "%load_ext nvcc4jupyter"
      ]
    },
    {
      "cell_type": "markdown",
      "metadata": {},
      "source": [
        "Weitere Infos (allerdings nicht ganz neu): https://colab.research.google.com/github/j143/notebooks/blob/main/cuda_on_colab.ipynb"
      ]
    },
    {
      "cell_type": "markdown",
      "metadata": {
        "id": "IvvCXgAEOR52"
      },
      "source": [
        "#### Hello C++-World from Jupyter Notebook\n",
        "\n",
        "<img src=\"pics/ISO_C++_Logo.svg\" alt=\"C++\" width=\"30\" height=\"auto\">\n",
        "Falls die Installationen geklappt haben, dann sollten sie jetzt auch folgendes ausführen können."
      ]
    },
    {
      "cell_type": "code",
      "execution_count": null,
      "metadata": {
        "id": "GDXqDlB-PnvJ"
      },
      "outputs": [],
      "source": [
        "%%cuda\n",
        "#include <iostream>\n",
        "int\tmain(void) {\n",
        "\tstd::cout << \"Hello from C++ inside jupyter notebook!\\n\";\n",
        "\treturn 0;\n",
        "}"
      ]
    },
    {
      "cell_type": "markdown",
      "metadata": {},
      "source": [
        "Probleme? \n",
        "> Sehen sie statt der Ausgabe nur \"*UsageError: Cell magic `%%cuda` not found.*\"?\n",
        "> Haben sie den Code-Block darüber schon ausgeführt?\n",
        "> (Wundern sie sich nicht über die Unterstrich-Markierungen des Editors -- der denkt leider er hätte Python-Code vor sich.)"
      ]
    },
    {
      "cell_type": "markdown",
      "metadata": {},
      "source": [
        "### Init für plantUML-Diagramme\n",
        "\n",
        "Ein Tool zum Zeichnen von (UML-)Diagrammen zur Illustration im Notebook. [(Dokumentation dazu)](https://plantuml.com/de/)"
      ]
    },
    {
      "cell_type": "code",
      "execution_count": 1,
      "metadata": {},
      "outputs": [
        {
          "name": "stdout",
          "output_type": "stream",
          "text": [
            "Requirement already satisfied: iplantuml in c:\\users\\albrecht\\appdata\\local\\programs\\python\\python310\\lib\\site-packages (0.1.1)\n",
            "Requirement already satisfied: plantweb in c:\\users\\albrecht\\appdata\\local\\programs\\python\\python310\\lib\\site-packages (from iplantuml) (1.2.1)\n",
            "Requirement already satisfied: six in c:\\users\\albrecht\\appdata\\roaming\\python\\python310\\site-packages (from plantweb->iplantuml) (1.16.0)\n",
            "Requirement already satisfied: requests in c:\\users\\albrecht\\appdata\\local\\programs\\python\\python310\\lib\\site-packages (from plantweb->iplantuml) (2.28.2)\n",
            "Requirement already satisfied: docutils in c:\\users\\albrecht\\appdata\\local\\programs\\python\\python310\\lib\\site-packages (from plantweb->iplantuml) (0.20.1)\n",
            "Requirement already satisfied: charset-normalizer<4,>=2 in c:\\users\\albrecht\\appdata\\local\\programs\\python\\python310\\lib\\site-packages (from requests->plantweb->iplantuml) (3.1.0)\n",
            "Requirement already satisfied: idna<4,>=2.5 in c:\\users\\albrecht\\appdata\\local\\programs\\python\\python310\\lib\\site-packages (from requests->plantweb->iplantuml) (3.4)\n",
            "Requirement already satisfied: urllib3<1.27,>=1.21.1 in c:\\users\\albrecht\\appdata\\local\\programs\\python\\python310\\lib\\site-packages (from requests->plantweb->iplantuml) (1.26.15)\n",
            "Requirement already satisfied: certifi>=2017.4.17 in c:\\users\\albrecht\\appdata\\local\\programs\\python\\python310\\lib\\site-packages (from requests->plantweb->iplantuml) (2022.12.7)\n",
            "Note: you may need to restart the kernel to use updated packages.\n"
          ]
        },
        {
          "name": "stderr",
          "output_type": "stream",
          "text": [
            "\n",
            "[notice] A new release of pip is available: 23.3.1 -> 23.3.2\n",
            "[notice] To update, run: python.exe -m pip install --upgrade pip\n"
          ]
        }
      ],
      "source": [
        "%pip install iplantuml\n",
        "import iplantuml"
      ]
    },
    {
      "cell_type": "markdown",
      "metadata": {},
      "source": [
        "Ein kleine Diagramm nur zum Testen..."
      ]
    },
    {
      "cell_type": "code",
      "execution_count": 9,
      "metadata": {},
      "outputs": [
        {
          "data": {
            "image/svg+xml": [
              "<svg xmlns=\"http://www.w3.org/2000/svg\" xmlns:xlink=\"http://www.w3.org/1999/xlink\" contentStyleType=\"text/css\" height=\"154px\" preserveAspectRatio=\"none\" style=\"width:74px;height:154px;background:#FFFFFF;\" version=\"1.1\" viewBox=\"0 0 74 154\" width=\"74px\" zoomAndPan=\"magnify\"><defs/><g><g id=\"elem_x\"><rect fill=\"#F1F1F1\" height=\"36.2969\" style=\"stroke:#181818;stroke-width:0.5;\" width=\"22\" x=\"26\" y=\"7\"/><text fill=\"#000000\" font-family=\"sans-serif\" font-size=\"14\" lengthAdjust=\"spacing\" textLength=\"8\" x=\"33\" y=\"21.9951\">x</text><line style=\"stroke:#181818;stroke-width:0.5;\" x1=\"27\" x2=\"47\" y1=\"27.2969\" y2=\"27.2969\"/></g><g id=\"elem_int_1\"><rect fill=\"#F1F1F1\" height=\"44.5938\" style=\"stroke:#181818;stroke-width:0.5;\" width=\"60\" x=\"7\" y=\"103\"/><text fill=\"#000000\" font-family=\"sans-serif\" font-size=\"14\" lengthAdjust=\"spacing\" textLength=\"25\" x=\"24.5\" y=\"117.9951\">:int</text><line style=\"stroke:#181818;stroke-width:0.5;\" x1=\"8\" x2=\"66\" y1=\"123.2969\" y2=\"123.2969\"/><text fill=\"#000000\" font-family=\"sans-serif\" font-size=\"14\" lengthAdjust=\"spacing\" textLength=\"48\" x=\"13\" y=\"140.292\">int = 1</text></g><!--link x to int_1--><g id=\"link_x_int_1\"><path codeLine=\"5\" d=\"M37,43.157 C37,59.6931 37,78.7778 37,96.716 \" fill=\"none\" id=\"x-to-int_1\" style=\"stroke:#181818;stroke-width:1.0;\"/><polygon fill=\"#181818\" points=\"37,102.716,41,93.716,37,97.716,33,93.716,37,102.716\" style=\"stroke:#181818;stroke-width:1.0;\"/></g><!--SRC=[oq_AIaqkKQXGuCg7i9IiClDAb1GIYnM0TBoXGZMN0X00sGgs2ePSjLmL2hgwTX0v0000]--></g></svg>"
            ],
            "text/plain": [
              "<IPython.core.display.SVG object>"
            ]
          },
          "execution_count": 9,
          "metadata": {},
          "output_type": "execute_result"
        }
      ],
      "source": [
        "%%plantuml\n",
        "\n",
        "@startuml\n",
        "object x \n",
        "object \":int\" as int_1 {\n",
        "    int = 1\n",
        "}\n",
        "x --> int_1\n",
        "@enduml"
      ]
    },
    {
      "cell_type": "markdown",
      "metadata": {},
      "source": [
        "*Damit sollten die Initialisierungen erledigt sein und der Hauptteil kann starten.*"
      ]
    },
    {
      "cell_type": "markdown",
      "metadata": {},
      "source": [
        "# C++ vs. Python in Beispielen"
      ]
    },
    {
      "cell_type": "markdown",
      "metadata": {},
      "source": [
        "## Grundlagen für das erste Programm \n",
        "\n",
        "Aufbau, Syntax, Formatierung, Ein-/Ausgabe, ..."
      ]
    },
    {
      "cell_type": "markdown",
      "metadata": {},
      "source": [
        "### Main-Funktion\n",
        "\n",
        "<img src=\"pics/ISO_C++_Logo.svg\" alt=\"C++\" width=\"30\" height=\"auto\"> C++ verlangt genau eine `main`-Funktion "
      ]
    },
    {
      "cell_type": "code",
      "execution_count": null,
      "metadata": {},
      "outputs": [],
      "source": [
        "%%cuda\n",
        "#include <iostream>\n",
        "int\tmain(void) {\n",
        "\tstd::cout << \"Welcome To C++!\\n\";\n",
        "\treturn 0;\n",
        "}"
      ]
    },
    {
      "cell_type": "markdown",
      "metadata": {},
      "source": [
        "<img src=\"pics/python-logo-only.svg\" alt=\"Python\" width=\"30\" height=\"auto\"> Python benötigt kein `main`. \n",
        "- Es werden alle Anweisungen in der Datei ausgeführt (sofern sie nicht in Funktionen oder Klassen stehen).\n",
        "- Spätestens beim Arbeiten mit mehreren Dateien/Skripten ist es sinnvoll die Ausführung mit einer speziellen Art \"\\_\\_main\\_\\_\"-Funktion genauer zu steuern."
      ]
    },
    {
      "cell_type": "code",
      "execution_count": null,
      "metadata": {},
      "outputs": [],
      "source": [
        "print(\"Hello from anywhere in the file!\") \n",
        "\n",
        "if __name__ == '__main__': # only if run as a script\n",
        "    print(\"Hello from Python-Script (((also from Jupyter Notebook)))!\")"
      ]
    },
    {
      "cell_type": "markdown",
      "metadata": {},
      "source": [
        "### Formatierung und Co.\n",
        "\n",
        "<img src=\"pics/python-logo-only.svg\" alt=\"Python\" width=\"30\" height=\"auto\">  In Python ist das Semikolon am Ende einer Anweisung optional.\n"
      ]
    },
    {
      "cell_type": "code",
      "execution_count": null,
      "metadata": {
        "trusted": true
      },
      "outputs": [],
      "source": [
        "print(\"Hello without semicolon\")\n",
        "print(\"Hello with semicolon\"); \n",
        "\n",
        "print(\"At this ugly time...\"); print(\"...it is required\")"
      ]
    },
    {
      "cell_type": "markdown",
      "metadata": {},
      "source": [
        "### Blöcke und Einrückung am Bsp.: IF-THEN-ELSE\n",
        "\n",
        "<img src=\"pics/ISO_C++_Logo.svg\" alt=\"C++\" width=\"30\" height=\"auto\">\n",
        "Geschweiften Klammern `{ ... }` markieren Blöcke; Einrückungen sind freiwillig.\n",
        "\n",
        "```cpp\n",
        "...\n",
        "if(a>0){\n",
        "    cout<<\"positiv\";\n",
        "    if(a>100){\n",
        "        cout<<\"big\";\n",
        "    } else {\n",
        "        cout<<\"small\";\n",
        "    }\n",
        "}\n",
        "cout << \"end\";\n",
        "...\n",
        "```\n",
        "<img src=\"pics/python-logo-only.svg\" alt=\"Python\" width=\"30\" height=\"auto\">\n",
        "Einrückung DEFINIEREN logische Blöcke, wie hier zu sehen ist. \n",
        "\n",
        "Außerdem wird aus \"**if (a>0)**\" in Python \"**if a>0:**\""
      ]
    },
    {
      "cell_type": "code",
      "execution_count": null,
      "metadata": {},
      "outputs": [],
      "source": [
        "a= 101\n",
        "if a >0:\n",
        "    print(\"positiv\")\n",
        "    if a >100:\n",
        "        print(\"big\")\n",
        "    else:\n",
        "        print(\"small\")\n",
        "print(\"end\")"
      ]
    },
    {
      "cell_type": "markdown",
      "metadata": {},
      "source": [
        "Empfohlen sind 4 Leerzeichen zur Einrückung -- mischen sie nicht unterschiedliche Varianten, oder Tabs.\n",
        "\n",
        "Unterschied Beachten:\n",
        "- als 'Einleitung' über Blöcken steht ein Doppelpunkt '`:`'   \n",
        "- die Klammern bei den Bedingungen dabei sind optional"
      ]
    },
    {
      "cell_type": "markdown",
      "metadata": {},
      "source": [
        "### Kommentare  \n",
        "<img src=\"pics/ISO_C++_Logo.svg\" alt=\"C++\" width=\"30\" height=\"auto\">\n",
        "\n",
        "```cpp\n",
        "// one line of comment in C++\n",
        "something();  // ...until end of line in C++\n",
        "\n",
        "/* Multiple lines ...\n",
        "   ...of comment in C++ \n",
        "*/\n",
        "```\n",
        "\n",
        "<img src=\"pics/python-logo-only.svg\" alt=\"Python\" width=\"30\" height=\"auto\">\n",
        "\n",
        "```python\n",
        "# one line comment in Python\n",
        "something(); # ...until end of line in Python\n",
        "'''\n",
        "and this is ...\n",
        "...a multi-line comment in Python\n",
        "'''\n",
        "\n",
        "\"\"\"\n",
        "and this is ...\n",
        "...also \n",
        "\"\"\"\n",
        "```"
      ]
    },
    {
      "cell_type": "markdown",
      "metadata": {},
      "source": [
        "### Eingabe\n",
        "<img src=\"pics/ISO_C++_Logo.svg\" alt=\"C++\" width=\"30\" height=\"auto\"> Eingabe mittels std::cin:\n",
        "\n",
        "Der zu lesende Datentyp wird anhand der Ziel-Variable erkannt. (Und wird hoffentlich auch passend vom Benutzer eingegeben!) \n",
        "\n",
        "*(Wundern sie sich nicht, wenn der Code unten nicht funktioniert -- die Jupyter Notebook Server unterstützen meist keine Konsolen-Eingabe, vor allem nicht bei C++.)* "
      ]
    },
    {
      "cell_type": "code",
      "execution_count": null,
      "metadata": {},
      "outputs": [],
      "source": [
        "%%cuda\n",
        "#include <iostream>  \n",
        "#include <string>  \n",
        "using namespace std;\n",
        "int main() {  \n",
        "    cout << \"Please enter a number!\"<<endl;\n",
        "    int number;\n",
        "    cin >> number;\n",
        "    cout << \"The number is: \"  << number << endl;\n",
        "\n",
        "    cout << \"Please enter a string!\"<< endl;;\n",
        "    string str_input;\n",
        "    cin >> str_input;\n",
        "    cout << \"The string is: \" << str_input << endl;\n",
        "\n",
        "    return 0;  \n",
        "}"
      ]
    },
    {
      "cell_type": "markdown",
      "metadata": {},
      "source": [
        "<img src=\"pics/python-logo-only.svg\" alt=\"Python\" width=\"30\" height=\"auto\"> \n",
        "In Python wird eine Eingabe immer als String gelesen.\n",
        "\n",
        "Daher wird das Ergebnis oft direkt danach gecastet, z.B: in `int()` für eine Zahleingabe."
      ]
    },
    {
      "cell_type": "code",
      "execution_count": 1,
      "metadata": {
        "tags": [],
        "trusted": true
      },
      "outputs": [
        {
          "name": "stdout",
          "output_type": "stream",
          "text": [
            "The string is:  1\n",
            "The number is:  1\n",
            "The number is:  1\n"
          ]
        }
      ],
      "source": [
        "str_input= input(\"Please enter a string!\\n\")\n",
        "print(\"The string is: \", str_input)\n",
        "\n",
        "str_input= input(\"Please enter a number: \")\n",
        "number_input = int(str_input)\n",
        "print(\"The number is: \", number_input)\n",
        "\n",
        "# ...shorter:\n",
        "number_input = int(input(\"Please enter a number: \"))\n",
        "print(\"The number is: \", number_input)"
      ]
    },
    {
      "cell_type": "markdown",
      "metadata": {},
      "source": [
        "#### `f`-format für die Ausgabe.  \n",
        "<img src=\"pics/python-logo-only.svg\" alt=\"Python\" width=\"30\" height=\"auto\"> Für längere gemischte Ausgaben gibt es in Python etwas ähnliches wie bei printf:  "
      ]
    },
    {
      "cell_type": "code",
      "execution_count": 19,
      "metadata": {
        "trusted": true
      },
      "outputs": [
        {
          "name": "stdout",
          "output_type": "stream",
          "text": [
            "The entered string was: 2222 and the numer was 2222!\n",
            "\n"
          ]
        }
      ],
      "source": [
        "print(f\"The entered string was: {str_input} and the numer was {number_input}!\\n\")"
      ]
    },
    {
      "cell_type": "markdown",
      "metadata": {},
      "source": [
        "### Variablendeklaration\n",
        "\n",
        "[Vertiefung später unter 'Typisierung...']<!-- (#sec_typisierung)-->\n",
        "\n",
        "<img src=\"pics/ISO_C++_Logo.svg\" alt=\"C++\" width=\"30\" height=\"auto\">\n",
        "Variablen müssen vor der Verwendung deklariert werden; mit Typangabe.\n",
        "\n",
        "```cpp\n",
        "#include <iostream>  \n",
        "using namespace std;      \n",
        "    \n",
        "int main() {  \n",
        "    string variable1= \"Hello\";\n",
        "    float variable2= 3.14\n",
        "    int variable3= 3;   \n",
        "    return 0;  \n",
        "}\n",
        "```\n",
        "<img src=\"pics/python-logo-only.svg\" alt=\"Python\" width=\"30\" height=\"auto\">\n",
        "Bei Python können sie direkt verwendet werden, wo man sie braucht."
      ]
    },
    {
      "cell_type": "code",
      "execution_count": 21,
      "metadata": {
        "trusted": true
      },
      "outputs": [],
      "source": [
        "variable1= \"Hello\"\n",
        "variable2= 3.14\n",
        "variable3= 3"
      ]
    },
    {
      "cell_type": "markdown",
      "metadata": {},
      "source": [
        "## Objekte und Datentypen"
      ]
    },
    {
      "cell_type": "markdown",
      "metadata": {},
      "source": [
        "<a id=\"sec_typisierung\"></a>\n",
        "### Typisierung statische (C++) vs. dynamische (Python)\n",
        "\n",
        "**Wichtige grundlegende Konzepte:**\n",
        "- Alle Daten in Python sind in **Objekten** gespeichert, auch z.B. integer.\n",
        "- Variablen in Python sind *vereinfacht gesehen* \"Namen\"/\"Label\" um auf  **Objekte** zuzugreifen.\n",
        "- Die Variablen selbst haben keinen Datentyp, nur die **Objekte** auf die sie verweisen. \n",
        "- Im Vergleich zu C++ sind **alle** Variablen so etwas wie (bessere) Zeiger oder Referenzen auf Objekte.\n",
        "- Vielleicht erinnern sie sich an die void-Zeiter '`void *`' von C++. Auch diese konnten  z.B. einmal auf ein int und später auf ein string zeigen.  \n",
        "\n",
        "\n",
        "<img src=\"pics/python-logo-only.svg\" alt=\"Python\" width=\"30\" height=\"auto\"> Wenn sie das verstanden haben, dann wird sie folgendes nicht (zu sehr) verwundern:"
      ]
    },
    {
      "cell_type": "code",
      "execution_count": 1,
      "metadata": {},
      "outputs": [
        {
          "name": "stdout",
          "output_type": "stream",
          "text": [
            "Hello\n",
            "111\n",
            "222\n"
          ]
        }
      ],
      "source": [
        "a= \"Hello\"\n",
        "print(a)\n",
        "a= 111\n",
        "print(a)\n",
        "\n",
        "# more indirect using variable b: \n",
        "b= 222\n",
        "a= b\n",
        "print(a)"
      ]
    },
    {
      "cell_type": "markdown",
      "metadata": {},
      "source": [
        "##### Alle Daten in Python sind in **Objekten** gespeichert, auch z.B. integer.\n",
        "\n",
        "Selbst für Literate werden Objekte angelegt, die dann den Wert enthalten. Bei einer Variablen x, die für ein Integer, z.B. 1 steht (darauf zeigt), wird bei einer Zuweisung eines neuen Wertes, z.B. 7 NICHT der Wert „in“ der Variable x auf 7 gesetzt. Stattdessen zeigt die Variable x nach der Zuweisung auf ein anderes Objekt – das mit dem Literal 7.\n",
        "\n",
        "Die gleich verwendeten Funktionen isinstance, type, ... sind hier Nebensache, aber hoffentlich verständlich."
      ]
    },
    {
      "cell_type": "code",
      "execution_count": null,
      "metadata": {},
      "outputs": [],
      "source": [
        "x= 1\n",
        "print(\"x ist vom Typ int!?\", isinstance(x, int))\n",
        "print(\"x auch vom Typ object!?\", isinstance(x, object))\n",
        "print(\"Welchen Typ hat 7?\", type(7))\n"
      ]
    },
    {
      "cell_type": "markdown",
      "metadata": {},
      "source": [
        "Vorab zum nächsten Code-Beispiel mit der Funktion id():\n",
        "\n",
        "In Python gibt es einige eingebaute Funktionen, die man direkt (ohne Objekt) verwenden kann, z.B. die Funktion id():\n",
        "\n",
        "[docs.python.org/3/library/functions.html#id](https://docs.python.org/3/library/functions.html#id):\n",
        "*\"Return the “identity” of an object. This is an integer which is guaranteed to be unique and constant for this object during its lifetime. ... CPython implementation detail: This is the **address** of the object in memory. ...\"*\n"
      ]
    },
    {
      "cell_type": "code",
      "execution_count": null,
      "metadata": {},
      "outputs": [],
      "source": [
        "print(\"Hier ein paar Adressen (IDs) von Objekten:\")\n",
        "x= 1\n",
        "y= 2\n",
        "print(\"Zunaechst nichts besonderes: Zwei Adressen: \", id(x), id(y))\n",
        "\n",
        "print(\"Auch Literale sind in Objekten gespeichert: \")\n",
        "print(1, \"ID: \", id(1))\n",
        "print(2, \"ID: \", id(2))\n",
        "print(3, \"ID: \", id(3))\n",
        "\n",
        "print(\"Nur fuer Leute, die hinter die Kulissen schauen wollen: \")\n",
        "print(\"Abstand:\" , id(2)-id(1), id(3)-id(2))\n"
      ]
    },
    {
      "cell_type": "markdown",
      "metadata": {},
      "source": [
        "Tiefer Hintergrund: Der wichtigste Interpreter von Python heißt „CPython“. Er legt beim starten direkt einige Objekte für integer-Literale direkt an. Hier können sie ihn bei der Arbeit etwas zusehen…"
      ]
    },
    {
      "cell_type": "markdown",
      "metadata": {},
      "source": [
        "Jetzt etwas merkwürdiges:"
      ]
    },
    {
      "cell_type": "code",
      "execution_count": null,
      "metadata": {},
      "outputs": [],
      "source": [
        "a = 7\n",
        "b = a\n",
        "print(\"a = \", a, \"b = \", b) \n",
        "a = 2\n",
        "print(\"Welcher Wert hat b jetzt? Was vermuten Sie?\")\n"
      ]
    },
    {
      "cell_type": "code",
      "execution_count": null,
      "metadata": {},
      "outputs": [],
      "source": [
        "print(\"a = \", a, \"b = \", b) "
      ]
    },
    {
      "cell_type": "markdown",
      "metadata": {},
      "source": [
        "*Lösung:* ...noch nicht...sehen sie sich erst einmal selbst die Adressen dazu an...:"
      ]
    },
    {
      "cell_type": "code",
      "execution_count": null,
      "metadata": {},
      "outputs": [],
      "source": [
        "a = 7\n",
        "b = a\n",
        "print(\"a-ID = \", id(a), \", b-ID = \", id(b), \", 7-ID = \", id(7)) \n",
        "a = 2\n",
        "print(\"a-ID = \", id(a), \", b-ID = \", id(b), \", 7-ID = \", id(7), \", 2-ID = \", id(2)) \n"
      ]
    },
    {
      "cell_type": "markdown",
      "metadata": {},
      "source": [
        "*Lösung:* In b wurde zwar oben dieselbe Adresse gespeichert wie in a -- nämlich die vom Literal-Objekt 7.\n",
        "Aber: Während b weiterhin auf das Literal 7 zeigt, zeigt a jetzt auf das Literal-Objekt 2."
      ]
    },
    {
      "cell_type": "markdown",
      "metadata": {},
      "source": [
        "#### Dasselbe oder das gleiche? Wat is 'is'?\n",
        "\n",
        "\n",
        "\n",
        "\n"
      ]
    },
    {
      "cell_type": "code",
      "execution_count": null,
      "metadata": {},
      "outputs": [],
      "source": [
        "x = 1\n",
        "y = x\n",
        "print(\"Vergleich der Werte: \", x == y) \n",
        "print(\"Dasselbe Objekt dahinter? \", x is y) # Short form of: (id(x) == id(y)) \n",
        "\n",
        "print(\"y-ID\", id(y))\n",
        "y = 2 / 2\n",
        "print(\"y-ID\", id(y))\n",
        "print(\"Vergleich der Werte: \", x == y) \n",
        "print(\"Dasselbe Objekt dahinter? \", x is y) # Short form of: (id(x) == id(y)) \n"
      ]
    },
    {
      "cell_type": "markdown",
      "metadata": {},
      "source": [
        "Lösung / Erklärung: Wenn etwas (eine Zahl) neu ausgerechnet wird, dann entsteht dabei ein neues Objekt....und es wird nicht das schon vorhanden Literalt-Objekt (hier Literal-1) verwendet."
      ]
    },
    {
      "cell_type": "markdown",
      "metadata": {},
      "source": [
        "Todo dasselbe vs. das gleich...siehe C++ Testat"
      ]
    },
    {
      "cell_type": "markdown",
      "metadata": {},
      "source": [
        "### Eingebaute Datentypen von int bis str\n",
        "...für Objekte hinter den Variablen-Namen.\n",
        "Python kann über sich selbst \"reden\" (\"introspection\") (((Todo C++ auch etwas, aber das haben wir nicht behandelt)))\n",
        "\n",
        "<img src=\"pics/python-logo-only.svg\" alt=\"Python\" width=\"30\" height=\"auto\">"
      ]
    },
    {
      "cell_type": "code",
      "execution_count": null,
      "metadata": {},
      "outputs": [],
      "source": [
        "type(1)"
      ]
    },
    {
      "cell_type": "markdown",
      "metadata": {},
      "source": [
        "<img src=\"pics/python-logo-only.svg\" alt=\"Python\" width=\"30\" height=\"auto\"> verfügbare Datentypen..."
      ]
    },
    {
      "cell_type": "code",
      "execution_count": null,
      "metadata": {},
      "outputs": [],
      "source": [
        "print(\"Numbers: \", type(0), type(3.412), type(3.2e-12), type(1+2j))\n",
        "\n",
        "print(\"More Types: \", type(True), type(\"Hello\"), type('h'))\n"
      ]
    },
    {
      "cell_type": "markdown",
      "metadata": {},
      "source": [
        "<img src=\"pics/python-logo-only.svg\" alt=\"Python\" width=\"30\" height=\"auto\"> Einzelne Char gibt es nicht, aber man kann sie einzeln oder in Gruppen gut greifen:  "
      ]
    },
    {
      "cell_type": "code",
      "execution_count": null,
      "metadata": {},
      "outputs": [],
      "source": [
        "str1= \"Hello\"\n",
        "print(str1)\n",
        "print(str1[0])\n",
        "print(str1[-1])\n",
        "print(str1[1:3])\n",
        "print(str1[1:])\n",
        "print(str1[:3])"
      ]
    },
    {
      "cell_type": "markdown",
      "metadata": {},
      "source": [
        "**Aufgabe:** Geben sie getrennt voneinander zuerst den Dateinamen und dann die Datei-Endung aus."
      ]
    },
    {
      "cell_type": "code",
      "execution_count": null,
      "metadata": {},
      "outputs": [],
      "source": [
        "file1= \"testfile.txt\"\n",
        "print(file1)\n",
        "print(\"Werden sie hier aktiv!\")\n",
        "print(\"Dateiname: \")\n",
        "print(\"Datei-Endung:\")"
      ]
    },
    {
      "cell_type": "markdown",
      "metadata": {},
      "source": [
        "<details> <summary>Tipp:</summary>\n",
        "Nutzen sie negative Zahlen!\n",
        "</details>\n",
        "<br/>\n",
        "<details> <summary>Lösung:</summary>\n",
        "[:-4]\n",
        "[-3:]\n",
        "</details>"
      ]
    },
    {
      "cell_type": "markdown",
      "metadata": {},
      "source": [
        "<img src=\"pics/python-logo-only.svg\" alt=\"Python\" width=\"30\" height=\"auto\"> Strings können auf vielfältige Arte notiert werden:"
      ]
    },
    {
      "cell_type": "code",
      "execution_count": null,
      "metadata": {},
      "outputs": [],
      "source": [
        "print('so',\"oder so\",'''oder so''',\"\"\"oder so\"\"\")\n",
        "\n",
        "print('''und auch\n",
        "        ganz lang\n",
        "                sein''')"
      ]
    },
    {
      "cell_type": "markdown",
      "metadata": {},
      "source": [
        "### Listen, Tupel und Co. -- statt array\n",
        "\n",
        "Todo: Etwas siehe For-Schleife\n",
        "bis dahin: https://python.pages.doc.ic.ac.uk/cpp/lessons/cpp/04-seq/index.html\n",
        "\n",
        "...und dann auch \"Sets and Dictionaries\""
      ]
    },
    {
      "cell_type": "markdown",
      "metadata": {},
      "source": [
        "## Kontrollfluss"
      ]
    },
    {
      "cell_type": "markdown",
      "metadata": {},
      "source": [
        "### For-Schleife  \n",
        "<img src=\"pics/ISO_C++_Logo.svg\" alt=\"C++\" width=\"30\" height=\"auto\">\n",
        "\n",
        "```cpp\n",
        "#include <iostream>  \n",
        "using namespace std;      \n",
        "    \n",
        "int main() {\n",
        "    //old C-Style:\n",
        "    for(int i=0; i<4;i++){\n",
        "        cout<<i<<endl;\n",
        "    };   \n",
        "\n",
        "    //...same using \"range-for\" of C++11:\n",
        "    int myArray[]={0,1,2,3};\n",
        "    for(int i: myArray)\n",
        "        cout << i << endl;\n",
        "\n",
        "    return 0;  \n",
        "}\n",
        "```"
      ]
    },
    {
      "cell_type": "markdown",
      "metadata": {},
      "source": [
        "<img src=\"pics/python-logo-only.svg\" alt=\"Python\" width=\"30\" height=\"auto\"> Sie können in Python eine Liste von Hand erstellen und dann iterieren: \n"
      ]
    },
    {
      "cell_type": "code",
      "execution_count": null,
      "metadata": {
        "trusted": true
      },
      "outputs": [],
      "source": [
        "myArray=[0, 1, 2, 3];\n",
        "for i in myArray:\n",
        "    print(i)"
      ]
    },
    {
      "cell_type": "markdown",
      "metadata": {},
      "source": [
        "Viele Eleganter mit \"range()\":..."
      ]
    },
    {
      "cell_type": "code",
      "execution_count": null,
      "metadata": {},
      "outputs": [],
      "source": [
        "for i in range(4):\n",
        "    print(i)"
      ]
    },
    {
      "cell_type": "markdown",
      "metadata": {},
      "source": [
        "Mit *range* wird (zur Laufzeit) eine Sequenz von Integer-Werten erstellt, über die dann iteriert wird.\n",
        "\n",
        "*kurzer Exkurs*: Mit *range* (und seinen bis zu 3 Parametern) kann man auch gut eine *List* füllen...:"
      ]
    },
    {
      "cell_type": "code",
      "execution_count": null,
      "metadata": {},
      "outputs": [],
      "source": [
        "list(range(1,10,2))"
      ]
    },
    {
      "cell_type": "markdown",
      "metadata": {},
      "source": [
        "**Aufgabe:** Generieren sie die Liste [20,30,40,50]"
      ]
    },
    {
      "cell_type": "code",
      "execution_count": 23,
      "metadata": {},
      "outputs": [
        {
          "data": {
            "text/plain": [
              "[]"
            ]
          },
          "execution_count": 23,
          "metadata": {},
          "output_type": "execute_result"
        }
      ],
      "source": [
        "list(range(1,1,1))"
      ]
    },
    {
      "cell_type": "markdown",
      "metadata": {},
      "source": [
        "### Switch\n",
        "<img src=\"pics/ISO_C++_Logo.svg\" alt=\"C++\" width=\"30\" height=\"auto\">\n",
        "\n",
        "```cpp\n",
        "#include <iostream>\n",
        "using namespace std;\n",
        "\n",
        "int main() {\n",
        "    char option;\n",
        "    cout << \"Eine der Operationen +-*/ auswählen: \";\n",
        "    cin >> option;\n",
        "    int x = 2, y = 3;\n",
        "    int result;\n",
        "\n",
        "    switch (option) {\n",
        "        case '+':\n",
        "            result = x + y;\n",
        "            break;\n",
        "        case '*':\n",
        "            result = x * y;\n",
        "            break;\n",
        "        case '-':\n",
        "            result = x - y;\n",
        "            break;\n",
        "        case '/':\n",
        "            result = x / y;\n",
        "            break;\n",
        "        default:\n",
        "            result = 000;\n",
        "            cout << \"Error!\" << endl;\n",
        "    }\n",
        "    cout << \"Ergebnis: \" << result << endl;\n",
        "    return 0;\n",
        "}\n",
        "\n",
        "```\n",
        "<img src=\"pics/python-logo-only.svg\" alt=\"Python\" width=\"30\" height=\"auto\">"
      ]
    },
    {
      "cell_type": "code",
      "execution_count": 27,
      "metadata": {},
      "outputs": [
        {
          "name": "stdout",
          "output_type": "stream",
          "text": [
            "Error!\n",
            "\n",
            "result: 0\n"
          ]
        }
      ],
      "source": [
        "option=input(\"Eined der Operationen +-*/ auswählen: \")\n",
        "x=2; y=3\n",
        "match option:\n",
        "    case \"+\":\n",
        "      result=x+y\n",
        "  \n",
        "    case \"*\":\n",
        "      result=x*y\n",
        "\n",
        "    case \"-\":\n",
        "      result=x-y\n",
        "  \n",
        "    case \"/\":\n",
        "      result=x/y\n",
        "  \n",
        "    case _:\n",
        "      result=00000\n",
        "      print(\"Error!\\n\")\n",
        "print(f\"result: {result}\")"
      ]
    },
    {
      "cell_type": "markdown",
      "metadata": {},
      "source": [
        "## Funktionen\n",
        "<img src=\"pics/ISO_C++_Logo.svg\" alt=\"C++\" width=\"30\" height=\"auto\"> Ein Beispiel:\n",
        "\n",
        "```cpp\n",
        "#include <iostream>\n",
        "using namespace std;\n",
        "\n",
        "int addNumbers(int a, int b) {\n",
        "    int sum = a + b;\n",
        "    return sum;\n",
        "}\n",
        "\n",
        "int main() {\n",
        "    int num1 = 5, num2 = 10;\n",
        "    int result = addNumbers(num1, num2);\n",
        "    cout << \"The sum of \" << num1 << \" and \" << num2 << \" is: \" << result << endl;\n",
        "    return 0;\n",
        "}\n",
        "```\n",
        "<img src=\"pics/python-logo-only.svg\" alt=\"Python\" width=\"30\" height=\"auto\"> Das Schlüsselwort **def** leitet eine Funktion ein:"
      ]
    },
    {
      "cell_type": "code",
      "execution_count": null,
      "metadata": {},
      "outputs": [],
      "source": [
        "def addNumbers(a, b): \n",
        "    sum = a + b\n",
        "    return sum\n",
        "\n",
        "# Hauptprogramm\n",
        "num1 = 5\n",
        "num2 = 10\n",
        "result = addNumbers(num1, num2)\n",
        "print(\"The sum of\", num1, \"and\", num2, \"is:\", result)"
      ]
    },
    {
      "cell_type": "markdown",
      "metadata": {},
      "source": [
        "...wie sie sehen: Datentypen für Paramter und Return-Wert werden nicht deklariert."
      ]
    },
    {
      "cell_type": "markdown",
      "metadata": {},
      "source": [
        "### Default-Werte für Parameter\n",
        "\n",
        "....sehen genauso aus wie bei C++...\n",
        "\n",
        "<img src=\"pics/python-logo-only.svg\" alt=\"Python\" width=\"30\" height=\"auto\">"
      ]
    },
    {
      "cell_type": "code",
      "execution_count": null,
      "metadata": {},
      "outputs": [],
      "source": [
        "def addNumbers(a=0, b=0, c=0): \n",
        "    sum = a + b + c\n",
        "    return sum\n",
        "\n",
        "print(addNumbers(1, 2, 3))\n",
        "print(addNumbers(1, 2))\n"
      ]
    },
    {
      "cell_type": "markdown",
      "metadata": {},
      "source": [
        "### Kennworte für Parameter\n",
        "\n",
        "<img src=\"pics/python-logo-only.svg\" alt=\"Python\" width=\"30\" height=\"auto\">: Beim Aufruf der Funktion bei Parametern explizit notieren, um welchen Parameter es sich handelt. "
      ]
    },
    {
      "cell_type": "code",
      "execution_count": null,
      "metadata": {},
      "outputs": [],
      "source": [
        "def func1( a, b=0, width= 5, length= 10):\n",
        "    print(f\"a={a}, b={b}, width={width}, length={length}\")\n",
        "    return\n",
        "\n",
        "func1(1, 2, 3, 4)\n",
        "func1(1, width=555)"
      ]
    },
    {
      "cell_type": "markdown",
      "metadata": {},
      "source": [
        "**Aufgabe**: Definieren sie die im folgenden Aufruf benötigte Funktion:"
      ]
    },
    {
      "cell_type": "code",
      "execution_count": null,
      "metadata": {},
      "outputs": [],
      "source": [
        "sayHelloTo( lastname=\"Meier\" , firstname= \"Anna\")\n",
        "# Ausgabe: Hallo Frau Meier, oder darf ich Anna sagen?"
      ]
    },
    {
      "cell_type": "markdown",
      "metadata": {},
      "source": [
        "Bei C++ gibt es seit C++20 etwas ähnliches (designated initializers -- die sind aber nicht so einfach wie bei Python)."
      ]
    },
    {
      "cell_type": "markdown",
      "metadata": {},
      "source": [
        "#### Mehrere Rückgabewerte auf einen Schlag\n",
        "\n",
        "<img src=\"pics/python-logo-only.svg\" alt=\"Python\" width=\"30\" height=\"auto\"> In Python können mehrere Zuweisungen auf ein Schlag vorgenommen werden können."
      ]
    },
    {
      "cell_type": "code",
      "execution_count": null,
      "metadata": {},
      "outputs": [],
      "source": [
        "a ,b = 1, 2\n",
        "print(f\"a={a}, b={b}\")"
      ]
    },
    {
      "cell_type": "markdown",
      "metadata": {},
      "source": [
        "...das ist praktisch wenn eine Funktion mehreres zurückgeben soll..."
      ]
    },
    {
      "cell_type": "code",
      "execution_count": null,
      "metadata": {},
      "outputs": [],
      "source": [
        "def calc(a, b): \n",
        "    sum = a + b\n",
        "    product = a * b\n",
        "    return sum, product\n",
        "\n",
        "x, y = calc(1, 2)\n",
        "print(f\"x={x}, y={y}\")"
      ]
    },
    {
      "cell_type": "markdown",
      "metadata": {},
      "source": [
        "....alternativ kann aber auch das (automatisch gebildete) Tupel entgegen genommen werden...\n",
        "\n",
        "Exkurs: Ein Tupel (...) ist ähnlich wie eine Liste [...], aber die Elemente darin können nicht verändert werden. "
      ]
    },
    {
      "cell_type": "code",
      "execution_count": null,
      "metadata": {},
      "outputs": [],
      "source": [
        "result_list= calc(1, 2)\n",
        "print(result_list)"
      ]
    },
    {
      "cell_type": "markdown",
      "metadata": {},
      "source": [
        "### Ein paar Beispiel-Funktionen"
      ]
    },
    {
      "cell_type": "markdown",
      "metadata": {},
      "source": [
        "#### Max-Funktion\n",
        "Zum Finden des maximalen Werts\n",
        "<img src=\"pics/ISO_C++_Logo.svg\" alt=\"C++\" width=\"30\" height=\"auto\">\n",
        "\n",
        "```cpp\n",
        "#include <iostream>\n",
        "using namespace std;\n",
        "\n",
        "int main() {\n",
        "    int myArray[5] = {12, 56, 34, 89, 17};\n",
        "    int maxValue = myArray[0];\n",
        "    for (int i = 1; i < 5; ++i) {\n",
        "        if (myArray[i] > maxValue) {\n",
        "            maxValue = myArray[i];\n",
        "        }\n",
        "    }\n",
        "    cout << \"The maximum value in the array is: \" << maxValue << endl;\n",
        "    return 0;\n",
        "}\n",
        "```\n",
        "<img src=\"pics/python-logo-only.svg\" alt=\"Python\" width=\"30\" height=\"auto\"> ...mit Listen"
      ]
    },
    {
      "cell_type": "code",
      "execution_count": 34,
      "metadata": {
        "trusted": true
      },
      "outputs": [
        {
          "name": "stdout",
          "output_type": "stream",
          "text": [
            "The maximum value in the array is: 89\n"
          ]
        }
      ],
      "source": [
        "myList = [12, 56, 34, 89, 17]\n",
        "maxValue = max(myList)\n",
        "print(\"The maximum value in the array is:\", maxValue)"
      ]
    },
    {
      "cell_type": "markdown",
      "metadata": {},
      "source": [
        "#### Min-Funktion\n",
        "Zum Finden des minimalen Werts\n",
        "<img src=\"pics/ISO_C++_Logo.svg\" alt=\"C++\" width=\"30\" height=\"auto\">\n",
        "\n",
        "```cpp\n",
        "#include <iostream>\n",
        "using namespace std;\n",
        "\n",
        "int main() {\n",
        "    int myArray[5] = {12, 56, 34, 89, 17};\n",
        "    int minValue = myArray[0];\n",
        "    for (int i = 1; i < 5; ++i) {\n",
        "        if (myArray[i] < minValue) {\n",
        "            minValue = myArray[i];\n",
        "        }\n",
        "    }\n",
        "    cout << \"The minimum value in the array is: \" << minValue << endl;\n",
        "    return 0;\n",
        "}\n",
        "```\n",
        "<img src=\"pics/python-logo-only.svg\" alt=\"Python\" width=\"30\" height=\"auto\"> wieder mit Liste"
      ]
    },
    {
      "cell_type": "code",
      "execution_count": 35,
      "metadata": {
        "trusted": true
      },
      "outputs": [
        {
          "name": "stdout",
          "output_type": "stream",
          "text": [
            "The minimum value in the array is: 12\n"
          ]
        }
      ],
      "source": [
        "myArray = [12, 56, 34, 89, 17]\n",
        "minValue = min(myArray)\n",
        "print(\"The minimum value in the array is:\", minValue)"
      ]
    },
    {
      "cell_type": "markdown",
      "metadata": {},
      "source": [
        "#### Swap-Funktion\n",
        "<img src=\"pics/ISO_C++_Logo.svg\" alt=\"C++\" width=\"30\" height=\"auto\">\n",
        "\n",
        "```cpp\n",
        "#include <iostream>\n",
        "using namespace std;\n",
        "\n",
        "void swap(int &a, int &b) {\n",
        "    int temp = a;\n",
        "    a = b;\n",
        "    b = temp; \n",
        "}\n",
        "int main() {\n",
        "    int num1 = 10;\n",
        "    int num2 = 20;\n",
        "    cout << \"Before the swap: num1 = \" << num1 << \", num2 = \" << num2 << endl;\n",
        "    swap(num1, num2);\n",
        "    cout << \"After the swap: num1 = \" << num1 << \", num2 = \" << num2 << endl;\n",
        "    return 0;\n",
        "}\n",
        "\n",
        "```\n",
        "<img src=\"pics/python-logo-only.svg\" alt=\"Python\" width=\"30\" height=\"auto\"> ohne Hilfsvariabel, da in Python auf ein mal mehrere Zuweisungen vorgenommen werden können."
      ]
    },
    {
      "cell_type": "code",
      "execution_count": 36,
      "metadata": {
        "trusted": true
      },
      "outputs": [
        {
          "name": "stdout",
          "output_type": "stream",
          "text": [
            "Before the swap: num1 = 10 , num2 = 20\n",
            "After the swap: num1 = 20 , num2 = 10\n"
          ]
        }
      ],
      "source": [
        "num1 = 10\n",
        "num2 = 20\n",
        "print(\"Before the swap: num1 =\", num1, \", num2 =\", num2)\n",
        "num1, num2 = num2, num1\n",
        "print(\"After the swap: num1 =\", num1, \", num2 =\", num2)"
      ]
    },
    {
      "cell_type": "markdown",
      "metadata": {},
      "source": [
        "## Klassen"
      ]
    },
    {
      "cell_type": "markdown",
      "metadata": {},
      "source": [
        "### Klassen: Ein Beispiel\n",
        "\n",
        "<img src=\"pics/ISO_C++_Logo.svg\" alt=\"C++\" width=\"30\" height=\"auto\">\n",
        "\n",
        "```cpp\n",
        "#include <iostream>\n",
        "using namespace std;\n",
        "\n",
        "class Shape {\n",
        "public:\n",
        "    Shape() {\n",
        "        cout << \"Shape constructor called.\" << endl;}\n",
        "\n",
        "    virtual double area() const { \n",
        "        return 0.0; }\n",
        "};\n",
        "\n",
        "int main() {\n",
        "    Shape shape;\n",
        "    double area = shape.area();\n",
        "    cout << \"The area of the shape is: \" << area << endl;\n",
        "    return 0;\n",
        "}\n",
        "```\n",
        "<img src=\"pics/python-logo-only.svg\" alt=\"Python\" width=\"30\" height=\"auto\">"
      ]
    },
    {
      "cell_type": "code",
      "execution_count": null,
      "metadata": {
        "trusted": true
      },
      "outputs": [],
      "source": [
        "class Shape:\n",
        "    def __init__(self):\n",
        "        print(\"Shape constructor called.\")\n",
        "        \n",
        "    def area(self):\n",
        "        return 0.0\n",
        "shape = Shape()\n",
        "area = shape.area() \n",
        "print(\"The area of the shape is:\", area)"
      ]
    },
    {
      "cell_type": "markdown",
      "metadata": {},
      "source": [
        "### Konstruktor\n",
        "<img src=\"pics/ISO_C++_Logo.svg\" alt=\"C++\" width=\"30\" height=\"auto\">\n",
        "\n",
        "```cpp\n",
        "#include <iostream>\n",
        "using namespace std;\n",
        "\n",
        "class Person {\n",
        "public:\n",
        "    Person() {\n",
        "        cout << \"I created a person! It's alive!\" << endl;\n",
        "    }\n",
        "};\n",
        "\n",
        "int main() {\n",
        "    Person manager;\n",
        "    cout << &manager << endl;\n",
        "    return 0;\n",
        "}\n",
        "\n",
        "```\n",
        "<img src=\"pics/python-logo-only.svg\" alt=\"Python\" width=\"30\" height=\"auto\">\n",
        "`__init__(self):` dient als Konstruktor in Python und wird sofort ausgeführt, wenn ein Objekt der Klasse ausgelegt wird."
      ]
    },
    {
      "cell_type": "code",
      "execution_count": null,
      "metadata": {},
      "outputs": [],
      "source": [
        "class Person:\n",
        "    def __init__(self):\n",
        "        print(\"I created a person! It's alive!\")\n",
        "\n",
        "manager = Person()\n",
        "print(manager)"
      ]
    },
    {
      "cell_type": "markdown",
      "metadata": {},
      "source": [
        "### Parameter-Konstuktor\n",
        "<img src=\"pics/ISO_C++_Logo.svg\" alt=\"C++\" width=\"30\" height=\"auto\">\n",
        "\n",
        "```cpp\n",
        "#include <iostream>\n",
        "#include <string>\n",
        "using namespace std;\n",
        "\n",
        "class Person {\n",
        "public:\n",
        "    string name;\n",
        "    int age;\n",
        "    string nationality;\n",
        "    Person(string name, int age, string nationality = \"uk\") : name(name), age(age), nationality(nationality) {}\n",
        "};\n",
        "\n",
        "int main() {\n",
        "    Person manager(\"Ashraf\", 20, \"malaysia\");\n",
        "    cout << manager.name << endl;\n",
        "    cout << manager.nationality << endl;\n",
        "    manager.age = 24;\n",
        "    cout << manager.age << endl;\n",
        "    return 0;\n",
        "} \n",
        "```\n",
        "<img src=\"pics/python-logo-only.svg\" alt=\"Python\" width=\"30\" height=\"auto\">\n",
        "`self` in Python ist ähnlich zu `This` in C++"
      ]
    },
    {
      "cell_type": "code",
      "execution_count": null,
      "metadata": {},
      "outputs": [],
      "source": [
        "class Person:\n",
        "    def __init__(self, name, age, nationality=\"uk\"):\n",
        "        self.name = name\n",
        "        self.age = age\n",
        "        self.nationality = nationality\n",
        "\n",
        "manager = Person(\"Ashraf\", 20, \"malaysia\")\n",
        "print(manager.name)\n",
        "print(manager.nationality)\n",
        "manager.age = 24\n",
        "print(manager.age)"
      ]
    },
    {
      "cell_type": "markdown",
      "metadata": {},
      "source": [
        "### Vererbung\n",
        "<img src=\"pics/ISO_C++_Logo.svg\" alt=\"C++\" width=\"30\" height=\"auto\">\n",
        "\n",
        "```cpp\n",
        "#include <iostream>\n",
        "#include <string>\n",
        "using namespace std;\n",
        "\n",
        "class GameCharacter {\n",
        "protected:\n",
        "    string name;\n",
        "    int health, strength, defence;\n",
        "public:\n",
        "    GameCharacter(string name, int health = 50, int strength = 30, int defence = 20)\n",
        "        : name(name), health(health), strength(strength), defence(defence) {}\n",
        "};\n",
        "\n",
        "class Villain : public GameCharacter {\n",
        "public:\n",
        "    Villain(string name, int health = 60, int strength = 30, int defence = 20, int evilness = 50)\n",
        "        : GameCharacter(name, health, strength, defence), evilness(evilness) {}\n",
        "\n",
        "int main() {\n",
        "    GameCharacter boy(\"Boy\", 100, 20, 10);\n",
        "    Villain evilman(\"Voldemort\", 30, 50, 40, 100);\n",
        "    cout << boy.getHealth() << endl;\n",
        "    cout << evilman.getHealth() << endl;\n",
        "    return 0;\n",
        "}\n",
        "```\n",
        "<img src=\"pics/python-logo-only.svg\" alt=\"Python\" width=\"30\" height=\"auto\">"
      ]
    },
    {
      "cell_type": "code",
      "execution_count": null,
      "metadata": {},
      "outputs": [],
      "source": [
        "class GameCharacter:\n",
        "    def __init__(self, name, health=50, strength=30, defence=20):\n",
        "        self.name = name\n",
        "        self.health = health\n",
        "        self.strength = strength\n",
        "        self.defence = defence\n",
        "\n",
        "class Villain(GameCharacter):\n",
        "    def __init__(self, name, health=60, strength=30, defence=20, evilness=50):\n",
        "        super().__init__(name, health, strength, defence)\n",
        "        self.evilness = 50\n",
        "\n",
        "boy = GameCharacter(\"Boy\", 100, 20, 10)\n",
        "evilman = Villain(\"Voldemort\", 30, 50, 40, 100)\n",
        "print(boy.health)\n",
        "print(evilman.health)"
      ]
    },
    {
      "cell_type": "markdown",
      "metadata": {},
      "source": [
        "### Kapselung\n",
        "<img src=\"pics/ISO_C++_Logo.svg\" alt=\"C++\" width=\"30\" height=\"auto\">\n",
        "\n",
        "```cpp\n",
        "#include <iostream>\n",
        "#include <string>\n",
        "using namespace std;\n",
        "\n",
        "class Person {\n",
        "private:\n",
        "    int age;\n",
        "public:\n",
        "    string name;\n",
        "    Person(string name, int age) : name(name), age(age) {}\n",
        "    int getAge() { return age; }\n",
        "};\n",
        "int main() {\n",
        "    Person person(\"John Doe\", 30);\n",
        "    cout << \"Age: \" << person.getAge() << endl;\n",
        "    return 0;\n",
        "}\n",
        "```\n",
        "<img src=\"pics/python-logo-only.svg\" alt=\"Python\" width=\"30\" height=\"auto\">"
      ]
    },
    {
      "cell_type": "code",
      "execution_count": null,
      "metadata": {},
      "outputs": [],
      "source": [
        "class Person:\n",
        "    def __init__(self, name, age=18):\n",
        "        self.name = name\n",
        "        self.__age = age\n",
        "        \n",
        "    def get_age(self):\n",
        "        return self.__age\n",
        "person = Person(\"John Doe\", 30)\n",
        "print(\"Name:\", person.name)\n",
        "print(\"Age:\", person.get_age())"
      ]
    }
  ],
  "metadata": {
    "colab": {
      "authorship_tag": "ABX9TyNCN9aN0Q1glU4ix8CPJtSd",
      "gpuType": "T4",
      "include_colab_link": true,
      "provenance": [],
      "toc_visible": true
    },
    "kernelspec": {
      "display_name": "Python 3",
      "name": "python3"
    },
    "language_info": {
      "codemirror_mode": {
        "name": "ipython",
        "version": 3
      },
      "file_extension": ".py",
      "mimetype": "text/x-python",
      "name": "python",
      "nbconvert_exporter": "python",
      "pygments_lexer": "ipython3",
      "version": "3.10.8"
    }
  },
  "nbformat": 4,
  "nbformat_minor": 0
}
