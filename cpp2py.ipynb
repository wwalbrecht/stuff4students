{
 "cells": [
  {
   "cell_type": "markdown",
   "metadata": {
    "colab_type": "text",
    "id": "view-in-github"
   },
   "source": [
    "<a href=\"https://colab.research.google.com/github/wwalbrecht/stuff4students/blob/main/cpp2py.ipynb\" target=\"_parent\"><img src=\"https://colab.research.google.com/assets/colab-badge.svg\" alt=\"Open In Colab\"/></a>\n",
    "\n",
    "*(kleine Gefahr: der Link holt sich die aktuelle Version von github (nicht von gitlab), es ist also ggf. nicht genau das Aktuelle, das sie hier sehen. x)*"
   ]
  },
  {
   "cell_type": "markdown",
   "metadata": {},
   "source": [
    "# Allgemeines zu Juypter und zur Installation\n",
    "\n",
    "**Ziel** dieses Jupyter Notebooks ist ein leichter Einstieg in **Python** anhand von Beispielen, falls sie bereits mit **C++** vertraut sind.\n",
    "\n",
    "Ein weiteres Ziel ist es, hierbei auch das Verständnis für die Konzepte von C++ durch Wiederholung und Vergleich zu **vertiefen**.\n",
    "\n",
    "Viele Ideen stammen aus https://python.pages.doc.ic.ac.uk/cpp/lessons/cpp/ für dasselbe Publikum.\n",
    "\n",
    "Warum wird hier [Jupyter Notebooks/ Jupyter Lab](https://jupyter.org/) verwendet? \n",
    "\n",
    "- Darin kann Text mit Programm-Code gemischt und ausgeführt werden -- Ideal zum Lernen und Ausprobieren! \n",
    "\n",
    "- ('Jupyter Lab' ist einfach gesagt die neuere, mächtigere Variante.)\n",
    "\n",
    "- Last-Not-Least ist es selbst ein Lernziel, dass sie mit Jupyter umgehen können -- dahinter verbirgt sich ein ganzes Universum ;-)\n",
    "\n",
    "- Und Danke an Herrn Ashraf Yahya für die Mithife bei der Erstellung des Notebooks. "
   ]
  },
  {
   "cell_type": "markdown",
   "metadata": {
    "id": "aAsX4EvQw90t"
   },
   "source": [
    "\n",
    "\n",
    "\n",
    "## Installation um Jupyter Lab und Jupyter Notebooks nutzen können.\n",
    "\n",
    "- Damit sie zur Ausführung keine lokalen Installationen benötigen, können sie auch einfach die Cloud von [Google Colab](https://colab.research.google.com/?hl=de) nutzen. Dafür brauchen sie leider ein **Konto bei google**. Eine lokale Installation ist auch möglich, aber wegen des C++ Compilers aufwendig. \n",
    "\n",
    "\n",
    "### Lokale Installation\n",
    " Falls sie innerhalb des Jupyter Notebooks nur den Python Code ausführen möchten, dann können sie auch gut eine lokale Installation von Jupyter nutzen. \n",
    "\n",
    "- Installieren sie entweder zunächst [Python](https://www.python.org/downloads/) (setzen sie den Haken bei \"Add python.exe to PATH\") und dannach [Juypter Lab](https://jupyter.org/install) (sie müssen nur ```pip install jupyterlab``` in der PowerShell-Konsole eintippen). Zum starten von Juypter Lab welchseln sie in das Verzeichnis mit dem aktuellen Juypter Notebook (Endung '.ipynb'). und tippen in die Console: ```jupyter lab```, dann sollte ein Browser-Fenster aufgehen. Zum Beenden (auch des Jupyter-Servers im Konsole-Fenster): 'Menu:File:Shut Down'\n",
    "\n",
    "- Alternativ installieren sie einfacher die Distribution [Anaconda](https://www.anaconda.com/download) von Python, dort ist Juypter (und anderes) gleich mit dabei. \n",
    "\n",
    "- Falls sie Visual Studio Code nutzen, dort gibt es die Erweiterungen \"Jupyter\". \n",
    "\n",
    "- Falls sie Python auch ohne das Notebook programmieren möchten, dann gibt es viele Möglichkeiten, z.B.:\n",
    "    - [Visual Studio Code](https://code.visualstudio.com/) mit Erweiterung\n",
    "    - [PyCharm](https://www.jetbrains.com/de-de/pycharm/) (eine IDE für Python)\n",
    "    - Thonny Python IDE (auf Raspberry vorinstalliert)\n",
    "\n",
    "## Bedienung des Notebooks -- nur das Wichtigste \n",
    "- Zum Ausführen einer Zelle mit Programmcode entweder auf das Dreieck-Icon klicken, oder *Shift+Enter*.\n",
    "- In Jupyter Notebooks gibt es auch ein Menu (meist ganz oben), mit dem Sie z.B. die Ausführung neu starten können.\n",
    "- Ein Inhaltsverzeichnis/ eine Gliederung des Notebooks wird (meist links daneben) auch angezeigt. \n",
    "- Sie können sowohl die Zellen mit Text (in einfacher Markdown-Syntax), also aus die Zellen mit Code editieren; mit Doppelklick.\n",
    "- Wenn sie damit fertig sind: Rechts oben ein Haken d'ran, oder *Ctrl+Enter*"
   ]
  },
  {
   "cell_type": "markdown",
   "metadata": {},
   "source": [
    "<img src=\"pics/python-logo-only.svg\" alt=\"Python\" width=\"30\" height=\"auto\"> \n",
    "Vorab ein kurzer Gruss von Python-Code, dem eingebauten 'Favoriten' bei Jupyter Notebooks:\n",
    "\n"
   ]
  },
  {
   "cell_type": "code",
   "execution_count": null,
   "metadata": {
    "id": "NgJSWXEf1ZKf"
   },
   "outputs": [],
   "source": [
    "print(\"Vorab ein kurzer Gruss von Python-Code, dem eingebauten 'Favoriten' bei Jupyter Notebooks.\")"
   ]
  },
  {
   "cell_type": "markdown",
   "metadata": {},
   "source": [
    "### Tipp: Colab zeigt nicht die neuste Version des Dokuments?\n",
    "\n",
    "Colab arbeitet gut mit github zusammen. Wählen sie die aktuelle Version wie folgt in Colab:\n",
    "\n",
    "```Menu:Datei:Überarbeitungsverlauf. ```\n",
    "\n",
    "Dann links oben beim neuesten Commit auf die drei Punkte ```...  \"In Colab öffnen\". ```"
   ]
  },
  {
   "cell_type": "markdown",
   "metadata": {},
   "source": [
    "### Sicherung bei Nutzung von Colab via Google Drive (((Experimentell und nicht benötigt!)))\n",
    "Falls sie ihre Ergebnisse/Ausgaben bei der Nutzung in Colab über eine Browser-Sitzung hinaus speichern möchten, dann nutzen sie folgende Zeilen, um ihr google-Drive zu verbinden."
   ]
  },
  {
   "cell_type": "code",
   "execution_count": null,
   "metadata": {},
   "outputs": [],
   "source": [
    "from google.colab import drive\n",
    "drive.mount('/content/drive')\n",
    "!echo \"Zur Überprüfung die Inhalt des 'Laufwerks' ausgeben:\"\n",
    "!ls -l \"/content/drive/My Drive\""
   ]
  },
  {
   "cell_type": "markdown",
   "metadata": {},
   "source": [
    "## Initialisierungen/Installationen innerhalb des Notebooks\n",
    "\n",
    "Die Installation damit Python und Jupyter Lab ist ja schon oben beschrieben. Hier geht es zum Zusätzliches, das sie direkt aus dem Jupyter Notebook heraus anstoßen können."
   ]
  },
  {
   "cell_type": "markdown",
   "metadata": {
    "id": "ra9j3V0XQJ_s"
   },
   "source": [
    "### Init für C++\n",
    "\n",
    "Für C++ müssen Installationen gemacht (und ausgeführt) werden, damit im Notebook das \"cell magic\" %%cuda für den Compiler verfügbar ist. ([Die Quelle für Interessierte](https://www.geeksforgeeks.org/how-to-run-cuda-c-c-on-jupyter-notebook-in-google-colaboratory))\n",
    "\n",
    "Falls sie dieses Notebook in Colab geöffnet haben, dann führen sie jetzt diesen Code-Block aus! Zum Ausführen des Programm-Code gehen sie mit der Maus über die nächste Zelle (Code Block) und klicken auf den Pfeil (Dreieck) daneben.\n",
    "\n",
    "(Für Interessierte: Mit '!' am Anfang der Zeil werden hier Befehle an die Konsole des Servers geschickt.)"
   ]
  },
  {
   "cell_type": "code",
   "execution_count": null,
   "metadata": {
    "id": "fyVDClX4P3WX"
   },
   "outputs": [],
   "source": [
    "!echo \"Installation according to https://github.com/andreinechaev/nvcc4jupyter\"\n",
    "!echo \"*** 1.)  Test if NVIDIA(R)-cuda-compiler-driver is availabe...\"\n",
    "!nvcc --version\n",
    "!echo \"*** 2.) Install extension to run nvcc ...\"\n",
    "%pip install nvcc4jupyter\n",
    "!echo \"*** 3.) Load extension using a 'line magic %' command....\"\n",
    "%load_ext nvcc4jupyter"
   ]
  },
  {
   "cell_type": "markdown",
   "metadata": {},
   "source": [
    "Weitere Infos (allerdings nicht ganz neu): https://colab.research.google.com/github/j143/notebooks/blob/main/cuda_on_colab.ipynb"
   ]
  },
  {
   "cell_type": "markdown",
   "metadata": {
    "id": "IvvCXgAEOR52"
   },
   "source": [
    "#### Hello C++-World from Jupyter Notebook\n",
    "\n",
    "<img src=\"pics/ISO_C++_Logo.svg\" alt=\"C++\" width=\"30\" height=\"auto\">\n",
    "Falls die Installationen geklappt haben, dann sollten sie jetzt auch folgendes ausführen können."
   ]
  },
  {
   "cell_type": "code",
   "execution_count": null,
   "metadata": {
    "id": "GDXqDlB-PnvJ"
   },
   "outputs": [],
   "source": [
    "%%cuda\n",
    "#include <iostream>\n",
    "int\tmain(void) {\n",
    "\tstd::cout << \"Hello from C++ inside jupyter notebook!\\n\";\n",
    "\treturn 0;\n",
    "}"
   ]
  },
  {
   "cell_type": "markdown",
   "metadata": {},
   "source": [
    "Probleme? \n",
    "> Sehen sie statt der Ausgabe nur \"*UsageError: Cell magic `%%cuda` not found.*\"?\n",
    "> Haben sie den Code-Block darüber schon ausgeführt?\n",
    "> (Wundern sie sich nicht über die Unterstrich-Markierungen des Editors -- der denkt leider er hätte Python-Code vor sich.)"
   ]
  },
  {
   "cell_type": "markdown",
   "metadata": {},
   "source": [
    "### Init für plantUML-Diagramme\n",
    "\n",
    "Ein Tool zum Zeichnen von (UML-)Diagrammen zur Illustration im Notebook. [(Dokumentation dazu)](https://plantuml.com/de/)"
   ]
  },
  {
   "cell_type": "code",
   "execution_count": null,
   "metadata": {},
   "outputs": [],
   "source": [
    "%pip install iplantuml\n",
    "import iplantuml"
   ]
  },
  {
   "cell_type": "markdown",
   "metadata": {},
   "source": [
    "Ein kleine Diagramm nur zum Testen..."
   ]
  },
  {
   "cell_type": "code",
   "execution_count": null,
   "metadata": {},
   "outputs": [],
   "source": [
    "%%plantuml\n",
    "\n",
    "@startuml\n",
    "object x \n",
    "object \":int\" as int_1 {\n",
    "    int = 1\n",
    "}\n",
    "x --> int_1\n",
    "@enduml"
   ]
  },
  {
   "cell_type": "markdown",
   "metadata": {},
   "source": [
    "*Damit sollten die Initialisierungen erledigt sein und der Hauptteil kann starten.*"
   ]
  },
  {
   "cell_type": "markdown",
   "metadata": {},
   "source": [
    "# C++ vs. Python in Beispielen"
   ]
  },
  {
   "cell_type": "markdown",
   "metadata": {},
   "source": [
    "## Stil und Philosphie\n",
    "\n",
    "Hier nur ein [guter Link bzlg. Style](https://bebi103a.github.io/lessons/04/style.html) (darin bitte etwas herunter scrollen) \n",
    "\n",
    "Und die Antwort von Python selbst auf die Frage der Philosophie: (bitte Ausführen)"
   ]
  },
  {
   "cell_type": "code",
   "execution_count": null,
   "metadata": {},
   "outputs": [],
   "source": [
    "import this"
   ]
  },
  {
   "cell_type": "markdown",
   "metadata": {},
   "source": [
    "## Interpreter vs. Compiler"
   ]
  },
  {
   "cell_type": "markdown",
   "metadata": {},
   "source": [
    "*Diesen Teil können sie auch später lesen. Er wird nicht direkt für das Programmieren gebraucht.*\n",
    "\n",
    "Während bei C++ der Code **compiliert** (und gelinkt) wird, um dann den Plattform-abhängigen Maschinencode an die Nutzer zu verteilen, wird bei Python der (plattform-unabhängige) Code an die Nutzer geben, die dann allerdings einen Python-Interpreter benötigen, um den Code auszuführen -- zu **interpretieren**. Das Übersetzten findet also erst statt, wenn das Programm gestartet wird. \n",
    "\n",
    "> [Wiki](https://de.wikipedia.org/wiki/Interpreter): Als Interpreter wird ein Computerprogramm bezeichnet, das eine Abfolge von Anweisungen anscheinend direkt ausführt,... wobei das Format der Anweisungen vorgegeben ist. Der Interpreter liest dazu eine oder mehrere Quelldateien ein, analysiert diese und führt sie anschließend Anweisung für Anweisung aus, indem er den dafür vorgesehenen Programmcode (eventuell über Zwischenschritte letztendlich als Maschinencode für das jeweilige Computersystem) direkt ausführt. Interpreter sind deutlich langsamer als Compiler,...\n",
    "\n",
    "\n",
    "\n",
    "Aus **Optimierungsgründen** wird dann aber nicht Anweisung für Anweisung vom Interpreter in Maschinencode übersetzt und ausgeführt, statt dessen wird der Python-Code zunächst in sogenannten Bytecode übersetzt (man spricht hierbei auch von 'compilieren'). Dieser ist immer noch Plattform-unabhängig; der Bytecode wird noromalerweise nicht in einer Datei gespeichert, sondern nur im Hauptspeicher. Dieser Bytecode wird dann in kleinen Stücken vom Interpreter in Maschinencode übersetzt und zur Ausführung gebracht. \n",
    "\n",
    "Eine **weitere Optimierung** besteht darin, (größere) Teile des Codes in Maschinencode zu übersetzten. So kann evtl. besser Optimiert werden und der aufbewahrte Maschinencode kann mehrfach wieder genutzt werden, z.B. bei Schleifen. Diese Technik wird auch Just-in-time-Compilieren (JIT-Comp.) genannt. Auch beim Interpreter wird also reichlich zwischendurch compiliert. \n",
    "\n",
    "Hier ein vereinfachendes Diagramm dazu.\n"
   ]
  },
  {
   "cell_type": "code",
   "execution_count": null,
   "metadata": {},
   "outputs": [],
   "source": [
    "%%plantuml\n",
    "\n",
    "@startuml\n",
    "skinparam conditionStyle diamond\n",
    "start\n",
    ":module1.py|\n",
    ":Compile;\n",
    ":Bytecode module1.pyc|\n",
    "if (JIT-Compilation?) then (yes)\n",
    "while()\n",
    "  :JIT-Compile;\n",
    "  :(existing) Machine-Code Peaces|\n",
    "  :Execute  Machine-Code Peaces;\n",
    "endwhile \n",
    "else (no)\n",
    "while()\n",
    "  :Directly interpret Bytecode;\n",
    "  :Execute Machine-Code;\n",
    "  endwhile \n",
    "endif\n",
    "stop\n",
    "@enduml\n"
   ]
  },
  {
   "cell_type": "markdown",
   "metadata": {},
   "source": [
    "Der Standard-Interpreter \"CPython\" von Python unterstützt aktuelle (4/2024) noch kein JIT. Dafür aber andere wie z.B. [PyPy](https://www.pypy.org/). \n",
    "\n",
    "Alternativ kann mit [Cython](https://cython.org/) auch Python-Code ähnlich wie C++ komplett vorweg übersetzt werden mit \"Ahead of Time (AOT) compilation\". \n",
    "\n",
    "Wenn es nur bei Teilen des Codes auf Performanz ankommt (wie z.B. bei Dingen in großen Schleifen), dann kann aus Python heraus auch C/C++-Code aufgerufen werden mit der [Python/C API](https://docs.python.org/3/c-api/index.html) "
   ]
  },
  {
   "cell_type": "markdown",
   "metadata": {},
   "source": [
    "## Grundlagen für das erste Programm \n",
    "\n",
    "Aufbau, Syntax, Formatierung, Ein-/Ausgabe, ..."
   ]
  },
  {
   "cell_type": "markdown",
   "metadata": {},
   "source": [
    "### Main-Funktion\n",
    "\n",
    "<img src=\"pics/ISO_C++_Logo.svg\" alt=\"C++\" width=\"30\" height=\"auto\"> C++ verlangt genau eine `main`-Funktion "
   ]
  },
  {
   "cell_type": "code",
   "execution_count": null,
   "metadata": {},
   "outputs": [],
   "source": [
    "%%cuda\n",
    "#include <iostream>\n",
    "int\tmain(void) {\n",
    "\tstd::cout << \"Welcome To C++!\\n\";\n",
    "\treturn 0;\n",
    "}"
   ]
  },
  {
   "cell_type": "markdown",
   "metadata": {},
   "source": [
    "<img src=\"pics/python-logo-only.svg\" alt=\"Python\" width=\"30\" height=\"auto\"> Python benötigt kein `main`. \n",
    "- Es werden alle Anweisungen in der Datei ausgeführt (sofern sie nicht in Funktionen oder Klassen stehen).\n",
    "\n",
    "- Spätestens beim Arbeiten mit mehreren Dateien/Skripten ist es sinnvoll die Ausführung mit einer speziellen Art \"**\\_\\_main\\_\\_**\"-Funktion genauer zu steuern. *Zugegeben: Dieses Konstrukt steht nicht für die Einfachheit von Python. 'Normale' Funktionen werden [später](#funktionen) einfacher sein.*"
   ]
  },
  {
   "cell_type": "code",
   "execution_count": null,
   "metadata": {},
   "outputs": [],
   "source": [
    "print(\"Hello from anywhere in the file!\") \n",
    "\n",
    "if __name__ == '__main__': # only if run as a script\n",
    "    print(\"Hello from Python-Script (((also from Jupyter Notebook)))!\")"
   ]
  },
  {
   "cell_type": "markdown",
   "metadata": {},
   "source": [
    "#### Interaktiver Modus\n",
    "\n",
    "Wenn sie den Python-Interpreter hier im Jupyter Notebook, oder im interaktiven Modus in einer Konsole nutzen, dann können sie auch das Feature nutzen, dass Python auch ohne print das letzte Ergebnis, bzw. den letzten Wert ausgibt. (Sie starten den interaktiven Modus in einer Konsole, indem sie einfach python eingeben/aufrufen.)"
   ]
  },
  {
   "cell_type": "code",
   "execution_count": null,
   "metadata": {},
   "outputs": [],
   "source": [
    "\"Hallo\" + \"Python\" "
   ]
  },
  {
   "cell_type": "code",
   "execution_count": null,
   "metadata": {},
   "outputs": [],
   "source": [
    "7*7+1"
   ]
  },
  {
   "cell_type": "markdown",
   "metadata": {},
   "source": [
    "#### Vertiefung ```argv```\n",
    "\n",
    "Die ```main``` kann bei Python wie bei C++ auch Argumente ```argv``` entgegen nehmen, siehe [hier für Python](https://docs.python.org/3/tutorial/modules.html#executing-modules-as-scripts), bzw. [hier für C++](https://en.cppreference.com/w/cpp/language/main_function)"
   ]
  },
  {
   "cell_type": "markdown",
   "metadata": {},
   "source": [
    "### Starten des Programms (ohne Jupyter Notebook)\n",
    "\n",
    "*Das wird hier im Jupyter Notebook nicht benötigt, ggf. überspringen!*"
   ]
  },
  {
   "cell_type": "markdown",
   "metadata": {},
   "source": [
    "Start von einer Console/(Power-)Shell aus mit:\n",
    "\n",
    "```python mein-code-dateiname.py```\n",
    "\n",
    "(In Windows geht es auch mit Doppelklick auf die Datei, aber das darauf gestartete Consolen-Fenster geht gleich wieder zu, falls sie am Ende nicht auf eine Input warten.)\n",
    "\n",
    "\n",
    "#### Linux Variante zum Starten eines Python Programms 'Skripts'\n",
    "\n",
    "1. Fügen sie in die Code-Datei (hier sei der Name 'hello.py') folgende #-Kommentar-Zeile ganz oben ein:\n",
    "```\n",
    "#!/usr/bin/python3\n",
    "print(\"Hello World!\")\n",
    "```\n",
    "\n",
    "2. Machen sie das Skript 'ausführbar':\n",
    "\n",
    "``` chmod a+x hello.py ```\n",
    "\n",
    "3. Starten sie das Skript:\n",
    "\n",
    "``` ./hello -world.py ```\n"
   ]
  },
  {
   "cell_type": "markdown",
   "metadata": {},
   "source": [
    "### Formatierung und Co.\n",
    "\n",
    "<img src=\"pics/python-logo-only.svg\" alt=\"Python\" width=\"30\" height=\"auto\">  In Python ist das Semikolon am Ende einer Anweisung optional.\n"
   ]
  },
  {
   "cell_type": "code",
   "execution_count": null,
   "metadata": {
    "trusted": true
   },
   "outputs": [],
   "source": [
    "print(\"Hello without semicolon\")\n",
    "print(\"Hello with semicolon\"); \n",
    "\n",
    "print(\"At this ugly time...\"); print(\"...it is required\")"
   ]
  },
  {
   "cell_type": "markdown",
   "metadata": {},
   "source": [
    "### Blöcke und Einrückung \n",
    "\n",
    "...am Bsp.: IF-THEN-ELSE"
   ]
  },
  {
   "cell_type": "markdown",
   "metadata": {},
   "source": [
    "\n",
    "<img src=\"pics/ISO_C++_Logo.svg\" alt=\"C++\" width=\"30\" height=\"auto\">\n",
    "Geschweiften Klammern `{ ... }` markieren Blöcke; Einrückungen sind freiwillig.\n",
    "\n",
    "```cpp\n",
    "...\n",
    "if(a>0){\n",
    "    cout<<\"positiv\";\n",
    "    if(a>100){\n",
    "        cout<<\"big\";\n",
    "    } else {\n",
    "        cout<<\"small\";\n",
    "    }\n",
    "}\n",
    "cout << \"end\";\n",
    "...\n",
    "```\n",
    "<img src=\"pics/python-logo-only.svg\" alt=\"Python\" width=\"30\" height=\"auto\">\n",
    "Einrückung DEFINIEREN logische Blöcke, wie hier zu sehen ist. \n",
    "\n",
    "Außerdem wird aus \"**if (a>0)**\" in Python \"**if a>0:**\""
   ]
  },
  {
   "cell_type": "code",
   "execution_count": null,
   "metadata": {},
   "outputs": [],
   "source": [
    "a= 101\n",
    "if a >0:\n",
    "    print(\"positiv\")\n",
    "    if a >100:\n",
    "        print(\"big\")\n",
    "    else:\n",
    "        print(\"small\")\n",
    "print(\"end\")"
   ]
  },
  {
   "cell_type": "markdown",
   "metadata": {},
   "source": [
    "Empfohlen sind 4 Leerzeichen zur Einrückung -- mischen sie nicht unterschiedliche Varianten, oder Tabs.\n",
    "\n",
    "Unterschied Beachten:\n",
    "- als 'Einleitung' über Blöcken steht ein Doppelpunkt '`:`'   \n",
    "- die Klammern bei den Bedingungen dabei sind optional"
   ]
  },
  {
   "cell_type": "markdown",
   "metadata": {},
   "source": [
    "**Aufgabe:** Erweitern sie das Programm, um eine Ausgabe für negative Zahlen und für die Zahl Null und testen es. "
   ]
  },
  {
   "cell_type": "code",
   "execution_count": null,
   "metadata": {},
   "outputs": [],
   "source": [
    "a= 101\n",
    "if a >0:\n",
    "    print(\"positiv\")\n",
    "    if a >100:\n",
    "        print(\"big\")\n",
    "    else:\n",
    "        print(\"small\")\n",
    "print(\"end\")"
   ]
  },
  {
   "cell_type": "markdown",
   "metadata": {},
   "source": [
    "**Aufgabe:** Programmieren sie folgende Logik mit mehreren verschachtelten if-Anweisungen. Unten ist schon etwas vorbereitet, das sie ergänzen sollen. *(Bem.: Es geht auch mit einem if und einer komplexeren Bedingung, das ist aber hier (noch) nicht gefragt.)*\n",
    "\n",
    "|a|b|c| |r|\n",
    "|-|-|-|-|-|\n",
    "|0|0|0| |0|\n",
    "|0|0|1| |0|\n",
    "|0|1|0| |0|\n",
    "|0|1|1| |1|\n",
    "|1|0|0| |1|\n",
    "|.|.|.| |1|\n",
    "|1|1|1| |1|\n"
   ]
  },
  {
   "cell_type": "code",
   "execution_count": null,
   "metadata": {},
   "outputs": [],
   "source": [
    "a= False; b= False; c= False\n",
    "r = False\n",
    "if c:   #Todo ihre Aufgabe\n",
    "    r= True\n",
    "\n",
    "print(\"Ergebnis r: \", r)"
   ]
  },
  {
   "cell_type": "markdown",
   "metadata": {},
   "source": [
    "### Kommentare  \n",
    "<img src=\"pics/ISO_C++_Logo.svg\" alt=\"C++\" width=\"30\" height=\"auto\">\n",
    "\n",
    "```cpp\n",
    "// one line of comment in C++\n",
    "something();  // ...until end of line in C++\n",
    "\n",
    "/* Multiple lines ...\n",
    "   ...of comment in C++ \n",
    "*/\n",
    "```\n",
    "\n",
    "<img src=\"pics/python-logo-only.svg\" alt=\"Python\" width=\"30\" height=\"auto\">\n",
    "\n",
    "```python\n",
    "# one line comment in Python\n",
    "something(); # ...until end of line in Python\n",
    "'''\n",
    "and this is ...\n",
    "...a multi-line comment in Python\n",
    "'''\n",
    "\n",
    "\"\"\"\n",
    "and this is ...\n",
    "...also \n",
    "\"\"\"\n",
    "```"
   ]
  },
  {
   "cell_type": "markdown",
   "metadata": {},
   "source": [
    "### Eingabe und Ausgabe\n",
    "<img src=\"pics/ISO_C++_Logo.svg\" alt=\"C++\" width=\"30\" height=\"auto\"> Eingabe mittels std::cin:\n",
    "\n",
    "Der zu lesende Datentyp wird anhand der Ziel-Variable erkannt. (Und wird hoffentlich auch passend vom Benutzer eingegeben!) \n",
    "\n",
    "*(Wundern sie sich nicht, wenn der Code unten nicht funktioniert -- die Jupyter Notebook Server unterstützen meist keine Konsolen-Eingabe, vor allem nicht bei C++.)* "
   ]
  },
  {
   "cell_type": "code",
   "execution_count": null,
   "metadata": {},
   "outputs": [],
   "source": [
    "%%cuda\n",
    "#include <iostream>  \n",
    "#include <string>  \n",
    "using namespace std;\n",
    "int main() {  \n",
    "    cout << \"Please enter a number!\"<<endl;\n",
    "    int number;\n",
    "    cin >> number;\n",
    "    cout << \"The number is: \"  << number << endl;\n",
    "\n",
    "    cout << \"Please enter a string!\"<< endl;;\n",
    "    string str_input;\n",
    "    cin >> str_input;\n",
    "    cout << \"The string is: \" << str_input << endl;\n",
    "\n",
    "    return 0;  \n",
    "}"
   ]
  },
  {
   "cell_type": "markdown",
   "metadata": {},
   "source": [
    "<img src=\"pics/python-logo-only.svg\" alt=\"Python\" width=\"30\" height=\"auto\"> \n",
    "In Python wird eine Eingabe immer als String gelesen.\n",
    "\n",
    "Daher wird das Ergebnis oft direkt danach gecastet, z.B: in `int()` für eine Zahleingabe."
   ]
  },
  {
   "cell_type": "code",
   "execution_count": null,
   "metadata": {
    "tags": [],
    "trusted": true
   },
   "outputs": [],
   "source": [
    "str_input= input(\"Please enter a string!\\n\")\n",
    "print(\"The string is: \", str_input)\n",
    "\n",
    "str_input= input(\"Please enter a number: \")\n",
    "number_input = int(str_input)\n",
    "print(\"The number is: \", number_input)\n",
    "\n",
    "# ...shorter:\n",
    "number_input = int(input(\"Please enter a number: \"))\n",
    "print(\"The number is: \", number_input)"
   ]
  },
  {
   "cell_type": "markdown",
   "metadata": {},
   "source": [
    "#### `f`-format für die Ausgabe.  \n",
    "<img src=\"pics/python-logo-only.svg\" alt=\"Python\" width=\"30\" height=\"auto\"> Für längere gemischte Ausgaben gibt es in Python etwas ähnliches wie bei printf:  "
   ]
  },
  {
   "cell_type": "code",
   "execution_count": null,
   "metadata": {
    "trusted": true
   },
   "outputs": [],
   "source": [
    "str_input= \"Dummy\"\n",
    "number_input= 4711\n",
    "print(f\"The entered string was: {str_input} and the numer was {number_input}!\\n\")"
   ]
  },
  {
   "cell_type": "markdown",
   "metadata": {},
   "source": [
    "**Aufgabe:** Schreiben sie ein Python-Programm, das ein paar Daten (mind. 3) von ihnen erfragt (Name, Alter, ...) und am Ende wieder ausgibt. "
   ]
  },
  {
   "cell_type": "code",
   "execution_count": null,
   "metadata": {},
   "outputs": [],
   "source": [
    "# Todo, da noch unvollständig:\n",
    "print((\"Bitte geben sie folgende Datein zu sich ein .... \\n\"))\n",
    "name= input(\"Ihr Nahme: \\n\")\n",
    "print(f\"{name} ist ein schöner Name\" )\n"
   ]
  },
  {
   "cell_type": "markdown",
   "metadata": {},
   "source": [
    "### Operatoren"
   ]
  },
  {
   "cell_type": "markdown",
   "metadata": {},
   "source": [
    "<img src=\"pics/python-logo-only.svg\" alt=\"Python\" width=\"30\" height=\"auto\"> \n",
    "(Hier nur Python - wir verzichten auf die Wiederholung der C++-Varianten.)"
   ]
  },
  {
   "cell_type": "markdown",
   "metadata": {},
   "source": [
    "[Mehr zu Operatoren](https://bebi103a.github.io/lessons/03/data_types_and_operators.html)\n",
    "\n",
    "== und 'is' wird im [Kap. Objekte und ...](#objekte-und-datentypen) behandelt."
   ]
  },
  {
   "cell_type": "markdown",
   "metadata": {},
   "source": [
    "#### Logische Operatoren"
   ]
  },
  {
   "cell_type": "markdown",
   "metadata": {},
   "source": [
    "Wie bei C++ kann auch bei Python nicht nur ein boolscher Wert als (if-)Bedingung genutzt werden, sondern auch andere Datentypen.  "
   ]
  },
  {
   "cell_type": "code",
   "execution_count": null,
   "metadata": {},
   "outputs": [],
   "source": [
    "none_zero_int= 1234\n",
    "none_empty_str= \"asdf\"\n",
    "none_empty_list= [1234]\n",
    "# any_obj_not_None ...later \n",
    "if none_zero_int:\n",
    "    if none_empty_str:\n",
    "        if none_empty_list:\n",
    "            print(\"All True\")"
   ]
  },
  {
   "cell_type": "markdown",
   "metadata": {},
   "source": [
    "##### and or not\n",
    "\n",
    "*...wie gewohnt...*"
   ]
  },
  {
   "cell_type": "code",
   "execution_count": null,
   "metadata": {},
   "outputs": [],
   "source": [
    "a= False; b= False; c= False\n",
    "if a and b or not c:\n",
    "    print(\"Result ist True\") "
   ]
  },
  {
   "cell_type": "markdown",
   "metadata": {},
   "source": [
    "**Aufgabe:** Programmieren sie folgende Logik mit **einer** if-Anweisungen. Unten ist schon etwas vorbereitet, das sie ergänzen sollen.\n",
    "|a|b|c| |r|\n",
    "|-|-|-|-|-|\n",
    "|0|0|0| |0|\n",
    "|0|0|1| |0|\n",
    "|0|1|0| |0|\n",
    "|0|1|1| |1|\n",
    "|1|0|0| |1|\n",
    "|.|.|.| |1|\n",
    "|1|1|1| |1|\n"
   ]
  },
  {
   "cell_type": "code",
   "execution_count": null,
   "metadata": {},
   "outputs": [],
   "source": [
    "a= False; b= False; c= False\n",
    "r = False\n",
    "if c:   #Todo ihre Aufgabe\n",
    "    r= True\n",
    "\n",
    "print(\"Ergebnis r: \", r)"
   ]
  },
  {
   "cell_type": "markdown",
   "metadata": {},
   "source": [
    "Zusatzaufgabe: Der vorbereitetet Code ist etwas umständlich! Wie bekomment sie die Ausgabe kürzer und ohne if programmiert?"
   ]
  },
  {
   "cell_type": "code",
   "execution_count": null,
   "metadata": {},
   "outputs": [],
   "source": [
    "a= False; b= False; c= False\n",
    "\n",
    "print(\"Todo\")"
   ]
  },
  {
   "cell_type": "markdown",
   "metadata": {},
   "source": [
    "#### Arithmetische Operatoren\n",
    "\n",
    "Vieles ist identisch. Hier nur ein paar Beispiele mit Unterschieden zum Ausprobieren."
   ]
  },
  {
   "cell_type": "code",
   "execution_count": null,
   "metadata": {},
   "outputs": [],
   "source": [
    "7**2"
   ]
  },
  {
   "cell_type": "code",
   "execution_count": null,
   "metadata": {},
   "outputs": [],
   "source": [
    "7/2"
   ]
  },
  {
   "cell_type": "code",
   "execution_count": null,
   "metadata": {},
   "outputs": [],
   "source": [
    "7//2"
   ]
  },
  {
   "cell_type": "code",
   "execution_count": null,
   "metadata": {},
   "outputs": [],
   "source": [
    "# das geht nicht:\n",
    "a = 1\n",
    "a++\n"
   ]
  },
  {
   "cell_type": "code",
   "execution_count": null,
   "metadata": {},
   "outputs": [],
   "source": [
    "# aber das:\n",
    "a = 1\n",
    "a += 1\n",
    "print(a)"
   ]
  },
  {
   "cell_type": "code",
   "execution_count": null,
   "metadata": {},
   "outputs": [],
   "source": [
    "# kompakte Bereichsabfrage:\n",
    "a= 2\n",
    "if 0 < a < 4:\n",
    "    print(\"a ist zwischen 0 und 4\")"
   ]
  },
  {
   "cell_type": "markdown",
   "metadata": {},
   "source": [
    "#### Bit-Weise Operatoren und Hex Ein-/Ausgabe\n",
    "\n",
    "Vorsicht '^' hat hier eine andere Bedeutung. \n",
    "\n",
    "Vorab eine praktische Formatierungsmöglichkeit... "
   ]
  },
  {
   "cell_type": "code",
   "execution_count": null,
   "metadata": {},
   "outputs": [],
   "source": [
    "x= 10\n",
    "\"{0:b}\".format(x)"
   ]
  },
  {
   "cell_type": "markdown",
   "metadata": {},
   "source": [
    "Bit-Folgen können leicht geschrieben werden. Dahinter steckt aber kein eigner Datentyp. Probieren sie es aus.... "
   ]
  },
  {
   "cell_type": "code",
   "execution_count": null,
   "metadata": {},
   "outputs": [],
   "source": [
    "0b1010"
   ]
  },
  {
   "cell_type": "code",
   "execution_count": null,
   "metadata": {},
   "outputs": [],
   "source": [
    "type(0b1010)"
   ]
  },
  {
   "cell_type": "code",
   "execution_count": null,
   "metadata": {},
   "outputs": [],
   "source": [
    "a= 0xFF\n",
    "print(a, bin(a), oct(a), hex(a))"
   ]
  },
  {
   "cell_type": "code",
   "execution_count": null,
   "metadata": {},
   "outputs": [],
   "source": [
    "bin(0xAAAA & 0xFFF0)"
   ]
  },
  {
   "cell_type": "code",
   "execution_count": null,
   "metadata": {},
   "outputs": [],
   "source": [
    "#Hex-Konvertierungen eines (Eingabe-)Strings:\n",
    "\n",
    "my_hex_str= \"0xFF\"\n",
    "my_int= int(my_hex_str,16)\n",
    "print(my_int)\n"
   ]
  },
  {
   "cell_type": "markdown",
   "metadata": {},
   "source": [
    "( Alternativ gibt es in der Bibliothek `ast` (Abstract Syntax Trees) auch eine Methode dafür: literal_eval ) "
   ]
  },
  {
   "cell_type": "markdown",
   "metadata": {},
   "source": [
    "**Aufgabe:** Schreiben sie ein Python-Programm, das eine Zahl im binär-Format vom Benutzer einlist (z.B. 1010) und dann in hex-Notation ausgibt. "
   ]
  },
  {
   "cell_type": "code",
   "execution_count": null,
   "metadata": {},
   "outputs": [],
   "source": [
    "str= input(\"Ihre Zahl im binär-Format: \\n\")"
   ]
  },
  {
   "cell_type": "markdown",
   "metadata": {},
   "source": [
    "Mehr Bit-Beispiele [bei realpython](https://realpython.com/python-bitwise-operators/)"
   ]
  },
  {
   "cell_type": "markdown",
   "metadata": {},
   "source": [
    "### Variablendeklaration\n",
    "\n",
    "[Vertiefung später unter 'Typisierung...']<!-- (#sec_typisierung)-->\n",
    "\n",
    "<img src=\"pics/ISO_C++_Logo.svg\" alt=\"C++\" width=\"30\" height=\"auto\">\n",
    "Variablen müssen vor der Verwendung deklariert werden; mit Typangabe.\n",
    "\n",
    "```cpp\n",
    "#include <iostream>  \n",
    "using namespace std;      \n",
    "    \n",
    "int main() {  \n",
    "    string variable1= \"Hello\";\n",
    "    float variable2= 3.14\n",
    "    int variable3= 3;   \n",
    "    return 0;  \n",
    "}\n",
    "```\n",
    "<img src=\"pics/python-logo-only.svg\" alt=\"Python\" width=\"30\" height=\"auto\">\n",
    "Bei Python können sie direkt verwendet werden, wo man sie braucht."
   ]
  },
  {
   "cell_type": "code",
   "execution_count": null,
   "metadata": {
    "trusted": true
   },
   "outputs": [],
   "source": [
    "variable1= \"Hello\"\n",
    "variable2= 3.14\n",
    "variable3= 3"
   ]
  },
  {
   "cell_type": "markdown",
   "metadata": {},
   "source": [
    "## Objekte und Datentypen"
   ]
  },
  {
   "cell_type": "markdown",
   "metadata": {},
   "source": [
    "### Typisierung statische (C++) vs. dynamische (Python)\n",
    "<a id=\"sec_typisierung\"></a>\n",
    "\n",
    "**Wichtige grundlegende Konzepte:**\n",
    "- Alle Daten in Python sind in **Objekten** gespeichert, auch z.B. integer.\n",
    "- Variablen in Python sind *vereinfacht gesehen* \"Namen\"/\"Label\" um auf  **Objekte** zuzugreifen.\n",
    "- Die Variablen selbst haben keinen Datentyp, nur die **Objekte** ('Instanzen') auf die sie verweisen. \n",
    "- Im Vergleich zu C++ sind **alle** Variablen so etwas wie (bessere) Zeiger oder Referenzen auf Objekte.\n",
    "- Vielleicht erinnern sie sich an die void-Zeiter '`void *`' von C++. Auch diese konnten  z.B. einmal auf ein int und später auf ein string zeigen.  \n",
    "\n",
    "\n",
    "<img src=\"pics/python-logo-only.svg\" alt=\"Python\" width=\"30\" height=\"auto\"> Variablen (auch 'Bezeichner' genannt) sind sehr wandelbar:"
   ]
  },
  {
   "cell_type": "code",
   "execution_count": null,
   "metadata": {},
   "outputs": [],
   "source": [
    "a= \"Hello\"\n",
    "print(a)\n",
    "a= 111\n",
    "print(a)"
   ]
  },
  {
   "cell_type": "markdown",
   "metadata": {},
   "source": [
    "##### Alle Daten in Python sind in **Objekten** gespeichert, auch z.B. integer.\n",
    "\n",
    "Selbst für Literate (also z.B. die Zahl 1) werden Objekte angelegt, die dann den Wert enthalten. Bei einer Variablen x, die für ein Integer, z.B. 1 steht (darauf zeigt), wird bei einer Zuweisung eines neuen Wertes, z.B. 7 NICHT der Wert „in“ der Variable x auf 7 gesetzt. Stattdessen zeigt die Variable x nach der Zuweisung auf ein anderes Objekt – das mit dem Literal 7.\n",
    "\n",
    " Hintergrund: Dabei versucht Python auch schon vorhandenes Wiederzuverwenden, z.B. wenn das Literal 1234 oder \"hallo\" schon vorhanden ist und dann irgendwo ganz anders auch gerade gebraucht wird....manchmal wird auch auch gedoppelt.\n",
    "\n",
    "Hier noch ein Beispiel: Die verwendeten Funktionen isinstance, type, ... sind hier Nebensache, aber hoffentlich verständlich."
   ]
  },
  {
   "cell_type": "code",
   "execution_count": null,
   "metadata": {},
   "outputs": [],
   "source": [
    "x= 1\n",
    "print(\"x ist vom Typ int!?\", isinstance(x, int))\n",
    "print(\"x ist auch vom Typ object!?\", isinstance(x, object))\n",
    "print(\"Welchen Typ hat 7?\", type(7))\n"
   ]
  },
  {
   "cell_type": "markdown",
   "metadata": {},
   "source": [
    "Eine Info vorab zum nächsten Code-Beispiel mit der Funktion id(): In Python gibt es einige eingebaute Funktionen, die man direkt (ohne Objekt) verwenden kann, z.B. die Funktion id():\n",
    "\n",
    "[library/function id](https://docs.python.org/3/library/functions.html#id):\n",
    "*\"Return the “identity” of an object. This is an integer which is guaranteed to be unique and constant for this object during its lifetime. ... CPython implementation detail: This is the **address** of the object in memory. ...\"*\n"
   ]
  },
  {
   "cell_type": "code",
   "execution_count": null,
   "metadata": {},
   "outputs": [],
   "source": [
    "print(\"Hier ein paar Adressen (IDs) von Objekten:\")\n",
    "x= 1\n",
    "y= 2\n",
    "print(\"Zunaechst nichts besonderes: Zwei Adressen: \", id(x), id(y))\n",
    "\n",
    "print(\"Auch Literale sind in Objekten gespeichert: \")\n",
    "print(1, \"ID: \", id(1))\n",
    "print(2, \"ID: \", id(2))\n",
    "print(3, \"ID: \", id(3))\n",
    "\n",
    "print(\"Nur fuer Leute, die hinter die Kulissen schauen wollen: \")\n",
    "print(\"Abstand:\" , id(2)-id(1), id(3)-id(2))\n"
   ]
  },
  {
   "cell_type": "markdown",
   "metadata": {},
   "source": [
    "Tiefer Hintergrund: Der wichtigste Interpreter von Python heißt „CPython“. Er legt beim starten direkt einige Objekte für integer-Literale direkt an. Hier können sie ihn bei der Arbeit etwas zusehen…"
   ]
  },
  {
   "cell_type": "markdown",
   "metadata": {},
   "source": [
    "Jetzt etwas merkwürdiges:"
   ]
  },
  {
   "cell_type": "code",
   "execution_count": null,
   "metadata": {},
   "outputs": [],
   "source": [
    "a = 7\n",
    "b = a\n",
    "print(\"a = \", a, \"b = \", b) \n",
    "a = 2\n",
    "print(\"Welcher Wert hat b jetzt? Was vermuten Sie?\")\n"
   ]
  },
  {
   "cell_type": "code",
   "execution_count": null,
   "metadata": {},
   "outputs": [],
   "source": [
    "print(\"a = \", a, \"b = \", b) "
   ]
  },
  {
   "cell_type": "markdown",
   "metadata": {},
   "source": [
    "*Lösung:* ...noch nicht...sehen sie sich erst einmal selbst die Adressen dazu an...:"
   ]
  },
  {
   "cell_type": "code",
   "execution_count": null,
   "metadata": {},
   "outputs": [],
   "source": [
    "a = 7\n",
    "b = a\n",
    "print(\"a-ID = \", id(a), \", b-ID = \", id(b), \", 7-ID = \", id(7)) \n",
    "a = 2\n",
    "print(\"a-ID = \", id(a), \", b-ID = \", id(b), \", 7-ID = \", id(7), \", 2-ID = \", id(2)) \n"
   ]
  },
  {
   "cell_type": "markdown",
   "metadata": {},
   "source": [
    "*Lösung:* In b wurde zwar oben dieselbe Adresse gespeichert wie in a -- nämlich die vom Literal-Objekt 7.\n",
    "Aber: Während b weiterhin auf das Literal 7 zeigt, zeigt a jetzt auf das Literal-Objekt 2."
   ]
  },
  {
   "cell_type": "markdown",
   "metadata": {},
   "source": [
    "#### Dasselbe oder das gleiche? Wat is 'is'?\n",
    "\n",
    "\n",
    "\n",
    "\n"
   ]
  },
  {
   "cell_type": "code",
   "execution_count": null,
   "metadata": {},
   "outputs": [],
   "source": [
    "x = 1\n",
    "y = x\n",
    "print(\"Vergleich der Werte: \", x == y) \n",
    "print(\"Dasselbe Objekt dahinter? \", x is y) # Short form of: (id(x) == id(y)) \n",
    "\n",
    "print(\"y-ID\", id(y))\n",
    "y = 2 / 2\n",
    "print(\"y-ID\", id(y))\n",
    "print(\"Vergleich der Werte: \", x == y) \n",
    "print(\"Dasselbe Objekt dahinter? \", x is y) # Short form of: (id(x) == id(y)) \n"
   ]
  },
  {
   "cell_type": "markdown",
   "metadata": {},
   "source": [
    "Lösung / Erklärung: Wenn etwas (eine Zahl) neu ausgerechnet wird, dann entsteht dabei (evtl.) ein neues Objekt....und es wird nicht das schon vorhanden Literalt-Objekt (hier Literal-1) verwendet."
   ]
  },
  {
   "cell_type": "markdown",
   "metadata": {},
   "source": [
    "Todo dasselbe vs. das gleich...siehe C++ Testat"
   ]
  },
  {
   "cell_type": "markdown",
   "metadata": {},
   "source": [
    "### Eingebaute Datentypen von int bis str\n",
    "...für Objekte hinter den Variablen-Namen.\n",
    "Python kann über sich selbst \"reden\" (\"introspection\") \n",
    "\n",
    "(((Todo C++ hat auch etwas ähnliches, aber das haben wir nicht behandelt)))\n",
    "\n",
    "<img src=\"pics/python-logo-only.svg\" alt=\"Python\" width=\"30\" height=\"auto\">"
   ]
  },
  {
   "cell_type": "code",
   "execution_count": null,
   "metadata": {},
   "outputs": [],
   "source": [
    "type(1)"
   ]
  },
  {
   "cell_type": "markdown",
   "metadata": {},
   "source": [
    "<img src=\"pics/python-logo-only.svg\" alt=\"Python\" width=\"30\" height=\"auto\"> verfügbare Datentypen..."
   ]
  },
  {
   "cell_type": "code",
   "execution_count": null,
   "metadata": {},
   "outputs": [],
   "source": [
    "print(\"Numbers: \", type(0), type(3.412), type(3.2e-12), type(1+2j))\n",
    "\n",
    "print(\"More Types: \", type(True), type(\"Hello\"), type('h'))\n"
   ]
  },
  {
   "cell_type": "markdown",
   "metadata": {},
   "source": [
    "<img src=\"pics/python-logo-only.svg\" alt=\"Python\" width=\"30\" height=\"auto\"> Einzelne Char gibt es nicht, aber man kann sie einzeln oder in Gruppen gut greifen:  "
   ]
  },
  {
   "cell_type": "code",
   "execution_count": null,
   "metadata": {},
   "outputs": [],
   "source": [
    "str1= \"Hello\"\n",
    "print(str1)\n",
    "print(str1[0])\n",
    "print(str1[-1])\n",
    "print(str1[1:3])\n",
    "print(str1[1:])\n",
    "print(str1[:3])"
   ]
  },
  {
   "cell_type": "markdown",
   "metadata": {},
   "source": [
    "**Aufgabe:** Geben sie getrennt voneinander zuerst den Dateinamen und dann die Datei-Endung aus."
   ]
  },
  {
   "cell_type": "code",
   "execution_count": null,
   "metadata": {},
   "outputs": [],
   "source": [
    "file1= \"testfile.txt\"\n",
    "print(file1)\n",
    "print(\"Werden sie hier aktiv!\")\n",
    "print(\"Dateiname: \")\n",
    "print(\"Datei-Endung:\")"
   ]
  },
  {
   "cell_type": "markdown",
   "metadata": {},
   "source": [
    "<details> <summary>Tipp:</summary>\n",
    "Nutzen sie negative Zahlen!\n",
    "</details>\n",
    "<br/>\n",
    "<details> <summary>Lösung:</summary>\n",
    "[:-4]\n",
    "[-3:]\n",
    "</details>"
   ]
  },
  {
   "cell_type": "markdown",
   "metadata": {},
   "source": [
    "<img src=\"pics/python-logo-only.svg\" alt=\"Python\" width=\"30\" height=\"auto\"> Strings können auf vielfältige Arte notiert werden:"
   ]
  },
  {
   "cell_type": "code",
   "execution_count": null,
   "metadata": {},
   "outputs": [],
   "source": [
    "print('so',\"oder so\",'''oder so''',\"\"\"oder so\"\"\")\n",
    "\n",
    "print('''und auch\n",
    "        ganz lang\n",
    "                sein''')"
   ]
  },
  {
   "cell_type": "markdown",
   "metadata": {},
   "source": [
    "### Listen, Tupel und Co. -- statt array\n",
    "\n",
    "Todo: Etwas siehe For-Schleife\n",
    "bis dahin: https://python.pages.doc.ic.ac.uk/cpp/lessons/cpp/04-seq/index.html\n",
    "\n",
    "...und dann auch \"Sets and Dictionaries\""
   ]
  },
  {
   "cell_type": "markdown",
   "metadata": {},
   "source": [
    "## Kontrollfluss"
   ]
  },
  {
   "cell_type": "markdown",
   "metadata": {},
   "source": [
    "### For-Schleife  \n",
    "<img src=\"pics/ISO_C++_Logo.svg\" alt=\"C++\" width=\"30\" height=\"auto\">\n",
    "\n",
    "```cpp\n",
    "#include <iostream>  \n",
    "using namespace std;      \n",
    "    \n",
    "int main() {\n",
    "    //old C-Style:\n",
    "    for(int i=0; i<4;i++){\n",
    "        cout<<i<<endl;\n",
    "    };   \n",
    "\n",
    "    //...same using \"range-for\" of C++11:\n",
    "    int myArray[]={0,1,2,3};\n",
    "    for(int i: myArray)\n",
    "        cout << i << endl;\n",
    "\n",
    "    return 0;  \n",
    "}\n",
    "```"
   ]
  },
  {
   "cell_type": "markdown",
   "metadata": {},
   "source": [
    "<img src=\"pics/python-logo-only.svg\" alt=\"Python\" width=\"30\" height=\"auto\"> Sie können in Python eine Liste von Hand erstellen und dann iterieren: \n"
   ]
  },
  {
   "cell_type": "code",
   "execution_count": null,
   "metadata": {
    "trusted": true
   },
   "outputs": [],
   "source": [
    "myArray=[0, 1, 2, 3];\n",
    "for i in myArray:\n",
    "    print(i)"
   ]
  },
  {
   "cell_type": "markdown",
   "metadata": {},
   "source": [
    "Viele Eleganter mit \"range()\":..."
   ]
  },
  {
   "cell_type": "code",
   "execution_count": null,
   "metadata": {},
   "outputs": [],
   "source": [
    "for i in range(4):\n",
    "    print(i)"
   ]
  },
  {
   "cell_type": "markdown",
   "metadata": {},
   "source": [
    "Mit *range* wird (zur Laufzeit) eine Sequenz von Integer-Werten erstellt, über die dann iteriert wird.\n",
    "\n",
    "*kurzer Exkurs*: Mit *range* (und seinen bis zu 3 Parametern) kann man auch gut eine *List* füllen...:"
   ]
  },
  {
   "cell_type": "code",
   "execution_count": null,
   "metadata": {},
   "outputs": [],
   "source": [
    "list(range(1,10,2))"
   ]
  },
  {
   "cell_type": "markdown",
   "metadata": {},
   "source": [
    "**Aufgabe:** Generieren sie die Liste [20,30,40,50]"
   ]
  },
  {
   "cell_type": "code",
   "execution_count": null,
   "metadata": {},
   "outputs": [],
   "source": [
    "list(range(1,1,1))"
   ]
  },
  {
   "cell_type": "markdown",
   "metadata": {},
   "source": [
    "### Switch\n",
    "<img src=\"pics/ISO_C++_Logo.svg\" alt=\"C++\" width=\"30\" height=\"auto\">\n",
    "\n",
    "```cpp\n",
    "#include <iostream>\n",
    "using namespace std;\n",
    "\n",
    "int main() {\n",
    "    char option;\n",
    "    cout << \"Eine der Operationen +-*/ auswählen: \";\n",
    "    cin >> option;\n",
    "    int x = 2, y = 3;\n",
    "    int result;\n",
    "\n",
    "    switch (option) {\n",
    "        case '+':\n",
    "            result = x + y;\n",
    "            break;\n",
    "        case '*':\n",
    "            result = x * y;\n",
    "            break;\n",
    "        case '-':\n",
    "            result = x - y;\n",
    "            break;\n",
    "        case '/':\n",
    "            result = x / y;\n",
    "            break;\n",
    "        default:\n",
    "            result = 000;\n",
    "            cout << \"Error!\" << endl;\n",
    "    }\n",
    "    cout << \"Ergebnis: \" << result << endl;\n",
    "    return 0;\n",
    "}\n",
    "\n",
    "```\n",
    "<img src=\"pics/python-logo-only.svg\" alt=\"Python\" width=\"30\" height=\"auto\">"
   ]
  },
  {
   "cell_type": "code",
   "execution_count": null,
   "metadata": {},
   "outputs": [],
   "source": [
    "option=input(\"Eined der Operationen +-*/ auswählen: \")\n",
    "x=2; y=3\n",
    "match option:\n",
    "    case \"+\":\n",
    "      result=x+y\n",
    "  \n",
    "    case \"*\":\n",
    "      result=x*y\n",
    "\n",
    "    case \"-\":\n",
    "      result=x-y\n",
    "  \n",
    "    case \"/\":\n",
    "      result=x/y\n",
    "  \n",
    "    case _:\n",
    "      result=00000\n",
    "      print(\"Error!\\n\")\n",
    "print(f\"result: {result}\")"
   ]
  },
  {
   "cell_type": "markdown",
   "metadata": {},
   "source": [
    "## Funktionen\n",
    "<img src=\"pics/ISO_C++_Logo.svg\" alt=\"C++\" width=\"30\" height=\"auto\"> Ein Beispiel:\n",
    "\n",
    "```cpp\n",
    "#include <iostream>\n",
    "using namespace std;\n",
    "\n",
    "int addNumbers(int a, int b) {\n",
    "    int sum = a + b;\n",
    "    return sum;\n",
    "}\n",
    "\n",
    "int main() {\n",
    "    int num1 = 5, num2 = 10;\n",
    "    int result = addNumbers(num1, num2);\n",
    "    cout << \"The sum of \" << num1 << \" and \" << num2 << \" is: \" << result << endl;\n",
    "    return 0;\n",
    "}\n",
    "```\n",
    "<img src=\"pics/python-logo-only.svg\" alt=\"Python\" width=\"30\" height=\"auto\"> Das Schlüsselwort **def** leitet eine Funktion ein:"
   ]
  },
  {
   "cell_type": "code",
   "execution_count": null,
   "metadata": {},
   "outputs": [],
   "source": [
    "def addNumbers(a, b): \n",
    "    sum = a + b\n",
    "    return sum\n",
    "\n",
    "# Hauptprogramm\n",
    "num1 = 5\n",
    "num2 = 10\n",
    "result = addNumbers(num1, num2)\n",
    "print(\"The sum of\", num1, \"and\", num2, \"is:\", result)"
   ]
  },
  {
   "cell_type": "markdown",
   "metadata": {},
   "source": [
    "...wie sie sehen: Datentypen für Paramter und Return-Wert werden nicht deklariert.\n",
    "\n",
    "*Vertiefung:* Mit sogenannten [Annoationen](https://www.tutorialspoint.com/python/python_function_annotations.htm) kann man auch in Python Typ-Informationen annotieren. Diese sind aber nicht bindent wie bei C++, die Einhaltung wird auch nicht erzwungen. Die Info kann aber zur Dokumentation und Fehlersuche verwendet werden, insbesondere wenn moderen IDEs verwendet werden. "
   ]
  },
  {
   "cell_type": "markdown",
   "metadata": {},
   "source": [
    "### pass-by-object statt pass-by-value und pass-by-referenz \n",
    "\n",
    "Bei Python wird auf Variablen (sogar bei einer integer) immer über ihre Objekt-Referenz zugegriffen. Den Effekt bei Zuweisungen haben wir oben schon angesehen. \n",
    "\n",
    "Eine Parameterübergabe ist im Prinzip ein andere Form der Zuweisung: Das Objekt beim Aufruf wird dem Parameter-Objekt aus der Funktionsdefinition zugewiesen.  \n",
    "\n",
    "Das Besondere: Je nachdem von welcher Art (veränderlich oder unveränderlich) das Objekt ist, wirkt das dann entweder wie ein pass-by-value oder wie ein pass-by-refernz bei der Parameterübergabe. (Veränderlich ist zum Beispiel eine Liste, unveränderlich ist zum Beispiel ein int oder str.)\n",
    "\n",
    "[Hier sehr anschaulich](https://medium.com/@devyjoneslocker/understanding-pythons-pass-by-assignment-in-the-backdrop-of-pass-by-value-vs-9f5cc602f943) oder,\n",
    "[hier mehr Details und best practices](https://realpython.com/python-pass-by-reference/)\n",
    "\n",
    "In Kurz: Dort wo bei z.B. integer ein pass-by-referenz benötigt wird, kann man bei Python (ein oder mehrere) Return-Werte nutzen, oder man packt die integer in eine Liste oder ein Objekt. Man packt also das \"Unveränderliche\" in etwas \"Veränderliches\" ein.\n",
    "\n",
    "Hier Beispiele, die für C++'ler teils verwunderlich sind:"
   ]
  },
  {
   "cell_type": "code",
   "execution_count": null,
   "metadata": {},
   "outputs": [],
   "source": [
    "# Integer-Parameter (immutable)\n",
    "def no_inkr(x):\n",
    "    x= x+1\n",
    "\n",
    "a= 0\n",
    "no_inkr(a)\n",
    "print(a)"
   ]
  },
  {
   "cell_type": "markdown",
   "metadata": {},
   "source": [
    "**Aufgabe** Programmieren sie eine inkrement-Funktion mit Hilfe eines return-Wertes."
   ]
  },
  {
   "cell_type": "code",
   "execution_count": null,
   "metadata": {},
   "outputs": [],
   "source": [
    "# Start of Solution:\n",
    "def inkr(x):\n",
    "    TODO\n",
    "\n",
    "a= 0\n",
    "TODO inkr(a)\n",
    "print(a)\n"
   ]
  },
  {
   "cell_type": "code",
   "execution_count": null,
   "metadata": {},
   "outputs": [],
   "source": [
    "# List-Parameter (mutable)\n",
    "def append_4(a):\n",
    "    a.append(4)\n",
    "\n",
    "a= [1,2,3]\n",
    "append_4(a)\n",
    "print(a)"
   ]
  },
  {
   "cell_type": "markdown",
   "metadata": {},
   "source": [
    "### Kein Überladen bei Python\n",
    "\n",
    "Zwei Funktionen dürfen nicht denselben Namen tragen - auch wenn sie unterschiedliche Parameter-Listen haben. \n",
    "\n",
    "Bzw. sehen sie selbst was passiert: "
   ]
  },
  {
   "cell_type": "code",
   "execution_count": null,
   "metadata": {},
   "outputs": [],
   "source": [
    "def func1(x):\n",
    "    print(x)\n",
    "\n",
    "def func1(x,y):\n",
    "    print(x,y)\n",
    "\n",
    "func1(7)"
   ]
  },
  {
   "cell_type": "markdown",
   "metadata": {},
   "source": [
    "### Default-Werte für Parameter\n",
    "\n",
    "....sehen genauso aus wie bei C++...\n",
    "\n",
    "<img src=\"pics/python-logo-only.svg\" alt=\"Python\" width=\"30\" height=\"auto\">"
   ]
  },
  {
   "cell_type": "code",
   "execution_count": null,
   "metadata": {},
   "outputs": [],
   "source": [
    "def addNumbers(a=0, b=0, c=0): \n",
    "    sum = a + b + c\n",
    "    return sum\n",
    "\n",
    "print(addNumbers(1, 2, 3))\n",
    "print(addNumbers(1, 2))\n"
   ]
  },
  {
   "cell_type": "markdown",
   "metadata": {},
   "source": [
    "### Kennworte für Parameter\n",
    "\n",
    "<img src=\"pics/python-logo-only.svg\" alt=\"Python\" width=\"30\" height=\"auto\">: Beim Aufruf der Funktion bei Parametern explizit notieren, um welchen Parameter es sich handelt. "
   ]
  },
  {
   "cell_type": "code",
   "execution_count": null,
   "metadata": {},
   "outputs": [],
   "source": [
    "def func1( a, b=0, width= 5, length= 10):\n",
    "    print(f\"a={a}, b={b}, width={width}, length={length}\")\n",
    "    return\n",
    "\n",
    "func1(1, 2, 3, 4)\n",
    "func1(1, width=555)"
   ]
  },
  {
   "cell_type": "markdown",
   "metadata": {},
   "source": [
    "**Aufgabe**: Definieren sie die im folgenden Aufruf benötigte Funktion:"
   ]
  },
  {
   "cell_type": "code",
   "execution_count": null,
   "metadata": {},
   "outputs": [],
   "source": [
    "sayHelloTo( lastname=\"Meier\" , firstname= \"Anna\")\n",
    "# Ausgabe: Hallo Frau Meier, oder darf ich Anna sagen?"
   ]
  },
  {
   "cell_type": "markdown",
   "metadata": {},
   "source": [
    "Bei C++ gibt es seit C++20 etwas ähnliches (designated initializers -- die sind aber nicht so einfach wie bei Python)."
   ]
  },
  {
   "cell_type": "markdown",
   "metadata": {},
   "source": [
    "#### Mehrere Rückgabewerte auf einen Schlag\n",
    "\n",
    "<img src=\"pics/python-logo-only.svg\" alt=\"Python\" width=\"30\" height=\"auto\"> In Python können mehrere Zuweisungen auf ein Schlag vorgenommen werden können."
   ]
  },
  {
   "cell_type": "code",
   "execution_count": null,
   "metadata": {},
   "outputs": [],
   "source": [
    "a ,b = 1, 2\n",
    "print(f\"a={a}, b={b}\")"
   ]
  },
  {
   "cell_type": "code",
   "execution_count": null,
   "metadata": {},
   "outputs": [],
   "source": [
    "# by the way...\n",
    "# switch in Python-Stil without a tmp:\n",
    "a=1; b=2\n",
    "a, b= b, a\n",
    "print(f\"a={a}, b={b}\")"
   ]
  },
  {
   "cell_type": "markdown",
   "metadata": {},
   "source": [
    "Praktisch wenn eine Funktion mehreres zurückgeben kann:"
   ]
  },
  {
   "cell_type": "code",
   "execution_count": null,
   "metadata": {},
   "outputs": [],
   "source": [
    "def calc(a, b): \n",
    "    sum = a + b\n",
    "    product = a * b\n",
    "    return sum, product\n",
    "\n",
    "x, y = calc(1, 2)\n",
    "print(f\"x={x}, y={y}\")"
   ]
  },
  {
   "cell_type": "markdown",
   "metadata": {},
   "source": [
    "....alternativ kann aber auch das (automatisch gebildete) Tupel entgegen genommen werden...\n",
    "\n",
    "Exkurs: Ein Tupel (...) ist ähnlich wie eine Liste [...], aber die Elemente darin können nicht verändert werden. "
   ]
  },
  {
   "cell_type": "code",
   "execution_count": null,
   "metadata": {},
   "outputs": [],
   "source": [
    "result_list= calc(1, 2)\n",
    "print(result_list)"
   ]
  },
  {
   "cell_type": "markdown",
   "metadata": {},
   "source": [
    "### Ein paar Beispiel-Funktionen"
   ]
  },
  {
   "cell_type": "markdown",
   "metadata": {},
   "source": [
    "#### Max-Funktion\n",
    "Zum Finden des maximalen Werts\n",
    "<img src=\"pics/ISO_C++_Logo.svg\" alt=\"C++\" width=\"30\" height=\"auto\">\n",
    "\n",
    "```cpp\n",
    "#include <iostream>\n",
    "using namespace std;\n",
    "\n",
    "int main() {\n",
    "    int myArray[5] = {12, 56, 34, 89, 17};\n",
    "    int maxValue = myArray[0];\n",
    "    for (int i = 1; i < 5; ++i) {\n",
    "        if (myArray[i] > maxValue) {\n",
    "            maxValue = myArray[i];\n",
    "        }\n",
    "    }\n",
    "    cout << \"The maximum value in the array is: \" << maxValue << endl;\n",
    "    return 0;\n",
    "}\n",
    "```"
   ]
  },
  {
   "cell_type": "markdown",
   "metadata": {},
   "source": [
    "<img src=\"pics/python-logo-only.svg\" alt=\"Python\" width=\"30\" height=\"auto\"> ...mit Listen und einer \"Build-in Function\" max"
   ]
  },
  {
   "cell_type": "code",
   "execution_count": null,
   "metadata": {
    "trusted": true
   },
   "outputs": [],
   "source": [
    "myList = [12, 56, 34, 89, 17]\n",
    "maxValue = max(myList)\n",
    "print(\"The maximum value in the array is:\", maxValue)"
   ]
  },
  {
   "cell_type": "markdown",
   "metadata": {},
   "source": [
    "**Aufgabe:** Versuchen sie ihr \"Glück\" beim Minimum:"
   ]
  },
  {
   "cell_type": "code",
   "execution_count": null,
   "metadata": {
    "trusted": true
   },
   "outputs": [],
   "source": [
    "myArray = [12, 56, 34, 89, 17]\n",
    "minValue = TODO\n",
    "print(\"The minimum value in the array is:\", minValue)"
   ]
  },
  {
   "cell_type": "markdown",
   "metadata": {},
   "source": [
    "## Klassen"
   ]
  },
  {
   "cell_type": "markdown",
   "metadata": {},
   "source": [
    "### Klassen: Ein Beispiel\n",
    "\n",
    "<img src=\"pics/ISO_C++_Logo.svg\" alt=\"C++\" width=\"30\" height=\"auto\">\n",
    "\n",
    "```cpp\n",
    "#include <iostream>\n",
    "using namespace std;\n",
    "\n",
    "class Shape {\n",
    "public:\n",
    "    Shape() {\n",
    "        cout << \"Shape constructor called.\" << endl;}\n",
    "\n",
    "    virtual double area() const { \n",
    "        return 0.0; }\n",
    "};\n",
    "\n",
    "int main() {\n",
    "    Shape shape;\n",
    "    double area = shape.area();\n",
    "    cout << \"The area of the shape is: \" << area << endl;\n",
    "    return 0;\n",
    "}\n",
    "```\n",
    "<img src=\"pics/python-logo-only.svg\" alt=\"Python\" width=\"30\" height=\"auto\">"
   ]
  },
  {
   "cell_type": "code",
   "execution_count": null,
   "metadata": {
    "trusted": true
   },
   "outputs": [],
   "source": [
    "class Shape:\n",
    "    def __init__(self):\n",
    "        print(\"Shape constructor called.\")\n",
    "        \n",
    "    def area(self):\n",
    "        return 0.0\n",
    "shape = Shape()\n",
    "area = shape.area() \n",
    "print(\"The area of the shape is:\", area)"
   ]
  },
  {
   "cell_type": "markdown",
   "metadata": {},
   "source": [
    "Bei Python wird das aktuelle Objekt in der Parameterliste empfangen (an erster Stelle). \n",
    "\n",
    "Dass dieser besondere Paramter den Namen **'self'** trägt, ist kein Muss, sondern nur Konvention. \n",
    "\n",
    "'self' entspricht also grob dem 'this' bei C++. "
   ]
  },
  {
   "cell_type": "markdown",
   "metadata": {},
   "source": [
    "### Konstruktor\n",
    "<img src=\"pics/ISO_C++_Logo.svg\" alt=\"C++\" width=\"30\" height=\"auto\">\n",
    "\n",
    "```cpp\n",
    "#include <iostream>\n",
    "using namespace std;\n",
    "\n",
    "class Person {\n",
    "public:\n",
    "    Person() {\n",
    "        cout << \"I created a person! It's alive!\" << endl;\n",
    "    }\n",
    "};\n",
    "\n",
    "int main() {\n",
    "    Person manager;\n",
    "    cout << &manager << endl;\n",
    "    return 0;\n",
    "}\n",
    "\n",
    "```\n",
    "<img src=\"pics/python-logo-only.svg\" alt=\"Python\" width=\"30\" height=\"auto\">\n",
    "`__init__(self):` dient als Konstruktor in Python und wird sofort ausgeführt, wenn ein Objekt der Klasse ausgelegt wird."
   ]
  },
  {
   "cell_type": "code",
   "execution_count": null,
   "metadata": {},
   "outputs": [],
   "source": [
    "class Person:\n",
    "    def __init__(self):\n",
    "        print(\"I created a person! It's alive!\")\n",
    "\n",
    "manager = Person()\n",
    "print(manager)"
   ]
  },
  {
   "cell_type": "markdown",
   "metadata": {},
   "source": [
    "Frage: Wieso gibt es bei Python keinen Destruktor?"
   ]
  },
  {
   "cell_type": "markdown",
   "metadata": {},
   "source": [
    "### Parameter-Konstuktor\n",
    "<img src=\"pics/ISO_C++_Logo.svg\" alt=\"C++\" width=\"30\" height=\"auto\">\n",
    "\n",
    "```cpp\n",
    "#include <iostream>\n",
    "#include <string>\n",
    "using namespace std;\n",
    "\n",
    "class Person {\n",
    "public:\n",
    "    string name;\n",
    "    int age;\n",
    "    string nationality;\n",
    "    Person(string name, int age, string nationality = \"uk\") : name(name), age(age), nationality(nationality) {}\n",
    "};\n",
    "\n",
    "int main() {\n",
    "    Person manager(\"Ashraf\", 20, \"malaysia\");\n",
    "    cout << manager.name << endl;\n",
    "    cout << manager.nationality << endl;\n",
    "    manager.age = 24;\n",
    "    cout << manager.age << endl;\n",
    "    return 0;\n",
    "} \n",
    "```\n",
    "<img src=\"pics/python-logo-only.svg\" alt=\"Python\" width=\"30\" height=\"auto\">\n",
    "`self` in Python ist ähnlich zu `This` in C++"
   ]
  },
  {
   "cell_type": "code",
   "execution_count": null,
   "metadata": {},
   "outputs": [],
   "source": [
    "class Person:\n",
    "    def __init__(self, name, age, nationality=\"uk\"):\n",
    "        self.name = name\n",
    "        self.age = age\n",
    "        self.nationality = nationality\n",
    "\n",
    "manager = Person(\"Ashraf\", 20, \"malaysia\")\n",
    "print(manager.name)\n",
    "print(manager.nationality)\n",
    "manager.age = 24\n",
    "print(manager.age)"
   ]
  },
  {
   "cell_type": "markdown",
   "metadata": {},
   "source": [
    "### Vererbung\n",
    "<img src=\"pics/ISO_C++_Logo.svg\" alt=\"C++\" width=\"30\" height=\"auto\">\n",
    "\n",
    "```cpp\n",
    "#include <iostream>\n",
    "#include <string>\n",
    "using namespace std;\n",
    "\n",
    "class GameCharacter {\n",
    "protected:\n",
    "    string name;\n",
    "    int health, strength, defence;\n",
    "public:\n",
    "    GameCharacter(string name, int health = 50, int strength = 30, int defence = 20)\n",
    "        : name(name), health(health), strength(strength), defence(defence) {}\n",
    "};\n",
    "\n",
    "class Villain : public GameCharacter {\n",
    "public:\n",
    "    Villain(string name, int health = 60, int strength = 30, int defence = 20, int evilness = 50)\n",
    "        : GameCharacter(name, health, strength, defence), evilness(evilness) {}\n",
    "\n",
    "int main() {\n",
    "    GameCharacter boy(\"Boy\", 100, 20, 10);\n",
    "    Villain evilman(\"Voldemort\", 30, 50, 40, 100);\n",
    "    cout << boy.getHealth() << endl;\n",
    "    cout << evilman.getHealth() << endl;\n",
    "    return 0;\n",
    "}\n",
    "```\n",
    "<img src=\"pics/python-logo-only.svg\" alt=\"Python\" width=\"30\" height=\"auto\">"
   ]
  },
  {
   "cell_type": "code",
   "execution_count": null,
   "metadata": {},
   "outputs": [],
   "source": [
    "class GameCharacter:\n",
    "    def __init__(self, name, health=50, strength=30, defence=20):\n",
    "        self.name = name\n",
    "        self.health = health\n",
    "        self.strength = strength\n",
    "        self.defence = defence\n",
    "\n",
    "class Villain(GameCharacter):\n",
    "    def __init__(self, name, health=60, strength=30, defence=20, evilness=50):\n",
    "        super().__init__(name, health, strength, defence)\n",
    "        self.evilness = 50\n",
    "\n",
    "boy = GameCharacter(\"Boy\", 100, 20, 10)\n",
    "evilman = Villain(\"Voldemort\", 30, 50, 40, 100)\n",
    "print(boy.health)\n",
    "print(evilman.health)"
   ]
  },
  {
   "cell_type": "markdown",
   "metadata": {},
   "source": [
    "### Kapselung\n",
    "<img src=\"pics/ISO_C++_Logo.svg\" alt=\"C++\" width=\"30\" height=\"auto\">\n",
    "\n",
    "```cpp\n",
    "#include <iostream>\n",
    "#include <string>\n",
    "using namespace std;\n",
    "\n",
    "class Person {\n",
    "private:\n",
    "    int age;\n",
    "public:\n",
    "    string name;\n",
    "    Person(string name, int age) : name(name), age(age) {}\n",
    "    int getAge() { return age; }\n",
    "};\n",
    "int main() {\n",
    "    Person person(\"John Doe\", 30);\n",
    "    cout << \"Age: \" << person.getAge() << endl;\n",
    "    return 0;\n",
    "}\n",
    "```\n",
    "<img src=\"pics/python-logo-only.svg\" alt=\"Python\" width=\"30\" height=\"auto\">"
   ]
  },
  {
   "cell_type": "code",
   "execution_count": null,
   "metadata": {},
   "outputs": [],
   "source": [
    "class Person:\n",
    "    def __init__(self, name, age=18):\n",
    "        self.name = name\n",
    "        self.__age = age\n",
    "        \n",
    "    def get_age(self):\n",
    "        return self.__age\n",
    "person = Person(\"John Doe\", 30)\n",
    "print(\"Name:\", person.name)\n",
    "print(\"Age:\", person.get_age())"
   ]
  }
 ],
 "metadata": {
  "colab": {
   "authorship_tag": "ABX9TyNCN9aN0Q1glU4ix8CPJtSd",
   "gpuType": "T4",
   "include_colab_link": true,
   "provenance": [],
   "toc_visible": true
  },
  "kernelspec": {
   "display_name": "Python 3",
   "name": "python3"
  },
  "language_info": {
   "codemirror_mode": {
    "name": "ipython",
    "version": 3
   },
   "file_extension": ".py",
   "mimetype": "text/x-python",
   "name": "python",
   "nbconvert_exporter": "python",
   "pygments_lexer": "ipython3",
   "version": "3.11.7"
  }
 },
 "nbformat": 4,
 "nbformat_minor": 0
}
