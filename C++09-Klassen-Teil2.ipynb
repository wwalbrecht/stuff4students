{
  "cells": [
    {
      "cell_type": "markdown",
      "metadata": {
        "colab_type": "text",
        "id": "view-in-github"
      },
      "source": [
        "<a href=\"https://colab.research.google.com/github/wwalbrecht/stuff4students/blob/main/C++09-Klassen-Teil2.ipynb\"\n",
        " target=\"_parent\"><img src=\"https://colab.research.google.com/assets/colab-badge.svg\" alt=\"Open In Colab\"/></a>"
      ]
    },
    {
      "cell_type": "markdown",
      "metadata": {},
      "source": [
        "# C++09–Klassen 2: Konstruktoren, Destruktoren ..."
      ]
    },
    {
      "cell_type": "markdown",
      "metadata": {},
      "source": [
        "# Nötige Initialisierungen"
      ]
    },
    {
      "cell_type": "markdown",
      "metadata": {
        "id": "ra9j3V0XQJ_s"
      },
      "source": [
        "## Init für C++\n",
        "\n",
        "Für C++ müssen Installationen gemacht (und ausgeführt) werden, damit im Notebook das \"cell magic\" %%cuda für den Compiler verfügbar ist. (Quelle: https://www.geeksforgeeks.org/how-to-run-cuda-c-c-on-jupyter-notebook-in-google-colaboratory/)\n",
        "\n",
        "Falls sie dieses Notebook in Colab geöffnet haben, dann führen sie jetzt diesen Code-Block aus! Zum Ausführen des Programm-Code gehen sie mit der Maus über die nächste Zelle (Code Block) und klicken auf den Pfeil (Dreieck) daneben.\n",
        "\n",
        "(Für Interessierte: Mit '!' am Anfang der Zeil werden hier Befehle an die Konsole des Servers geschickt.)"
      ]
    },
    {
      "cell_type": "code",
      "execution_count": null,
      "metadata": {
        "id": "fyVDClX4P3WX"
      },
      "outputs": [],
      "source": [
        "!echo \"Installation according to https://github.com/andreinechaev/nvcc4jupyter\"\n",
        "!echo \"*** 1.)  Test if NVIDIA(R)-cuda-compiler-driver is availabe...\"\n",
        "!nvcc --version\n",
        "!echo \"*** 2.) Install extension to run nvcc ...\"\n",
        "%pip install nvcc4jupyter\n",
        "!echo \"*** 3.) Load extension using a 'line magic %' command....\"\n",
        "%load_ext nvcc4jupyter"
      ]
    },
    {
      "cell_type": "markdown",
      "metadata": {},
      "source": [
        "Weitere Infos (allerdings nicht ganz neu): https://colab.research.google.com/github/j143/notebooks/blob/main/cuda_on_colab.ipynb"
      ]
    },
    {
      "cell_type": "markdown",
      "metadata": {
        "id": "IvvCXgAEOR52"
      },
      "source": [
        "#### Hello C++-World from Jupyter Notebook\n",
        "\n",
        "<img src=\"pics/ISO_C++_Logo.svg\" alt=\"C++\" width=\"30\" height=\"auto\">\n",
        "Falls die Installationen geklappt haben, dann sollten sie jetzt auch folgendes ausführen können."
      ]
    },
    {
      "cell_type": "code",
      "execution_count": null,
      "metadata": {
        "id": "GDXqDlB-PnvJ"
      },
      "outputs": [],
      "source": [
        "%%cuda\n",
        "#include <iostream>\n",
        "int\tmain(void) {\n",
        "\tstd::cout << \"Hello from C++ inside jupyter notebook!\\n\";\n",
        "\treturn 0;\n",
        "}"
      ]
    },
    {
      "cell_type": "markdown",
      "metadata": {},
      "source": [
        "Probleme? \n",
        "> Sehen sie statt der Ausgabe nur \"*UsageError: Cell magic `%%cuda` not found.*\"?\n",
        "> Haben sie den Code-Block darüber schon ausgeführt?\n",
        "> (Wundern sie sich nicht über die Unterstrich-Markierungen des Editors -- der denkt leider er hätte Python-Code vor sich.)"
      ]
    },
    {
      "cell_type": "markdown",
      "metadata": {},
      "source": [
        "## Init für plantUML-Diagramme\n",
        "\n",
        "Ein Tool zum Zeichnen von (UML-)Diagrammen zur Illustration im Notebook. [(Dokumentation dazu)](https://plantuml.com/de/)"
      ]
    },
    {
      "cell_type": "code",
      "execution_count": null,
      "metadata": {},
      "outputs": [],
      "source": [
        "%pip install iplantuml\n",
        "import iplantuml"
      ]
    },
    {
      "cell_type": "markdown",
      "metadata": {},
      "source": [
        "Ein kleine Diagramm nur zum Testen..."
      ]
    },
    {
      "cell_type": "code",
      "execution_count": 14,
      "metadata": {},
      "outputs": [
        {
          "data": {
            "image/svg+xml": [
              "<svg xmlns=\"http://www.w3.org/2000/svg\" xmlns:xlink=\"http://www.w3.org/1999/xlink\" contentStyleType=\"text/css\" height=\"154px\" preserveAspectRatio=\"none\" style=\"width:74px;height:154px;background:#FFFFFF;\" version=\"1.1\" viewBox=\"0 0 74 154\" width=\"74px\" zoomAndPan=\"magnify\"><defs/><g><g id=\"elem_x\"><rect fill=\"#F1F1F1\" height=\"36.2969\" style=\"stroke:#181818;stroke-width:0.5;\" width=\"22\" x=\"26\" y=\"7\"/><text fill=\"#000000\" font-family=\"sans-serif\" font-size=\"14\" lengthAdjust=\"spacing\" textLength=\"8\" x=\"33\" y=\"21.9951\">x</text><line style=\"stroke:#181818;stroke-width:0.5;\" x1=\"27\" x2=\"47\" y1=\"27.2969\" y2=\"27.2969\"/></g><g id=\"elem_int_1\"><rect fill=\"#F1F1F1\" height=\"44.5938\" style=\"stroke:#181818;stroke-width:0.5;\" width=\"60\" x=\"7\" y=\"103\"/><text fill=\"#000000\" font-family=\"sans-serif\" font-size=\"14\" lengthAdjust=\"spacing\" textLength=\"25\" x=\"24.5\" y=\"117.9951\">:int</text><line style=\"stroke:#181818;stroke-width:0.5;\" x1=\"8\" x2=\"66\" y1=\"123.2969\" y2=\"123.2969\"/><text fill=\"#000000\" font-family=\"sans-serif\" font-size=\"14\" lengthAdjust=\"spacing\" textLength=\"48\" x=\"13\" y=\"140.292\">int = 1</text></g><!--link x to int_1--><g id=\"link_x_int_1\"><path codeLine=\"5\" d=\"M37,43.157 C37,59.6931 37,78.7778 37,96.716 \" fill=\"none\" id=\"x-to-int_1\" style=\"stroke:#181818;stroke-width:1.0;\"/><polygon fill=\"#181818\" points=\"37,102.716,41,93.716,37,97.716,33,93.716,37,102.716\" style=\"stroke:#181818;stroke-width:1.0;\"/></g><!--SRC=[oq_AIaqkKQXGuCg7i9IiClDAb1GIYnM0TBoXGZMN0X00sGgs2ePSjLmL2hgwTX0v0000]--></g></svg>"
            ],
            "text/plain": [
              "<IPython.core.display.SVG object>"
            ]
          },
          "execution_count": 14,
          "metadata": {},
          "output_type": "execute_result"
        }
      ],
      "source": [
        "%%plantuml\n",
        "\n",
        "@startuml\n",
        "object x \n",
        "object \":int\" as int_1 {\n",
        "    int = 1\n",
        "}\n",
        "x --> int_1\n",
        "@enduml"
      ]
    },
    {
      "cell_type": "markdown",
      "metadata": {},
      "source": [
        "*Damit sollten die Initialisierungen erledigt sein und der Hauptteil kann starten.*"
      ]
    },
    {
      "cell_type": "markdown",
      "metadata": {},
      "source": [
        "# Konstruktoren: Einführung\n",
        "\n"
      ]
    },
    {
      "cell_type": "markdown",
      "metadata": {},
      "source": [
        "## Konstruktoren: Einführung: Motivation\n",
        "\n",
        "(K)ein Probleme beim Initialisieren?\n",
        "\n",
        "**Frage:** Was könnten beim folgenden Code schief gehen, bzw. ungewollt sein?"
      ]
    },
    {
      "cell_type": "code",
      "execution_count": null,
      "metadata": {},
      "outputs": [],
      "source": [
        "%%cuda\n",
        "#include <iostream>\n",
        "using namespace std;\n",
        "\n",
        "class Student{\n",
        "public:\n",
        "    string name;\n",
        "    int matnr;\n",
        "    void init(void){\n",
        "        this->name= \"unbekannt\";\n",
        "        this->matnr= 12345;\n",
        "    }\n",
        "}; //Student\n",
        "\n",
        "int main(void){\n",
        "    Student localStud111;\n",
        "    cout << localStud111.matnr << endl;\n",
        "    cout << \"...wie erwartet?\" << endl;\n",
        "}"
      ]
    },
    {
      "cell_type": "markdown",
      "metadata": {},
      "source": [
        "*Alte Zeiten*: Bei der Verwendung von (fremden und eigenen) Daten und Funktionen:\n",
        "Es muss oft zuerst eine init-Funktion aufgerufen werden.\n",
        "Das wurde aber immer wieder vergessen.\n",
        "\n",
        "*Neu, objektorientiert*: Keine Gefahr mehr bei Klassen dank Konstruktoren! Sie müssen nur angelegt/definieren werden.\n",
        "\n",
        "Sie werden dann immer automatisch Aufgerufen …genau zum richtigen Zeitpunkt! Dazu gleich mehr, zunächst: Wie sehen diese etwas merkwürdigen Funktionen aus?\n"
      ]
    },
    {
      "cell_type": "markdown",
      "metadata": {},
      "source": [
        "## Konstruktoren: Einführung: Definition\n",
        "\n",
        "Ein Konstruktor ist eine spezielle Member-Funktion\n",
        "- deren Name identisch mit dem Namen der Klasse ist;\n",
        "- sie geben niemals einen Return-Wert zurück; \n",
        "- ...auch kein Return-Typ bei der Definition angeben, noch nicht einmal void!\n",
        "- Wie bei \"normalen\" Funktionen, kann man es auch bei Konstruktoren mehrere Varianten mit unterschiedlichen Parameterlisten definieren (→**Überladen**)\n",
        "\n",
        "Hier ein Beispiel:"
      ]
    },
    {
      "cell_type": "code",
      "execution_count": null,
      "metadata": {},
      "outputs": [],
      "source": [
        "%%cuda\n",
        "#include <iostream>\n",
        "#include <string>\n",
        "using namespace std;\n",
        "\n",
        "class Student{\n",
        "private:\n",
        "    string name;\n",
        "    int matnr;\n",
        "public:\n",
        "    // Ein Konstruktor (immer ohne Return-Typ!):\n",
        "    Student(void){\n",
        "        this->name= \"N.N.\";\n",
        "        this->matnr= 0;\n",
        "    }\n",
        "\n",
        "    // Ein weiterer Konstruktor:\n",
        "    Student(string name_in, int matnr_in){\n",
        "        this->name= name_in;\n",
        "        this->matnr = matnr_in;\n",
        "    }\n",
        "\n",
        "    void print(void){\n",
        "        cout << this->name << \", \" << this->matnr << endl;\n",
        "    }\n",
        "}; //Student\n",
        "\n",
        "int main(void){\n",
        "    Student s1;\n",
        "    Student s2(\"Uwe\", 12345);\n",
        "    s1.print();\n",
        "    s2.print();\n",
        "}\n",
        "\n"
      ]
    },
    {
      "cell_type": "markdown",
      "metadata": {},
      "source": [
        "### Konstruktoren: Einführung: Aufrufzeitpunkte:\n",
        "\n",
        "...immer automatisch zum richtigen Zeitpunkt: \n",
        "\n",
        "**Beobachten Sie selbst**:"
      ]
    },
    {
      "cell_type": "code",
      "execution_count": null,
      "metadata": {},
      "outputs": [],
      "source": [
        "%%cuda\n",
        "#include <iostream>\n",
        "using namespace std;\n",
        "\n",
        "class Student{\n",
        "public:\n",
        "    Student(void){\n",
        "        cout << \"Hello!\" << endl;\n",
        "    }\n",
        "}; //Student\n",
        "\n",
        "Student globStud1;\n",
        "\n",
        "int main(void){\n",
        "    cout << \"\\n ---- Start-of-main-------\" << endl;    \n",
        "    Student localStud1;\n",
        "\n",
        "    Student *sP;\n",
        "    sP= new Student;\n",
        "    delete sP;\n",
        "    cout << \"\\n ---- End-of-main-------\" << endl;\n",
        "}"
      ]
    },
    {
      "cell_type": "markdown",
      "metadata": {},
      "source": [
        "<details> <summary>Aufrufzeitpunkte Lösung</summary>\n",
        "</br>\n",
        "- globale Objekte → vor main() </br>\n",
        "- funktionslokale Objekte → immer wieder beim Betreten (Ausnahme: static)</br>\n",
        "- dynamisch erzeugte Objekte → beim Aufruf von new </br>\n",
        "</details>\n"
      ]
    },
    {
      "cell_type": "markdown",
      "metadata": {},
      "source": [
        "### Konstruktoren: Einführung: Default-Konstruktur:\n",
        "\n",
        "*Kleines Problem:* \n",
        "\n",
        "Sobald **ein** Konstruktor **mit Parametern** von ihnen definiert wurde, müssen sie selbst auch einen Konstruktor **ohne Paramter** (void) definieren -- falls sie ihn benötigen.\n",
        "\n",
        "**Beobachen** sie, folgender Code liefert einen Fehler."
      ]
    },
    {
      "cell_type": "code",
      "execution_count": null,
      "metadata": {},
      "outputs": [],
      "source": [
        "%%cuda\n",
        "#include <iostream>\n",
        "using namespace std;\n",
        "\n",
        "class Student{\n",
        "private:\n",
        "    string name;\n",
        "public:\n",
        "    Student(string name_in){\n",
        "        this->name= name_in;\n",
        "    }\n",
        "}; //Student\n",
        "\n",
        "\n",
        "int main(void){\n",
        "    Student localStud1;\n",
        "    cout << \"...ein Problem?\" << endl;\n",
        "}"
      ]
    },
    {
      "cell_type": "markdown",
      "metadata": {},
      "source": [
        "**3 Lösungen**\n",
        "\n",
        "1. Sie definieren einen zusätzlichen Konstruktor ohne Parameter;\n",
        "2. Sie fügen folgenden Code in die Klasse hinzu: `Student() = default;` -- *Probieren sie es oben!*\n",
        "3. Sie nutzen Standard-(Default-)-Parameterwerte -- *wie sie gleich sehen werden* "
      ]
    },
    {
      "cell_type": "markdown",
      "metadata": {},
      "source": [
        "### Konstruktoren: Einführung: Standard-Parameterwerte:\n",
        "\n",
        "TODO..."
      ]
    }
  ],
  "metadata": {
    "colab": {
      "authorship_tag": "ABX9TyNCN9aN0Q1glU4ix8CPJtSd",
      "gpuType": "T4",
      "include_colab_link": true,
      "provenance": [],
      "toc_visible": true
    },
    "kernelspec": {
      "display_name": "Python 3",
      "name": "python3"
    },
    "language_info": {
      "codemirror_mode": {
        "name": "ipython",
        "version": 3
      },
      "file_extension": ".py",
      "mimetype": "text/x-python",
      "name": "python",
      "nbconvert_exporter": "python",
      "pygments_lexer": "ipython3",
      "version": "3.10.8"
    }
  },
  "nbformat": 4,
  "nbformat_minor": 0
}
