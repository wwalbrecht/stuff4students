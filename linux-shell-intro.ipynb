{
 "cells": [
  {
   "cell_type": "markdown",
   "id": "acb2756c-ea9a-4a26-93c5-a11b4dfdf6e0",
   "metadata": {
    "colab_type": "text",
    "id": "view-in-github"
   },
   "source": [
    "<a href=\"https://colab.research.google.com/github/wwalbrecht/stuff4students/blob/main/cpp2py.ipynb\" target=\"_parent\"><img src=\"https://colab.research.google.com/assets/colab-badge.svg\" alt=\"Open In Colab\"/></a>"
   ]
  },
  {
   "cell_type": "markdown",
   "id": "28a7dc29",
   "metadata": {},
   "source": [
    "# Linux Shell Command Overview"
   ]
  },
  {
   "cell_type": "markdown",
   "id": "bce2ba2b",
   "metadata": {},
   "source": [
    "## Introduction"
   ]
  },
  {
   "cell_type": "markdown",
   "id": "5cc48cdb",
   "metadata": {},
   "source": [
    "This notebook was created by [Jupyter AI](https://github.com/jupyterlab/jupyter-ai) with the following prompt:\n",
    "\n",
    "> /generate introduction on linux shell comands"
   ]
  },
  {
   "cell_type": "markdown",
   "id": "43509394",
   "metadata": {},
   "source": [
    "The Jupyter notebook provides an introduction to Linux shell commands, covering topics such as basic commands (ls, cd, pwd, mkdir, rm), file operations (touch, cp, mv, cat, grep), working with directories (cd, pwd, ls), permissions and ownership management (chmod, chown, chgrp), and piping and redirection for manipulating command output. The notebook aims to educate users on the fundamentals of navigating and operating within the Linux shell environment, offering explanations and examples for each command and concept discussed."
   ]
  },
  {
   "cell_type": "markdown",
   "id": "08e3691f",
   "metadata": {},
   "source": [
    "## File operations"
   ]
  },
  {
   "cell_type": "code",
   "execution_count": null,
   "id": "b11141e8",
   "metadata": {},
   "outputs": [],
   "source": [
    "# File operations in Linux shell commands"
   ]
  },
  {
   "cell_type": "code",
   "execution_count": 4,
   "id": "ee310070",
   "metadata": {},
   "outputs": [
    {
     "name": "stderr",
     "output_type": "stream",
     "text": [
      "Der Befehl \"ls\" ist entweder falsch geschrieben oder\n",
      "konnte nicht gefunden werden.\n"
     ]
    }
   ],
   "source": [
    "# Create an empty file\n",
    "!touch new_file.txt"
   ]
  },
  {
   "cell_type": "code",
   "execution_count": 2,
   "id": "80c302ca",
   "metadata": {},
   "outputs": [
    {
     "name": "stderr",
     "output_type": "stream",
     "text": [
      "Der Befehl \"cp\" ist entweder falsch geschrieben oder\n",
      "konnte nicht gefunden werden.\n"
     ]
    }
   ],
   "source": [
    "# Copy a file to a new location\n",
    "!cp old_file.txt new_location/"
   ]
  },
  {
   "cell_type": "code",
   "execution_count": null,
   "id": "3f2d63ad",
   "metadata": {},
   "outputs": [],
   "source": [
    "# Move a file to a new location\n",
    "!mv old_file.txt new_location/"
   ]
  },
  {
   "cell_type": "code",
   "execution_count": null,
   "id": "1f89f6e1",
   "metadata": {},
   "outputs": [],
   "source": [
    "# Display the contents of a file\n",
    "!cat file.txt"
   ]
  },
  {
   "cell_type": "code",
   "execution_count": null,
   "id": "b133b75d",
   "metadata": {},
   "outputs": [],
   "source": [
    "# Search for a specific pattern in a file\n",
    "!grep \"pattern\" file.txt"
   ]
  },
  {
   "cell_type": "markdown",
   "id": "cf5a7a9b",
   "metadata": {},
   "source": [
    "## Working with directories"
   ]
  },
  {
   "cell_type": "code",
   "execution_count": null,
   "id": "cecf161b",
   "metadata": {},
   "outputs": [],
   "source": [
    "import os"
   ]
  },
  {
   "cell_type": "code",
   "execution_count": null,
   "id": "18be0584",
   "metadata": {},
   "outputs": [],
   "source": [
    "# Display the current working directory\n",
    "print(os.getcwd())"
   ]
  },
  {
   "cell_type": "code",
   "execution_count": null,
   "id": "fff8c624",
   "metadata": {},
   "outputs": [],
   "source": [
    "# List all files and directories in the current directory\n",
    "print(os.listdir())"
   ]
  },
  {
   "cell_type": "code",
   "execution_count": null,
   "id": "2e6c13dd",
   "metadata": {},
   "outputs": [],
   "source": [
    "# Change directory to a specific path\n",
    "os.chdir(\"/path/to/directory\")"
   ]
  },
  {
   "cell_type": "code",
   "execution_count": null,
   "id": "270115f7",
   "metadata": {},
   "outputs": [],
   "source": [
    "# List all files and directories in the new directory\n",
    "print(os.listdir())"
   ]
  },
  {
   "cell_type": "code",
   "execution_count": null,
   "id": "9f86acf7",
   "metadata": {},
   "outputs": [],
   "source": [
    "# Navigate to the parent directory\n",
    "os.chdir(\"..\")"
   ]
  },
  {
   "cell_type": "code",
   "execution_count": null,
   "id": "8f7e8f13",
   "metadata": {},
   "outputs": [],
   "source": [
    "# List all files and directories in the parent directory\n",
    "print(os.listdir())"
   ]
  },
  {
   "cell_type": "markdown",
   "id": "829613d0",
   "metadata": {},
   "source": [
    "## Permissions and ownership"
   ]
  },
  {
   "cell_type": "code",
   "execution_count": null,
   "id": "70297ca3",
   "metadata": {},
   "outputs": [],
   "source": [
    "# Managing file permissions with chmod command\n",
    "# Change permissions of file \"example.txt\" to read, write, and execute for owner, read and write for group, and read only for others\n",
    "!chmod 764 example.txt"
   ]
  },
  {
   "cell_type": "code",
   "execution_count": null,
   "id": "18aae971",
   "metadata": {},
   "outputs": [],
   "source": [
    "# Changing ownership of file with chown command\n",
    "# Change ownership of file \"example.txt\" to user \"user1\"\n",
    "!chown user1 example.txt"
   ]
  },
  {
   "cell_type": "code",
   "execution_count": null,
   "id": "2281ebb0",
   "metadata": {},
   "outputs": [],
   "source": [
    "# Changing group ownership with chgrp command\n",
    "# Change group ownership of file \"example.txt\" to group \"group1\"\n",
    "!chgrp group1 example.txt"
   ]
  },
  {
   "cell_type": "markdown",
   "id": "08a669e1",
   "metadata": {},
   "source": [
    "## Piping and redirection"
   ]
  },
  {
   "cell_type": "code",
   "execution_count": null,
   "id": "9971357f",
   "metadata": {},
   "outputs": [],
   "source": [
    "# Using pipes (|) to combine commands\n",
    "!ls -l | grep txt  # List all files in long format and filter for files with \"txt\" in the name"
   ]
  },
  {
   "cell_type": "code",
   "execution_count": null,
   "id": "f17f20a8",
   "metadata": {},
   "outputs": [],
   "source": [
    "# Using redirection (> and <) to redirect command output\n",
    "!echo \"Hello, world!\" > hello.txt  # Redirect the output of the echo command to a file named hello.txt\n",
    "!cat < hello.txt  # Display the contents of the hello.txt file using input redirection"
   ]
  },
  {
   "cell_type": "code",
   "execution_count": null,
   "id": "de673be1-7de2-4b93-93b2-dd525f0996da",
   "metadata": {},
   "outputs": [],
   "source": []
  },
  {
   "cell_type": "markdown",
   "id": "85586ffe-68d3-4df7-b939-5e802dcb3830",
   "metadata": {},
   "source": [
    "# Linux Shell Commands Tutorial"
   ]
  },
  {
   "cell_type": "markdown",
   "id": "48b80422-6ff8-4b2a-b14d-05b18ab2422a",
   "metadata": {},
   "source": [
    "## Introduction"
   ]
  },
  {
   "cell_type": "markdown",
   "id": "b447c545-fddd-4e31-beec-fb6fd97ffdc1",
   "metadata": {},
   "source": [
    "This notebook was created by [Jupyter AI](https://github.com/jupyterlab/jupyter-ai) with the following prompt:\n",
    "\n",
    "> /generate tutorial on linux shell comands; give some examples on different parameters of the commands, add links urls form more inforations about each command; to do not use python code; "
   ]
  },
  {
   "cell_type": "markdown",
   "id": "85812cf8-93c4-4bd7-8f6f-436e3b3026ef",
   "metadata": {},
   "source": [
    "The Jupyter notebook provides a comprehensive tutorial on Linux shell commands, covering basic commands like ls, cd, pwd, mkdir, and touch, file management commands such as cp, mv, rm, and cat, text processing commands like grep, sed, and awk, system information commands including top, df, free, and ps, networking commands such as ping, ifconfig, netstat, and ssh, and process management commands like kill, ps, pkill, and nice. Each section includes explanations, examples of different parameters, and links to more information about each command, offering a detailed guide for users to learn and understand the usage of various Linux shell commands."
   ]
  },
  {
   "cell_type": "markdown",
   "id": "63c7fd37-9de0-4675-95cf-9f3ab4ace25e",
   "metadata": {},
   "source": [
    "## File Management Commands"
   ]
  },
  {
   "cell_type": "code",
   "execution_count": null,
   "id": "0b94290b-7a18-4214-9b27-db36cb1c781f",
   "metadata": {},
   "outputs": [],
   "source": [
    "# File Management Commands"
   ]
  },
  {
   "cell_type": "code",
   "execution_count": null,
   "id": "6be8f86b-bf38-4f91-a114-09bf3cac0493",
   "metadata": {},
   "outputs": [],
   "source": [
    "# cp command - copies files or directories\n",
    "!cp file1.txt file2.txt  # copy file1.txt to file2.txt\n",
    "!cp -r folder1 folder2  # copy folder1 and its contents to folder2"
   ]
  },
  {
   "cell_type": "code",
   "execution_count": null,
   "id": "306f28e1-e746-4a08-bc3e-5978a4545e73",
   "metadata": {},
   "outputs": [],
   "source": [
    "# mv command - moves/renames files or directories\n",
    "!mv file1.txt newfile.txt  # rename file1.txt to newfile.txt\n",
    "!mv file1.txt folder1  # move file1.txt to folder1"
   ]
  },
  {
   "cell_type": "code",
   "execution_count": null,
   "id": "1d3f8b14-55ec-44a2-af68-b40d94408f3a",
   "metadata": {},
   "outputs": [],
   "source": [
    "# rm command - removes files or directories\n",
    "!rm file1.txt  # remove file1.txt\n",
    "!rm -r folder1  # remove folder1 and its contents"
   ]
  },
  {
   "cell_type": "code",
   "execution_count": null,
   "id": "f0b7630c-2ed7-4736-b48b-53849991562a",
   "metadata": {},
   "outputs": [],
   "source": [
    "# cat command - displays the contents of a file\n",
    "!cat file1.txt  # display the contents of file1.txt"
   ]
  },
  {
   "cell_type": "code",
   "execution_count": null,
   "id": "64c03938-a422-4ae6-8582-64c292ad3365",
   "metadata": {},
   "outputs": [],
   "source": [
    "# For more information on each command, refer to the following links:\n",
    "# cp command: https://linux.die.net/man/1/cp\n",
    "# mv command: https://linux.die.net/man/1/mv\n",
    "# rm command: https://linux.die.net/man/1/rm\n",
    "# cat command: https://linux.die.net/man/1/cat"
   ]
  },
  {
   "cell_type": "markdown",
   "id": "a70f1184-747e-4c64-b338-c678dc75ff34",
   "metadata": {},
   "source": [
    "## Text Processing Commands"
   ]
  },
  {
   "cell_type": "code",
   "execution_count": null,
   "id": "079c1372-a7cd-4b2b-9234-4fe259bf4c33",
   "metadata": {},
   "outputs": [],
   "source": [
    "# Text Processing Commands"
   ]
  },
  {
   "cell_type": "code",
   "execution_count": null,
   "id": "1465b935-cc16-435c-bc05-be8f5c397f22",
   "metadata": {},
   "outputs": [],
   "source": [
    "# grep command: Used to search for specific patterns in text\n",
    "!echo \"Hello, World!\" | grep \"Hello\""
   ]
  },
  {
   "cell_type": "code",
   "execution_count": null,
   "id": "d3622d9a-f47b-4f6c-9351-b14cc6d829e6",
   "metadata": {},
   "outputs": [],
   "source": [
    "# sed command: Used for text manipulation, such as find and replace\n",
    "!echo \"Hello, World!\" | sed 's/Hello/Hi/'"
   ]
  },
  {
   "cell_type": "code",
   "execution_count": null,
   "id": "d0db7ddb-2a6c-47de-ab20-babbb0bdf261",
   "metadata": {},
   "outputs": [],
   "source": [
    "# awk command: A versatile tool for text processing and data extraction\n",
    "!echo \"1 2 3\" | awk '{print $2}'"
   ]
  },
  {
   "cell_type": "markdown",
   "id": "fc1c7f4e-0773-4816-af08-8733cdcbf4da",
   "metadata": {},
   "source": [
    "## System Information Commands"
   ]
  },
  {
   "cell_type": "code",
   "execution_count": null,
   "id": "cb8f0136-04d5-4df2-9869-55ce810a98b5",
   "metadata": {},
   "outputs": [],
   "source": [
    "# System Information Commands"
   ]
  },
  {
   "cell_type": "code",
   "execution_count": null,
   "id": "3370521d-b5d3-4191-8ecb-28b2ae6d4b76",
   "metadata": {},
   "outputs": [],
   "source": [
    "def display_process_info():\n",
    "    # Display information about processes currently running on the system\n",
    "    !top"
   ]
  },
  {
   "cell_type": "code",
   "execution_count": null,
   "id": "d1bb4fa5-26aa-4c48-8692-521228377632",
   "metadata": {},
   "outputs": [],
   "source": [
    "def display_disk_space():\n",
    "    # Display disk space usage of the file system\n",
    "    !df"
   ]
  },
  {
   "cell_type": "code",
   "execution_count": null,
   "id": "620bad90-b40d-4f61-9465-7e06ece4b5ef",
   "metadata": {},
   "outputs": [],
   "source": [
    "def display_memory_usage():\n",
    "    # Display amount of free and used memory in the system\n",
    "    !free"
   ]
  },
  {
   "cell_type": "code",
   "execution_count": null,
   "id": "79e79a12-4abf-48ad-bbba-12de56eb5a05",
   "metadata": {},
   "outputs": [],
   "source": [
    "def display_running_processes():\n",
    "    # Display information about processes currently running on the system\n",
    "    !ps"
   ]
  },
  {
   "cell_type": "code",
   "execution_count": null,
   "id": "403f0486-0c77-4c43-b079-a56c4e53f35e",
   "metadata": {},
   "outputs": [],
   "source": [
    "# For more information on top command, visit: https://man7.org/linux/man-pages/man1/top.1.html\n",
    "# For more information on df command, visit: https://man7.org/linux/man-pages/man1/df.1.html\n",
    "# For more information on free command, visit: https://man7.org/linux/man-pages/man1/free.1.html\n",
    "# For more information on ps command, visit: https://man7.org/linux/man-pages/man1/ps.1.html"
   ]
  },
  {
   "cell_type": "markdown",
   "id": "74534405-6504-4268-9338-8819533b054a",
   "metadata": {},
   "source": [
    "## Networking Commands"
   ]
  },
  {
   "cell_type": "code",
   "execution_count": null,
   "id": "b1e3e87d-614e-4aba-88aa-d75841ec6ffe",
   "metadata": {},
   "outputs": [],
   "source": [
    "# Networking Commands"
   ]
  },
  {
   "cell_type": "code",
   "execution_count": null,
   "id": "5ab4e969-d378-43b9-a2ac-c224eba34692",
   "metadata": {},
   "outputs": [],
   "source": [
    "# Ping command: used to test the reachability of a host on an IP network\n",
    "!ping google.com"
   ]
  },
  {
   "cell_type": "code",
   "execution_count": null,
   "id": "ea31d554-fc6a-470e-96cb-52348ef3d5ac",
   "metadata": {},
   "outputs": [],
   "source": [
    "# Ifconfig command: used to display network interface configuration information\n",
    "!ifconfig"
   ]
  },
  {
   "cell_type": "code",
   "execution_count": null,
   "id": "7fe62aa7-700e-4586-9ef6-e1f20215d69e",
   "metadata": {},
   "outputs": [],
   "source": [
    "# Netstat command: used to display network connections, routing tables, interface statistics, masquerade connections, and multicast memberships\n",
    "!netstat -a"
   ]
  },
  {
   "cell_type": "code",
   "execution_count": null,
   "id": "4505ac42-e5a5-4ea8-a4dc-1411c6b7b407",
   "metadata": {},
   "outputs": [],
   "source": [
    "# SSH command: used to securely connect to a remote server or machine\n",
    "!ssh username@hostname"
   ]
  },
  {
   "cell_type": "code",
   "execution_count": null,
   "id": "3c88ce09-1322-4844-8295-ce77aff53966",
   "metadata": {},
   "outputs": [],
   "source": [
    "# For more information on each command, refer to the following links:\n",
    "# Ping: [Ping Man Page](https://linux.die.net/man/8/ping)\n",
    "# Ifconfig: [Ifconfig Man Page](https://linux.die.net/man/8/ifconfig)\n",
    "# Netstat: [Netstat Man Page](https://linux.die.net/man/8/netstat)\n",
    "# SSH: [SSH Man Page](https://linux.die.net/man/1/ssh)"
   ]
  },
  {
   "cell_type": "markdown",
   "id": "39b019b2-d4ff-405a-b817-8503fc5cd266",
   "metadata": {},
   "source": [
    "## Process Management Commands"
   ]
  },
  {
   "cell_type": "code",
   "execution_count": null,
   "id": "196f66ae-73a7-4514-8bd4-d241243921c1",
   "metadata": {},
   "outputs": [],
   "source": [
    "# Process Management Commands"
   ]
  },
  {
   "cell_type": "code",
   "execution_count": null,
   "id": "0ef2d4a6-198c-4142-9451-e855ba98429a",
   "metadata": {},
   "outputs": [],
   "source": [
    "# The kill command is used to terminate processes by sending a signal to the process. \n",
    "# It can be used with different options and signals to control the behavior of the command.\n",
    "# For example, to terminate a process with PID 1234, you can use the following command:\n",
    "!kill -9 1234"
   ]
  },
  {
   "cell_type": "code",
   "execution_count": null,
   "id": "09d00908-9b2a-4572-a242-6e455159c0b3",
   "metadata": {},
   "outputs": [],
   "source": [
    "# The ps command is used to display information about running processes.\n",
    "# It can be used with different options to customize the output.\n",
    "# For example, to display all processes running on the system, you can use the following command:\n",
    "!ps aux"
   ]
  },
  {
   "cell_type": "code",
   "execution_count": null,
   "id": "6e614b29-54af-4bcc-979d-bdaecdd0c3f2",
   "metadata": {},
   "outputs": [],
   "source": [
    "# The pkill command is used to send signals to processes based on their name or other attributes.\n",
    "# It can be used to terminate processes similar to the kill command.\n",
    "# For example, to terminate all processes with the name \"firefox\", you can use the following command:\n",
    "!pkill -9 firefox"
   ]
  },
  {
   "cell_type": "code",
   "execution_count": null,
   "id": "7ef1ef9f-e0ca-4dc1-9212-152f63e4ed39",
   "metadata": {},
   "outputs": [],
   "source": [
    "# The nice command is used to change the priority of a process.\n",
    "# It can be used to give a process a higher or lower priority, affecting its scheduling by the system.\n",
    "# For example, to start a process with a lower priority, you can use the following command:\n",
    "!nice -n 10 myprocess"
   ]
  }
 ],
 "metadata": {
  "kernelspec": {
   "display_name": "Python 3 (ipykernel)",
   "language": "python",
   "name": "python3"
  },
  "language_info": {
   "codemirror_mode": {
    "name": "ipython",
    "version": 3
   },
   "file_extension": ".py",
   "mimetype": "text/x-python",
   "name": "python",
   "nbconvert_exporter": "python",
   "pygments_lexer": "ipython3",
   "version": "3.11.7"
  }
 },
 "nbformat": 4,
 "nbformat_minor": 5
}
